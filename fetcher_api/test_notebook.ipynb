{
 "cells": [
  {
   "cell_type": "code",
   "execution_count": 1,
   "metadata": {},
   "outputs": [
    {
     "name": "stdout",
     "output_type": "stream",
     "text": [
      "Collecting pyinaturalist\n",
      "  Downloading pyinaturalist-0.15.0-py3-none-any.whl (109 kB)\n",
      "\u001b[K     |████████████████████████████████| 109 kB 11.6 MB/s eta 0:00:01\n",
      "\u001b[?25hRequirement already satisfied: python-dateutil>=2.0 in /home/sunnysoni/Documents/kr_web_assignment/py_env/lib/python3.8/site-packages (from pyinaturalist) (2.8.2)\n",
      "Collecting requests-ratelimiter>=0.2.1\n",
      "  Downloading requests_ratelimiter-0.2.1-py3-none-any.whl (5.8 kB)\n",
      "Collecting requests>=2.20\n",
      "  Downloading requests-2.27.1-py2.py3-none-any.whl (63 kB)\n",
      "\u001b[K     |████████████████████████████████| 63 kB 1.5 MB/s eta 0:00:011\n",
      "\u001b[?25hCollecting appdirs>=1.4\n",
      "  Downloading appdirs-1.4.4-py2.py3-none-any.whl (9.6 kB)\n",
      "Collecting requests-cache<0.8.0,>=0.7.4\n",
      "  Downloading requests_cache-0.7.5-py3-none-any.whl (39 kB)\n",
      "Collecting keyring>=22.3\n",
      "  Downloading keyring-23.5.0-py3-none-any.whl (33 kB)\n",
      "Collecting python-forge>=18.6\n",
      "  Downloading python_forge-18.6.0-py35-none-any.whl (31 kB)\n",
      "Requirement already satisfied: attrs>=21.2 in /home/sunnysoni/Documents/kr_web_assignment/py_env/lib/python3.8/site-packages (from pyinaturalist) (21.4.0)\n",
      "Collecting rich>=10.0\n",
      "  Downloading rich-11.2.0-py3-none-any.whl (217 kB)\n",
      "\u001b[K     |████████████████████████████████| 217 kB 11.3 MB/s eta 0:00:01\n",
      "\u001b[?25hRequirement already satisfied: six>=1.5 in /home/sunnysoni/Documents/kr_web_assignment/py_env/lib/python3.8/site-packages (from python-dateutil>=2.0->pyinaturalist) (1.16.0)\n",
      "Collecting pyrate-limiter<3.0,>=2.3\n",
      "  Downloading pyrate-limiter-2.6.0.tar.gz (16 kB)\n",
      "  Installing build dependencies ... \u001b[?25ldone\n",
      "\u001b[?25h  Getting requirements to build wheel ... \u001b[?25ldone\n",
      "\u001b[?25h    Preparing wheel metadata ... \u001b[?25ldone\n",
      "\u001b[?25hCollecting certifi>=2017.4.17\n",
      "  Using cached certifi-2021.10.8-py2.py3-none-any.whl (149 kB)\n",
      "Collecting urllib3<1.27,>=1.21.1\n",
      "  Using cached urllib3-1.26.8-py2.py3-none-any.whl (138 kB)\n",
      "Collecting idna<4,>=2.5; python_version >= \"3\"\n",
      "  Using cached idna-3.3-py3-none-any.whl (61 kB)\n",
      "Collecting charset-normalizer~=2.0.0; python_version >= \"3\"\n",
      "  Using cached charset_normalizer-2.0.12-py3-none-any.whl (39 kB)\n",
      "Collecting pyyaml>=5.4\n",
      "  Downloading PyYAML-6.0-cp38-cp38-manylinux_2_5_x86_64.manylinux1_x86_64.manylinux_2_12_x86_64.manylinux2010_x86_64.whl (701 kB)\n",
      "\u001b[K     |████████████████████████████████| 701 kB 14.5 MB/s eta 0:00:01\n",
      "\u001b[?25hCollecting url-normalize<2.0,>=1.4\n",
      "  Downloading url_normalize-1.4.3-py2.py3-none-any.whl (6.8 kB)\n",
      "Collecting itsdangerous>=2.0.1\n",
      "  Downloading itsdangerous-2.1.0-py3-none-any.whl (15 kB)\n",
      "Collecting importlib-metadata>=3.6\n",
      "  Using cached importlib_metadata-4.11.1-py3-none-any.whl (17 kB)\n",
      "Collecting SecretStorage>=3.2; sys_platform == \"linux\"\n",
      "  Using cached SecretStorage-3.3.1-py3-none-any.whl (15 kB)\n",
      "Collecting jeepney>=0.4.2; sys_platform == \"linux\"\n",
      "  Using cached jeepney-0.7.1-py3-none-any.whl (54 kB)\n",
      "Collecting colorama<0.5.0,>=0.4.0\n",
      "  Downloading colorama-0.4.4-py2.py3-none-any.whl (16 kB)\n",
      "Collecting commonmark<0.10.0,>=0.9.0\n",
      "  Downloading commonmark-0.9.1-py2.py3-none-any.whl (51 kB)\n",
      "\u001b[K     |████████████████████████████████| 51 kB 8.5 MB/s  eta 0:00:01\n",
      "\u001b[?25hRequirement already satisfied: pygments<3.0.0,>=2.6.0 in /home/sunnysoni/Documents/kr_web_assignment/py_env/lib/python3.8/site-packages (from rich>=10.0->pyinaturalist) (2.11.2)\n",
      "Requirement already satisfied: zipp>=0.5 in /home/sunnysoni/Documents/kr_web_assignment/py_env/lib/python3.8/site-packages (from importlib-metadata>=3.6->keyring>=22.3->pyinaturalist) (3.7.0)\n",
      "Collecting cryptography>=2.0\n",
      "  Using cached cryptography-36.0.1-cp36-abi3-manylinux_2_17_x86_64.manylinux2014_x86_64.whl (3.8 MB)\n",
      "Requirement already satisfied: cffi>=1.12 in /home/sunnysoni/Documents/kr_web_assignment/py_env/lib/python3.8/site-packages (from cryptography>=2.0->SecretStorage>=3.2; sys_platform == \"linux\"->keyring>=22.3->pyinaturalist) (1.15.0)\n",
      "Requirement already satisfied: pycparser in /home/sunnysoni/Documents/kr_web_assignment/py_env/lib/python3.8/site-packages (from cffi>=1.12->cryptography>=2.0->SecretStorage>=3.2; sys_platform == \"linux\"->keyring>=22.3->pyinaturalist) (2.21)\n",
      "Building wheels for collected packages: pyrate-limiter\n",
      "  Building wheel for pyrate-limiter (PEP 517) ... \u001b[?25ldone\n",
      "\u001b[?25h  Created wheel for pyrate-limiter: filename=pyrate_limiter-2.6.0-py3-none-any.whl size=15020 sha256=5072e97128877c613b5b87628585c9dd668752646f7493108611b9eaaa328cb1\n",
      "  Stored in directory: /home/sunnysoni/.cache/pip/wheels/20/02/a7/0061a8465d6cbf40490aa9d5717d5951ebc885d5c930406a46\n",
      "Successfully built pyrate-limiter\n",
      "Installing collected packages: pyrate-limiter, certifi, urllib3, idna, charset-normalizer, requests, requests-ratelimiter, appdirs, pyyaml, url-normalize, itsdangerous, requests-cache, importlib-metadata, cryptography, jeepney, SecretStorage, keyring, python-forge, colorama, commonmark, rich, pyinaturalist\n",
      "Successfully installed SecretStorage-3.3.1 appdirs-1.4.4 certifi-2021.10.8 charset-normalizer-2.0.12 colorama-0.4.4 commonmark-0.9.1 cryptography-36.0.1 idna-3.3 importlib-metadata-4.11.1 itsdangerous-2.1.0 jeepney-0.7.1 keyring-23.5.0 pyinaturalist-0.15.0 pyrate-limiter-2.6.0 python-forge-18.6.0 pyyaml-6.0 requests-2.27.1 requests-cache-0.7.5 requests-ratelimiter-0.2.1 rich-11.2.0 url-normalize-1.4.3 urllib3-1.26.8\n"
     ]
    }
   ],
   "source": [
    "!pip install pyinaturalist"
   ]
  },
  {
   "cell_type": "code",
   "execution_count": 70,
   "metadata": {},
   "outputs": [],
   "source": [
    "import pyinaturalist as api_inat"
   ]
  },
  {
   "cell_type": "code",
   "execution_count": 122,
   "metadata": {},
   "outputs": [],
   "source": [
    "from rich import print\n",
    "\n",
    "response = api_inat.get_observation_species_counts(taxon_id='786045',quality_grade='research')\n",
    "obs_array = api_inat.Observation.from_json_list(response)"
   ]
  },
  {
   "cell_type": "code",
   "execution_count": 124,
   "metadata": {},
   "outputs": [
    {
     "data": {
      "text/html": [
       "<pre style=\"white-space:pre;overflow-x:auto;line-height:normal;font-family:Menlo,'DejaVu Sans Mono',consolas,'Courier New',monospace\"><span style=\"color: #008080; text-decoration-color: #008080; font-weight: bold\">287</span> species retrieved\n",
       "</pre>\n"
      ],
      "text/plain": [
       "\u001b[1;36m287\u001b[0m species retrieved\n"
      ]
     },
     "metadata": {},
     "output_type": "display_data"
    }
   ],
   "source": [
    "print(str(len(obs_array)) + ' species retrieved')"
   ]
  },
  {
   "cell_type": "code",
   "execution_count": 127,
   "metadata": {},
   "outputs": [
    {
     "data": {
      "text/html": [
       "<pre style=\"white-space:pre;overflow-x:auto;line-height:normal;font-family:Menlo,'DejaVu Sans Mono',consolas,'Courier New',monospace\">List of species with common name, scientific name and list of places where it is found : \n",
       "</pre>\n"
      ],
      "text/plain": [
       "List of species with common name, scientific name and list of places where it is found : \n"
      ]
     },
     "metadata": {},
     "output_type": "display_data"
    },
    {
     "data": {
      "text/html": [
       "<pre style=\"white-space:pre;overflow-x:auto;line-height:normal;font-family:Menlo,'DejaVu Sans Mono',consolas,'Courier New',monospace\">-----NUMBER <span style=\"color: #008080; text-decoration-color: #008080; font-weight: bold\">1</span>-----\n",
       "</pre>\n"
      ],
      "text/plain": [
       "-----NUMBER \u001b[1;36m1\u001b[0m-----\n"
      ]
     },
     "metadata": {},
     "output_type": "display_data"
    },
    {
     "data": {
      "text/html": [
       "<pre style=\"white-space:pre;overflow-x:auto;line-height:normal;font-family:Menlo,'DejaVu Sans Mono',consolas,'Courier New',monospace\">Preferred Common Name : Long-tailed Macaque\n",
       "</pre>\n"
      ],
      "text/plain": [
       "Preferred Common Name : Long-tailed Macaque\n"
      ]
     },
     "metadata": {},
     "output_type": "display_data"
    },
    {
     "data": {
      "text/html": [
       "<pre style=\"white-space:pre;overflow-x:auto;line-height:normal;font-family:Menlo,'DejaVu Sans Mono',consolas,'Courier New',monospace\">Preferred Scientific Name : Macaca fascicularis\n",
       "</pre>\n"
      ],
      "text/plain": [
       "Preferred Scientific Name : Macaca fascicularis\n"
      ]
     },
     "metadata": {},
     "output_type": "display_data"
    },
    {
     "data": {
      "text/html": [
       "<pre style=\"white-space:pre;overflow-x:auto;line-height:normal;font-family:Menlo,'DejaVu Sans Mono',consolas,'Courier New',monospace\">Places where it is found :  Mauritius , Palau , South Africa , Port Louis , Savanne , Moka , \n",
       "Grand Port , Black River , Angaur , Plaines Wilhems , Flacq , Asia , Singapore , \n",
       "</pre>\n"
      ],
      "text/plain": [
       "Places where it is found :  Mauritius , Palau , South Africa , Port Louis , Savanne , Moka , \n",
       "Grand Port , Black River , Angaur , Plaines Wilhems , Flacq , Asia , Singapore , \n"
      ]
     },
     "metadata": {},
     "output_type": "display_data"
    },
    {
     "data": {
      "text/html": [
       "<pre style=\"white-space:pre;overflow-x:auto;line-height:normal;font-family:Menlo,'DejaVu Sans Mono',consolas,'Courier New',monospace\">-----NUMBER <span style=\"color: #008080; text-decoration-color: #008080; font-weight: bold\">2</span>-----\n",
       "</pre>\n"
      ],
      "text/plain": [
       "-----NUMBER \u001b[1;36m2\u001b[0m-----\n"
      ]
     },
     "metadata": {},
     "output_type": "display_data"
    },
    {
     "data": {
      "text/html": [
       "<pre style=\"white-space:pre;overflow-x:auto;line-height:normal;font-family:Menlo,'DejaVu Sans Mono',consolas,'Courier New',monospace\">Preferred Common Name : Mantled Howler Monkey\n",
       "</pre>\n"
      ],
      "text/plain": [
       "Preferred Common Name : Mantled Howler Monkey\n"
      ]
     },
     "metadata": {},
     "output_type": "display_data"
    },
    {
     "data": {
      "text/html": [
       "<pre style=\"white-space:pre;overflow-x:auto;line-height:normal;font-family:Menlo,'DejaVu Sans Mono',consolas,'Courier New',monospace\">Preferred Scientific Name : Alouatta palliata\n",
       "</pre>\n"
      ],
      "text/plain": [
       "Preferred Scientific Name : Alouatta palliata\n"
      ]
     },
     "metadata": {},
     "output_type": "display_data"
    },
    {
     "data": {
      "text/html": [
       "<pre style=\"white-space:pre;overflow-x:auto;line-height:normal;font-family:Menlo,'DejaVu Sans Mono',consolas,'Courier New',monospace\">Places where it is found :  Tuxtla Gutiérrez , South America , North America , Mexico , \n",
       "Ecuador , \n",
       "</pre>\n"
      ],
      "text/plain": [
       "Places where it is found :  Tuxtla Gutiérrez , South America , North America , Mexico , \n",
       "Ecuador , \n"
      ]
     },
     "metadata": {},
     "output_type": "display_data"
    },
    {
     "data": {
      "text/html": [
       "<pre style=\"white-space:pre;overflow-x:auto;line-height:normal;font-family:Menlo,'DejaVu Sans Mono',consolas,'Courier New',monospace\">-----NUMBER <span style=\"color: #008080; text-decoration-color: #008080; font-weight: bold\">3</span>-----\n",
       "</pre>\n"
      ],
      "text/plain": [
       "-----NUMBER \u001b[1;36m3\u001b[0m-----\n"
      ]
     },
     "metadata": {},
     "output_type": "display_data"
    },
    {
     "data": {
      "text/html": [
       "<pre style=\"white-space:pre;overflow-x:auto;line-height:normal;font-family:Menlo,'DejaVu Sans Mono',consolas,'Courier New',monospace\">Preferred Common Name : Vervet Monkey\n",
       "</pre>\n"
      ],
      "text/plain": [
       "Preferred Common Name : Vervet Monkey\n"
      ]
     },
     "metadata": {},
     "output_type": "display_data"
    },
    {
     "data": {
      "text/html": [
       "<pre style=\"white-space:pre;overflow-x:auto;line-height:normal;font-family:Menlo,'DejaVu Sans Mono',consolas,'Courier New',monospace\">Preferred Scientific Name : Chlorocebus pygerythrus\n",
       "</pre>\n"
      ],
      "text/plain": [
       "Preferred Scientific Name : Chlorocebus pygerythrus\n"
      ]
     },
     "metadata": {},
     "output_type": "display_data"
    },
    {
     "data": {
      "text/html": [
       "<pre style=\"white-space:pre;overflow-x:auto;line-height:normal;font-family:Menlo,'DejaVu Sans Mono',consolas,'Courier New',monospace\">Places where it is found :  Thailand , United States , \n",
       "</pre>\n"
      ],
      "text/plain": [
       "Places where it is found :  Thailand , United States , \n"
      ]
     },
     "metadata": {},
     "output_type": "display_data"
    },
    {
     "data": {
      "text/html": [
       "<pre style=\"white-space:pre;overflow-x:auto;line-height:normal;font-family:Menlo,'DejaVu Sans Mono',consolas,'Courier New',monospace\">-----NUMBER <span style=\"color: #008080; text-decoration-color: #008080; font-weight: bold\">4</span>-----\n",
       "</pre>\n"
      ],
      "text/plain": [
       "-----NUMBER \u001b[1;36m4\u001b[0m-----\n"
      ]
     },
     "metadata": {},
     "output_type": "display_data"
    },
    {
     "data": {
      "text/html": [
       "<pre style=\"white-space:pre;overflow-x:auto;line-height:normal;font-family:Menlo,'DejaVu Sans Mono',consolas,'Courier New',monospace\">Preferred Common Name : Chacma Baboon\n",
       "</pre>\n"
      ],
      "text/plain": [
       "Preferred Common Name : Chacma Baboon\n"
      ]
     },
     "metadata": {},
     "output_type": "display_data"
    },
    {
     "data": {
      "text/html": [
       "<pre style=\"white-space:pre;overflow-x:auto;line-height:normal;font-family:Menlo,'DejaVu Sans Mono',consolas,'Courier New',monospace\">Preferred Scientific Name : Papio ursinus\n",
       "</pre>\n"
      ],
      "text/plain": [
       "Preferred Scientific Name : Papio ursinus\n"
      ]
     },
     "metadata": {},
     "output_type": "display_data"
    },
    {
     "data": {
      "text/html": [
       "<pre style=\"white-space:pre;overflow-x:auto;line-height:normal;font-family:Menlo,'DejaVu Sans Mono',consolas,'Courier New',monospace\">Places where it is found :  \n",
       "</pre>\n"
      ],
      "text/plain": [
       "Places where it is found :  \n"
      ]
     },
     "metadata": {},
     "output_type": "display_data"
    },
    {
     "data": {
      "text/html": [
       "<pre style=\"white-space:pre;overflow-x:auto;line-height:normal;font-family:Menlo,'DejaVu Sans Mono',consolas,'Courier New',monospace\">-----NUMBER <span style=\"color: #008080; text-decoration-color: #008080; font-weight: bold\">5</span>-----\n",
       "</pre>\n"
      ],
      "text/plain": [
       "-----NUMBER \u001b[1;36m5\u001b[0m-----\n"
      ]
     },
     "metadata": {},
     "output_type": "display_data"
    },
    {
     "data": {
      "text/html": [
       "<pre style=\"white-space:pre;overflow-x:auto;line-height:normal;font-family:Menlo,'DejaVu Sans Mono',consolas,'Courier New',monospace\">Preferred Common Name : White-throated Capuchin\n",
       "</pre>\n"
      ],
      "text/plain": [
       "Preferred Common Name : White-throated Capuchin\n"
      ]
     },
     "metadata": {},
     "output_type": "display_data"
    },
    {
     "data": {
      "text/html": [
       "<pre style=\"white-space:pre;overflow-x:auto;line-height:normal;font-family:Menlo,'DejaVu Sans Mono',consolas,'Courier New',monospace\">Preferred Scientific Name : Cebus capucinus\n",
       "</pre>\n"
      ],
      "text/plain": [
       "Preferred Scientific Name : Cebus capucinus\n"
      ]
     },
     "metadata": {},
     "output_type": "display_data"
    },
    {
     "data": {
      "text/html": [
       "<pre style=\"white-space:pre;overflow-x:auto;line-height:normal;font-family:Menlo,'DejaVu Sans Mono',consolas,'Courier New',monospace\">Places where it is found :  Zoológico de Chapultepec , North America , \n",
       "</pre>\n"
      ],
      "text/plain": [
       "Places where it is found :  Zoológico de Chapultepec , North America , \n"
      ]
     },
     "metadata": {},
     "output_type": "display_data"
    },
    {
     "data": {
      "text/html": [
       "<pre style=\"white-space:pre;overflow-x:auto;line-height:normal;font-family:Menlo,'DejaVu Sans Mono',consolas,'Courier New',monospace\">-----NUMBER <span style=\"color: #008080; text-decoration-color: #008080; font-weight: bold\">6</span>-----\n",
       "</pre>\n"
      ],
      "text/plain": [
       "-----NUMBER \u001b[1;36m6\u001b[0m-----\n"
      ]
     },
     "metadata": {},
     "output_type": "display_data"
    },
    {
     "data": {
      "text/html": [
       "<pre style=\"white-space:pre;overflow-x:auto;line-height:normal;font-family:Menlo,'DejaVu Sans Mono',consolas,'Courier New',monospace\">Preferred Common Name : Central American Spider Monkey\n",
       "</pre>\n"
      ],
      "text/plain": [
       "Preferred Common Name : Central American Spider Monkey\n"
      ]
     },
     "metadata": {},
     "output_type": "display_data"
    },
    {
     "data": {
      "text/html": [
       "<pre style=\"white-space:pre;overflow-x:auto;line-height:normal;font-family:Menlo,'DejaVu Sans Mono',consolas,'Courier New',monospace\">Preferred Scientific Name : Ateles geoffroyi\n",
       "</pre>\n"
      ],
      "text/plain": [
       "Preferred Scientific Name : Ateles geoffroyi\n"
      ]
     },
     "metadata": {},
     "output_type": "display_data"
    },
    {
     "data": {
      "text/html": [
       "<pre style=\"white-space:pre;overflow-x:auto;line-height:normal;font-family:Menlo,'DejaVu Sans Mono',consolas,'Courier New',monospace\">Places where it is found :  \n",
       "</pre>\n"
      ],
      "text/plain": [
       "Places where it is found :  \n"
      ]
     },
     "metadata": {},
     "output_type": "display_data"
    },
    {
     "data": {
      "text/html": [
       "<pre style=\"white-space:pre;overflow-x:auto;line-height:normal;font-family:Menlo,'DejaVu Sans Mono',consolas,'Courier New',monospace\">-----NUMBER <span style=\"color: #008080; text-decoration-color: #008080; font-weight: bold\">7</span>-----\n",
       "</pre>\n"
      ],
      "text/plain": [
       "-----NUMBER \u001b[1;36m7\u001b[0m-----\n"
      ]
     },
     "metadata": {},
     "output_type": "display_data"
    },
    {
     "data": {
      "text/html": [
       "<pre style=\"white-space:pre;overflow-x:auto;line-height:normal;font-family:Menlo,'DejaVu Sans Mono',consolas,'Courier New',monospace\">Preferred Common Name : Rhesus Macaque\n",
       "</pre>\n"
      ],
      "text/plain": [
       "Preferred Common Name : Rhesus Macaque\n"
      ]
     },
     "metadata": {},
     "output_type": "display_data"
    },
    {
     "data": {
      "text/html": [
       "<pre style=\"white-space:pre;overflow-x:auto;line-height:normal;font-family:Menlo,'DejaVu Sans Mono',consolas,'Courier New',monospace\">Preferred Scientific Name : Macaca mulatta\n",
       "</pre>\n"
      ],
      "text/plain": [
       "Preferred Scientific Name : Macaca mulatta\n"
      ]
     },
     "metadata": {},
     "output_type": "display_data"
    },
    {
     "data": {
      "text/html": [
       "<pre style=\"white-space:pre;overflow-x:auto;line-height:normal;font-family:Menlo,'DejaVu Sans Mono',consolas,'Courier New',monospace\">Places where it is found :  North America , United States , Trujillo Alto , Florida , Manatí \n",
       ", Putnam , Marion , Lake , Polk , Longleaf Pine Savanna Ecosystem , Greater Antilles , \n",
       "Central Florida Ridges &amp; Uplands , Eastern United States , Texas and Florida , North Central \n",
       "Florida , Eastern Beach and Lagoons , US Eastern States , Central Florida , \n",
       "</pre>\n"
      ],
      "text/plain": [
       "Places where it is found :  North America , United States , Trujillo Alto , Florida , Manatí \n",
       ", Putnam , Marion , Lake , Polk , Longleaf Pine Savanna Ecosystem , Greater Antilles , \n",
       "Central Florida Ridges & Uplands , Eastern United States , Texas and Florida , North Central \n",
       "Florida , Eastern Beach and Lagoons , US Eastern States , Central Florida , \n"
      ]
     },
     "metadata": {},
     "output_type": "display_data"
    },
    {
     "data": {
      "text/html": [
       "<pre style=\"white-space:pre;overflow-x:auto;line-height:normal;font-family:Menlo,'DejaVu Sans Mono',consolas,'Courier New',monospace\">-----NUMBER <span style=\"color: #008080; text-decoration-color: #008080; font-weight: bold\">8</span>-----\n",
       "</pre>\n"
      ],
      "text/plain": [
       "-----NUMBER \u001b[1;36m8\u001b[0m-----\n"
      ]
     },
     "metadata": {},
     "output_type": "display_data"
    },
    {
     "data": {
      "text/html": [
       "<pre style=\"white-space:pre;overflow-x:auto;line-height:normal;font-family:Menlo,'DejaVu Sans Mono',consolas,'Courier New',monospace\">Preferred Common Name : Olive Baboon\n",
       "</pre>\n"
      ],
      "text/plain": [
       "Preferred Common Name : Olive Baboon\n"
      ]
     },
     "metadata": {},
     "output_type": "display_data"
    },
    {
     "data": {
      "text/html": [
       "<pre style=\"white-space:pre;overflow-x:auto;line-height:normal;font-family:Menlo,'DejaVu Sans Mono',consolas,'Courier New',monospace\">Preferred Scientific Name : Papio anubis\n",
       "</pre>\n"
      ],
      "text/plain": [
       "Preferred Scientific Name : Papio anubis\n"
      ]
     },
     "metadata": {},
     "output_type": "display_data"
    },
    {
     "data": {
      "text/html": [
       "<pre style=\"white-space:pre;overflow-x:auto;line-height:normal;font-family:Menlo,'DejaVu Sans Mono',consolas,'Courier New',monospace\">Places where it is found :  \n",
       "</pre>\n"
      ],
      "text/plain": [
       "Places where it is found :  \n"
      ]
     },
     "metadata": {},
     "output_type": "display_data"
    },
    {
     "data": {
      "text/html": [
       "<pre style=\"white-space:pre;overflow-x:auto;line-height:normal;font-family:Menlo,'DejaVu Sans Mono',consolas,'Courier New',monospace\">-----NUMBER <span style=\"color: #008080; text-decoration-color: #008080; font-weight: bold\">9</span>-----\n",
       "</pre>\n"
      ],
      "text/plain": [
       "-----NUMBER \u001b[1;36m9\u001b[0m-----\n"
      ]
     },
     "metadata": {},
     "output_type": "display_data"
    },
    {
     "data": {
      "text/html": [
       "<pre style=\"white-space:pre;overflow-x:auto;line-height:normal;font-family:Menlo,'DejaVu Sans Mono',consolas,'Courier New',monospace\">Preferred Common Name : Yucatán Black Howler Monkey\n",
       "</pre>\n"
      ],
      "text/plain": [
       "Preferred Common Name : Yucatán Black Howler Monkey\n"
      ]
     },
     "metadata": {},
     "output_type": "display_data"
    },
    {
     "data": {
      "text/html": [
       "<pre style=\"white-space:pre;overflow-x:auto;line-height:normal;font-family:Menlo,'DejaVu Sans Mono',consolas,'Courier New',monospace\">Preferred Scientific Name : Alouatta pigra\n",
       "</pre>\n"
      ],
      "text/plain": [
       "Preferred Scientific Name : Alouatta pigra\n"
      ]
     },
     "metadata": {},
     "output_type": "display_data"
    },
    {
     "data": {
      "text/html": [
       "<pre style=\"white-space:pre;overflow-x:auto;line-height:normal;font-family:Menlo,'DejaVu Sans Mono',consolas,'Courier New',monospace\">Places where it is found :  North America , Mexico , Guatemala , \n",
       "</pre>\n"
      ],
      "text/plain": [
       "Places where it is found :  North America , Mexico , Guatemala , \n"
      ]
     },
     "metadata": {},
     "output_type": "display_data"
    },
    {
     "data": {
      "text/html": [
       "<pre style=\"white-space:pre;overflow-x:auto;line-height:normal;font-family:Menlo,'DejaVu Sans Mono',consolas,'Courier New',monospace\">-----NUMBER <span style=\"color: #008080; text-decoration-color: #008080; font-weight: bold\">10</span>-----\n",
       "</pre>\n"
      ],
      "text/plain": [
       "-----NUMBER \u001b[1;36m10\u001b[0m-----\n"
      ]
     },
     "metadata": {},
     "output_type": "display_data"
    },
    {
     "data": {
      "text/html": [
       "<pre style=\"white-space:pre;overflow-x:auto;line-height:normal;font-family:Menlo,'DejaVu Sans Mono',consolas,'Courier New',monospace\">Preferred Common Name : Formosan Rock Macaque\n",
       "</pre>\n"
      ],
      "text/plain": [
       "Preferred Common Name : Formosan Rock Macaque\n"
      ]
     },
     "metadata": {},
     "output_type": "display_data"
    },
    {
     "data": {
      "text/html": [
       "<pre style=\"white-space:pre;overflow-x:auto;line-height:normal;font-family:Menlo,'DejaVu Sans Mono',consolas,'Courier New',monospace\">Preferred Scientific Name : Macaca cyclopis\n",
       "</pre>\n"
      ],
      "text/plain": [
       "Preferred Scientific Name : Macaca cyclopis\n"
      ]
     },
     "metadata": {},
     "output_type": "display_data"
    },
    {
     "data": {
      "text/html": [
       "<pre style=\"white-space:pre;overflow-x:auto;line-height:normal;font-family:Menlo,'DejaVu Sans Mono',consolas,'Courier New',monospace\">Places where it is found :  Asia , Taiwan , Japan , Aichi , Mie , Wakayama , Osaka , Aomori ,\n",
       "Shizuoka , \n",
       "</pre>\n"
      ],
      "text/plain": [
       "Places where it is found :  Asia , Taiwan , Japan , Aichi , Mie , Wakayama , Osaka , Aomori ,\n",
       "Shizuoka , \n"
      ]
     },
     "metadata": {},
     "output_type": "display_data"
    },
    {
     "data": {
      "text/html": [
       "<pre style=\"white-space:pre;overflow-x:auto;line-height:normal;font-family:Menlo,'DejaVu Sans Mono',consolas,'Courier New',monospace\">-----NUMBER <span style=\"color: #008080; text-decoration-color: #008080; font-weight: bold\">11</span>-----\n",
       "</pre>\n"
      ],
      "text/plain": [
       "-----NUMBER \u001b[1;36m11\u001b[0m-----\n"
      ]
     },
     "metadata": {},
     "output_type": "display_data"
    },
    {
     "data": {
      "text/html": [
       "<pre style=\"white-space:pre;overflow-x:auto;line-height:normal;font-family:Menlo,'DejaVu Sans Mono',consolas,'Courier New',monospace\">Preferred Common Name : Blue Monkey\n",
       "</pre>\n"
      ],
      "text/plain": [
       "Preferred Common Name : Blue Monkey\n"
      ]
     },
     "metadata": {},
     "output_type": "display_data"
    },
    {
     "data": {
      "text/html": [
       "<pre style=\"white-space:pre;overflow-x:auto;line-height:normal;font-family:Menlo,'DejaVu Sans Mono',consolas,'Courier New',monospace\">Preferred Scientific Name : Cercopithecus mitis\n",
       "</pre>\n"
      ],
      "text/plain": [
       "Preferred Scientific Name : Cercopithecus mitis\n"
      ]
     },
     "metadata": {},
     "output_type": "display_data"
    },
    {
     "data": {
      "text/html": [
       "<pre style=\"white-space:pre;overflow-x:auto;line-height:normal;font-family:Menlo,'DejaVu Sans Mono',consolas,'Courier New',monospace\">Places where it is found :  Baleares , Africa , \n",
       "</pre>\n"
      ],
      "text/plain": [
       "Places where it is found :  Baleares , Africa , \n"
      ]
     },
     "metadata": {},
     "output_type": "display_data"
    },
    {
     "data": {
      "text/html": [
       "<pre style=\"white-space:pre;overflow-x:auto;line-height:normal;font-family:Menlo,'DejaVu Sans Mono',consolas,'Courier New',monospace\">-----NUMBER <span style=\"color: #008080; text-decoration-color: #008080; font-weight: bold\">12</span>-----\n",
       "</pre>\n"
      ],
      "text/plain": [
       "-----NUMBER \u001b[1;36m12\u001b[0m-----\n"
      ]
     },
     "metadata": {},
     "output_type": "display_data"
    },
    {
     "data": {
      "text/html": [
       "<pre style=\"white-space:pre;overflow-x:auto;line-height:normal;font-family:Menlo,'DejaVu Sans Mono',consolas,'Courier New',monospace\">Preferred Common Name : Black-pencilled Marmoset\n",
       "</pre>\n"
      ],
      "text/plain": [
       "Preferred Common Name : Black-pencilled Marmoset\n"
      ]
     },
     "metadata": {},
     "output_type": "display_data"
    },
    {
     "data": {
      "text/html": [
       "<pre style=\"white-space:pre;overflow-x:auto;line-height:normal;font-family:Menlo,'DejaVu Sans Mono',consolas,'Courier New',monospace\">Preferred Scientific Name : Callithrix penicillata\n",
       "</pre>\n"
      ],
      "text/plain": [
       "Preferred Scientific Name : Callithrix penicillata\n"
      ]
     },
     "metadata": {},
     "output_type": "display_data"
    },
    {
     "data": {
      "text/html": [
       "<pre style=\"white-space:pre;overflow-x:auto;line-height:normal;font-family:Menlo,'DejaVu Sans Mono',consolas,'Courier New',monospace\">Places where it is found :  South America , Brazil , \n",
       "</pre>\n"
      ],
      "text/plain": [
       "Places where it is found :  South America , Brazil , \n"
      ]
     },
     "metadata": {},
     "output_type": "display_data"
    },
    {
     "data": {
      "text/html": [
       "<pre style=\"white-space:pre;overflow-x:auto;line-height:normal;font-family:Menlo,'DejaVu Sans Mono',consolas,'Courier New',monospace\">-----NUMBER <span style=\"color: #008080; text-decoration-color: #008080; font-weight: bold\">13</span>-----\n",
       "</pre>\n"
      ],
      "text/plain": [
       "-----NUMBER \u001b[1;36m13\u001b[0m-----\n"
      ]
     },
     "metadata": {},
     "output_type": "display_data"
    },
    {
     "data": {
      "text/html": [
       "<pre style=\"white-space:pre;overflow-x:auto;line-height:normal;font-family:Menlo,'DejaVu Sans Mono',consolas,'Courier New',monospace\">Preferred Common Name : Common Squirrel Monkey\n",
       "</pre>\n"
      ],
      "text/plain": [
       "Preferred Common Name : Common Squirrel Monkey\n"
      ]
     },
     "metadata": {},
     "output_type": "display_data"
    },
    {
     "data": {
      "text/html": [
       "<pre style=\"white-space:pre;overflow-x:auto;line-height:normal;font-family:Menlo,'DejaVu Sans Mono',consolas,'Courier New',monospace\">Preferred Scientific Name : Saimiri sciureus\n",
       "</pre>\n"
      ],
      "text/plain": [
       "Preferred Scientific Name : Saimiri sciureus\n"
      ]
     },
     "metadata": {},
     "output_type": "display_data"
    },
    {
     "data": {
      "text/html": [
       "<pre style=\"white-space:pre;overflow-x:auto;line-height:normal;font-family:Menlo,'DejaVu Sans Mono',consolas,'Courier New',monospace\">Places where it is found :  United States , Distrito Federal , Florida , Broward , US Eastern\n",
       "States , Eastern United States , South florida , Texas and Florida , Atlantic Coast , Central\n",
       "Florida , Zoológico de Chapultepec , South America , Colombia , Ecuador , \n",
       "</pre>\n"
      ],
      "text/plain": [
       "Places where it is found :  United States , Distrito Federal , Florida , Broward , US Eastern\n",
       "States , Eastern United States , South florida , Texas and Florida , Atlantic Coast , Central\n",
       "Florida , Zoológico de Chapultepec , South America , Colombia , Ecuador , \n"
      ]
     },
     "metadata": {},
     "output_type": "display_data"
    },
    {
     "data": {
      "text/html": [
       "<pre style=\"white-space:pre;overflow-x:auto;line-height:normal;font-family:Menlo,'DejaVu Sans Mono',consolas,'Courier New',monospace\">-----NUMBER <span style=\"color: #008080; text-decoration-color: #008080; font-weight: bold\">14</span>-----\n",
       "</pre>\n"
      ],
      "text/plain": [
       "-----NUMBER \u001b[1;36m14\u001b[0m-----\n"
      ]
     },
     "metadata": {},
     "output_type": "display_data"
    },
    {
     "data": {
      "text/html": [
       "<pre style=\"white-space:pre;overflow-x:auto;line-height:normal;font-family:Menlo,'DejaVu Sans Mono',consolas,'Courier New',monospace\">Preferred Common Name : Common Marmoset\n",
       "</pre>\n"
      ],
      "text/plain": [
       "Preferred Common Name : Common Marmoset\n"
      ]
     },
     "metadata": {},
     "output_type": "display_data"
    },
    {
     "data": {
      "text/html": [
       "<pre style=\"white-space:pre;overflow-x:auto;line-height:normal;font-family:Menlo,'DejaVu Sans Mono',consolas,'Courier New',monospace\">Preferred Scientific Name : Callithrix jacchus\n",
       "</pre>\n"
      ],
      "text/plain": [
       "Preferred Scientific Name : Callithrix jacchus\n"
      ]
     },
     "metadata": {},
     "output_type": "display_data"
    },
    {
     "data": {
      "text/html": [
       "<pre style=\"white-space:pre;overflow-x:auto;line-height:normal;font-family:Menlo,'DejaVu Sans Mono',consolas,'Courier New',monospace\">Places where it is found :  São Paulo , Osasco , Peruíbe , Suzano , São Paulo , Campinas , \n",
       "Américo de Campos , Itu , Holambra , Salto do Pirapora , São Vicente , Itanhaém , Araçoiaba \n",
       "da Serra , Aruja , Bauru , Pedreira , Piracicaba , Monte Alegre do Sul , Mogi das Cruzes , \n",
       "Boituva , Vinhedo , Cotia , Santos , Capela do Alto , Parque Ecológico Prof. Hermogenes de \n",
       "Freitas , Parque Estadual Jaraguá , Natural Reserve of University of São Paulo, Campus \n",
       "Butantã , Parque Trainon e arredores , Trianon , USP - Campus Cidade Universitária Armando de\n",
       "Salles Oliveira - CUASO , Mosaico Juréia Itatins , Parque Estadual das Fontes do Ipiranga , \n",
       "Jaraguá , South America , Brazil , Paraíba , \n",
       "</pre>\n"
      ],
      "text/plain": [
       "Places where it is found :  São Paulo , Osasco , Peruíbe , Suzano , São Paulo , Campinas , \n",
       "Américo de Campos , Itu , Holambra , Salto do Pirapora , São Vicente , Itanhaém , Araçoiaba \n",
       "da Serra , Aruja , Bauru , Pedreira , Piracicaba , Monte Alegre do Sul , Mogi das Cruzes , \n",
       "Boituva , Vinhedo , Cotia , Santos , Capela do Alto , Parque Ecológico Prof. Hermogenes de \n",
       "Freitas , Parque Estadual Jaraguá , Natural Reserve of University of São Paulo, Campus \n",
       "Butantã , Parque Trainon e arredores , Trianon , USP - Campus Cidade Universitária Armando de\n",
       "Salles Oliveira - CUASO , Mosaico Juréia Itatins , Parque Estadual das Fontes do Ipiranga , \n",
       "Jaraguá , South America , Brazil , Paraíba , \n"
      ]
     },
     "metadata": {},
     "output_type": "display_data"
    },
    {
     "data": {
      "text/html": [
       "<pre style=\"white-space:pre;overflow-x:auto;line-height:normal;font-family:Menlo,'DejaVu Sans Mono',consolas,'Courier New',monospace\">-----NUMBER <span style=\"color: #008080; text-decoration-color: #008080; font-weight: bold\">15</span>-----\n",
       "</pre>\n"
      ],
      "text/plain": [
       "-----NUMBER \u001b[1;36m15\u001b[0m-----\n"
      ]
     },
     "metadata": {},
     "output_type": "display_data"
    },
    {
     "data": {
      "text/html": [
       "<pre style=\"white-space:pre;overflow-x:auto;line-height:normal;font-family:Menlo,'DejaVu Sans Mono',consolas,'Courier New',monospace\">Preferred Common Name : Bonnet Macaque\n",
       "</pre>\n"
      ],
      "text/plain": [
       "Preferred Common Name : Bonnet Macaque\n"
      ]
     },
     "metadata": {},
     "output_type": "display_data"
    },
    {
     "data": {
      "text/html": [
       "<pre style=\"white-space:pre;overflow-x:auto;line-height:normal;font-family:Menlo,'DejaVu Sans Mono',consolas,'Courier New',monospace\">Preferred Scientific Name : Macaca radiata\n",
       "</pre>\n"
      ],
      "text/plain": [
       "Preferred Scientific Name : Macaca radiata\n"
      ]
     },
     "metadata": {},
     "output_type": "display_data"
    },
    {
     "data": {
      "text/html": [
       "<pre style=\"white-space:pre;overflow-x:auto;line-height:normal;font-family:Menlo,'DejaVu Sans Mono',consolas,'Courier New',monospace\">Places where it is found :  India , \n",
       "</pre>\n"
      ],
      "text/plain": [
       "Places where it is found :  India , \n"
      ]
     },
     "metadata": {},
     "output_type": "display_data"
    },
    {
     "data": {
      "text/html": [
       "<pre style=\"white-space:pre;overflow-x:auto;line-height:normal;font-family:Menlo,'DejaVu Sans Mono',consolas,'Courier New',monospace\">-----NUMBER <span style=\"color: #008080; text-decoration-color: #008080; font-weight: bold\">16</span>-----\n",
       "</pre>\n"
      ],
      "text/plain": [
       "-----NUMBER \u001b[1;36m16\u001b[0m-----\n"
      ]
     },
     "metadata": {},
     "output_type": "display_data"
    },
    {
     "data": {
      "text/html": [
       "<pre style=\"white-space:pre;overflow-x:auto;line-height:normal;font-family:Menlo,'DejaVu Sans Mono',consolas,'Courier New',monospace\">Preferred Common Name : Dusky Leaf Monkey\n",
       "</pre>\n"
      ],
      "text/plain": [
       "Preferred Common Name : Dusky Leaf Monkey\n"
      ]
     },
     "metadata": {},
     "output_type": "display_data"
    },
    {
     "data": {
      "text/html": [
       "<pre style=\"white-space:pre;overflow-x:auto;line-height:normal;font-family:Menlo,'DejaVu Sans Mono',consolas,'Courier New',monospace\">Preferred Scientific Name : Trachypithecus obscurus\n",
       "</pre>\n"
      ],
      "text/plain": [
       "Preferred Scientific Name : Trachypithecus obscurus\n"
      ]
     },
     "metadata": {},
     "output_type": "display_data"
    },
    {
     "data": {
      "text/html": [
       "<pre style=\"white-space:pre;overflow-x:auto;line-height:normal;font-family:Menlo,'DejaVu Sans Mono',consolas,'Courier New',monospace\">Places where it is found :  \n",
       "</pre>\n"
      ],
      "text/plain": [
       "Places where it is found :  \n"
      ]
     },
     "metadata": {},
     "output_type": "display_data"
    },
    {
     "data": {
      "text/html": [
       "<pre style=\"white-space:pre;overflow-x:auto;line-height:normal;font-family:Menlo,'DejaVu Sans Mono',consolas,'Courier New',monospace\">-----NUMBER <span style=\"color: #008080; text-decoration-color: #008080; font-weight: bold\">17</span>-----\n",
       "</pre>\n"
      ],
      "text/plain": [
       "-----NUMBER \u001b[1;36m17\u001b[0m-----\n"
      ]
     },
     "metadata": {},
     "output_type": "display_data"
    },
    {
     "data": {
      "text/html": [
       "<pre style=\"white-space:pre;overflow-x:auto;line-height:normal;font-family:Menlo,'DejaVu Sans Mono',consolas,'Courier New',monospace\">Preferred Common Name : Black capuchin\n",
       "</pre>\n"
      ],
      "text/plain": [
       "Preferred Common Name : Black capuchin\n"
      ]
     },
     "metadata": {},
     "output_type": "display_data"
    },
    {
     "data": {
      "text/html": [
       "<pre style=\"white-space:pre;overflow-x:auto;line-height:normal;font-family:Menlo,'DejaVu Sans Mono',consolas,'Courier New',monospace\">Preferred Scientific Name : Sapajus nigritus\n",
       "</pre>\n"
      ],
      "text/plain": [
       "Preferred Scientific Name : Sapajus nigritus\n"
      ]
     },
     "metadata": {},
     "output_type": "display_data"
    },
    {
     "data": {
      "text/html": [
       "<pre style=\"white-space:pre;overflow-x:auto;line-height:normal;font-family:Menlo,'DejaVu Sans Mono',consolas,'Courier New',monospace\">Places where it is found :  South America , \n",
       "</pre>\n"
      ],
      "text/plain": [
       "Places where it is found :  South America , \n"
      ]
     },
     "metadata": {},
     "output_type": "display_data"
    },
    {
     "data": {
      "text/html": [
       "<pre style=\"white-space:pre;overflow-x:auto;line-height:normal;font-family:Menlo,'DejaVu Sans Mono',consolas,'Courier New',monospace\">-----NUMBER <span style=\"color: #008080; text-decoration-color: #008080; font-weight: bold\">18</span>-----\n",
       "</pre>\n"
      ],
      "text/plain": [
       "-----NUMBER \u001b[1;36m18\u001b[0m-----\n"
      ]
     },
     "metadata": {},
     "output_type": "display_data"
    },
    {
     "data": {
      "text/html": [
       "<pre style=\"white-space:pre;overflow-x:auto;line-height:normal;font-family:Menlo,'DejaVu Sans Mono',consolas,'Courier New',monospace\">Preferred Common Name : Central American Squirrel Monkey\n",
       "</pre>\n"
      ],
      "text/plain": [
       "Preferred Common Name : Central American Squirrel Monkey\n"
      ]
     },
     "metadata": {},
     "output_type": "display_data"
    },
    {
     "data": {
      "text/html": [
       "<pre style=\"white-space:pre;overflow-x:auto;line-height:normal;font-family:Menlo,'DejaVu Sans Mono',consolas,'Courier New',monospace\">Preferred Scientific Name : Saimiri oerstedii\n",
       "</pre>\n"
      ],
      "text/plain": [
       "Preferred Scientific Name : Saimiri oerstedii\n"
      ]
     },
     "metadata": {},
     "output_type": "display_data"
    },
    {
     "data": {
      "text/html": [
       "<pre style=\"white-space:pre;overflow-x:auto;line-height:normal;font-family:Menlo,'DejaVu Sans Mono',consolas,'Courier New',monospace\">Places where it is found :  \n",
       "</pre>\n"
      ],
      "text/plain": [
       "Places where it is found :  \n"
      ]
     },
     "metadata": {},
     "output_type": "display_data"
    },
    {
     "data": {
      "text/html": [
       "<pre style=\"white-space:pre;overflow-x:auto;line-height:normal;font-family:Menlo,'DejaVu Sans Mono',consolas,'Courier New',monospace\">-----NUMBER <span style=\"color: #008080; text-decoration-color: #008080; font-weight: bold\">19</span>-----\n",
       "</pre>\n"
      ],
      "text/plain": [
       "-----NUMBER \u001b[1;36m19\u001b[0m-----\n"
      ]
     },
     "metadata": {},
     "output_type": "display_data"
    },
    {
     "data": {
      "text/html": [
       "<pre style=\"white-space:pre;overflow-x:auto;line-height:normal;font-family:Menlo,'DejaVu Sans Mono',consolas,'Courier New',monospace\">Preferred Common Name : Colombian Red Howler Monkey\n",
       "</pre>\n"
      ],
      "text/plain": [
       "Preferred Common Name : Colombian Red Howler Monkey\n"
      ]
     },
     "metadata": {},
     "output_type": "display_data"
    },
    {
     "data": {
      "text/html": [
       "<pre style=\"white-space:pre;overflow-x:auto;line-height:normal;font-family:Menlo,'DejaVu Sans Mono',consolas,'Courier New',monospace\">Preferred Scientific Name : Alouatta seniculus\n",
       "</pre>\n"
      ],
      "text/plain": [
       "Preferred Scientific Name : Alouatta seniculus\n"
      ]
     },
     "metadata": {},
     "output_type": "display_data"
    },
    {
     "data": {
      "text/html": [
       "<pre style=\"white-space:pre;overflow-x:auto;line-height:normal;font-family:Menlo,'DejaVu Sans Mono',consolas,'Courier New',monospace\">Places where it is found :  South America , Ecuador , Colombia , \n",
       "</pre>\n"
      ],
      "text/plain": [
       "Places where it is found :  South America , Ecuador , Colombia , \n"
      ]
     },
     "metadata": {},
     "output_type": "display_data"
    },
    {
     "data": {
      "text/html": [
       "<pre style=\"white-space:pre;overflow-x:auto;line-height:normal;font-family:Menlo,'DejaVu Sans Mono',consolas,'Courier New',monospace\">-----NUMBER <span style=\"color: #008080; text-decoration-color: #008080; font-weight: bold\">20</span>-----\n",
       "</pre>\n"
      ],
      "text/plain": [
       "-----NUMBER \u001b[1;36m20\u001b[0m-----\n"
      ]
     },
     "metadata": {},
     "output_type": "display_data"
    },
    {
     "data": {
      "text/html": [
       "<pre style=\"white-space:pre;overflow-x:auto;line-height:normal;font-family:Menlo,'DejaVu Sans Mono',consolas,'Courier New',monospace\">Preferred Common Name : Northern Plains Grey Langur\n",
       "</pre>\n"
      ],
      "text/plain": [
       "Preferred Common Name : Northern Plains Grey Langur\n"
      ]
     },
     "metadata": {},
     "output_type": "display_data"
    },
    {
     "data": {
      "text/html": [
       "<pre style=\"white-space:pre;overflow-x:auto;line-height:normal;font-family:Menlo,'DejaVu Sans Mono',consolas,'Courier New',monospace\">Preferred Scientific Name : Semnopithecus entellus\n",
       "</pre>\n"
      ],
      "text/plain": [
       "Preferred Scientific Name : Semnopithecus entellus\n"
      ]
     },
     "metadata": {},
     "output_type": "display_data"
    },
    {
     "data": {
      "text/html": [
       "<pre style=\"white-space:pre;overflow-x:auto;line-height:normal;font-family:Menlo,'DejaVu Sans Mono',consolas,'Courier New',monospace\">Places where it is found :  \n",
       "</pre>\n"
      ],
      "text/plain": [
       "Places where it is found :  \n"
      ]
     },
     "metadata": {},
     "output_type": "display_data"
    },
    {
     "data": {
      "text/html": [
       "<pre style=\"white-space:pre;overflow-x:auto;line-height:normal;font-family:Menlo,'DejaVu Sans Mono',consolas,'Courier New',monospace\">-----NUMBER <span style=\"color: #008080; text-decoration-color: #008080; font-weight: bold\">21</span>-----\n",
       "</pre>\n"
      ],
      "text/plain": [
       "-----NUMBER \u001b[1;36m21\u001b[0m-----\n"
      ]
     },
     "metadata": {},
     "output_type": "display_data"
    },
    {
     "data": {
      "text/html": [
       "<pre style=\"white-space:pre;overflow-x:auto;line-height:normal;font-family:Menlo,'DejaVu Sans Mono',consolas,'Courier New',monospace\">Preferred Common Name : Mantled Guereza\n",
       "</pre>\n"
      ],
      "text/plain": [
       "Preferred Common Name : Mantled Guereza\n"
      ]
     },
     "metadata": {},
     "output_type": "display_data"
    },
    {
     "data": {
      "text/html": [
       "<pre style=\"white-space:pre;overflow-x:auto;line-height:normal;font-family:Menlo,'DejaVu Sans Mono',consolas,'Courier New',monospace\">Preferred Scientific Name : Colobus guereza\n",
       "</pre>\n"
      ],
      "text/plain": [
       "Preferred Scientific Name : Colobus guereza\n"
      ]
     },
     "metadata": {},
     "output_type": "display_data"
    },
    {
     "data": {
      "text/html": [
       "<pre style=\"white-space:pre;overflow-x:auto;line-height:normal;font-family:Menlo,'DejaVu Sans Mono',consolas,'Courier New',monospace\">Places where it is found :  \n",
       "</pre>\n"
      ],
      "text/plain": [
       "Places where it is found :  \n"
      ]
     },
     "metadata": {},
     "output_type": "display_data"
    },
    {
     "data": {
      "text/html": [
       "<pre style=\"white-space:pre;overflow-x:auto;line-height:normal;font-family:Menlo,'DejaVu Sans Mono',consolas,'Courier New',monospace\">-----NUMBER <span style=\"color: #008080; text-decoration-color: #008080; font-weight: bold\">22</span>-----\n",
       "</pre>\n"
      ],
      "text/plain": [
       "-----NUMBER \u001b[1;36m22\u001b[0m-----\n"
      ]
     },
     "metadata": {},
     "output_type": "display_data"
    },
    {
     "data": {
      "text/html": [
       "<pre style=\"white-space:pre;overflow-x:auto;line-height:normal;font-family:Menlo,'DejaVu Sans Mono',consolas,'Courier New',monospace\">Preferred Common Name : Proboscis Monkey\n",
       "</pre>\n"
      ],
      "text/plain": [
       "Preferred Common Name : Proboscis Monkey\n"
      ]
     },
     "metadata": {},
     "output_type": "display_data"
    },
    {
     "data": {
      "text/html": [
       "<pre style=\"white-space:pre;overflow-x:auto;line-height:normal;font-family:Menlo,'DejaVu Sans Mono',consolas,'Courier New',monospace\">Preferred Scientific Name : Nasalis larvatus\n",
       "</pre>\n"
      ],
      "text/plain": [
       "Preferred Scientific Name : Nasalis larvatus\n"
      ]
     },
     "metadata": {},
     "output_type": "display_data"
    },
    {
     "data": {
      "text/html": [
       "<pre style=\"white-space:pre;overflow-x:auto;line-height:normal;font-family:Menlo,'DejaVu Sans Mono',consolas,'Courier New',monospace\">Places where it is found :  \n",
       "</pre>\n"
      ],
      "text/plain": [
       "Places where it is found :  \n"
      ]
     },
     "metadata": {},
     "output_type": "display_data"
    },
    {
     "data": {
      "text/html": [
       "<pre style=\"white-space:pre;overflow-x:auto;line-height:normal;font-family:Menlo,'DejaVu Sans Mono',consolas,'Courier New',monospace\">-----NUMBER <span style=\"color: #008080; text-decoration-color: #008080; font-weight: bold\">23</span>-----\n",
       "</pre>\n"
      ],
      "text/plain": [
       "-----NUMBER \u001b[1;36m23\u001b[0m-----\n"
      ]
     },
     "metadata": {},
     "output_type": "display_data"
    },
    {
     "data": {
      "text/html": [
       "<pre style=\"white-space:pre;overflow-x:auto;line-height:normal;font-family:Menlo,'DejaVu Sans Mono',consolas,'Courier New',monospace\">Preferred Common Name : Black-and-gold Howler Monkey\n",
       "</pre>\n"
      ],
      "text/plain": [
       "Preferred Common Name : Black-and-gold Howler Monkey\n"
      ]
     },
     "metadata": {},
     "output_type": "display_data"
    },
    {
     "data": {
      "text/html": [
       "<pre style=\"white-space:pre;overflow-x:auto;line-height:normal;font-family:Menlo,'DejaVu Sans Mono',consolas,'Courier New',monospace\">Preferred Scientific Name : Alouatta caraya\n",
       "</pre>\n"
      ],
      "text/plain": [
       "Preferred Scientific Name : Alouatta caraya\n"
      ]
     },
     "metadata": {},
     "output_type": "display_data"
    },
    {
     "data": {
      "text/html": [
       "<pre style=\"white-space:pre;overflow-x:auto;line-height:normal;font-family:Menlo,'DejaVu Sans Mono',consolas,'Courier New',monospace\">Places where it is found :  South America , \n",
       "</pre>\n"
      ],
      "text/plain": [
       "Places where it is found :  South America , \n"
      ]
     },
     "metadata": {},
     "output_type": "display_data"
    },
    {
     "data": {
      "text/html": [
       "<pre style=\"white-space:pre;overflow-x:auto;line-height:normal;font-family:Menlo,'DejaVu Sans Mono',consolas,'Courier New',monospace\">-----NUMBER <span style=\"color: #008080; text-decoration-color: #008080; font-weight: bold\">24</span>-----\n",
       "</pre>\n"
      ],
      "text/plain": [
       "-----NUMBER \u001b[1;36m24\u001b[0m-----\n"
      ]
     },
     "metadata": {},
     "output_type": "display_data"
    },
    {
     "data": {
      "text/html": [
       "<pre style=\"white-space:pre;overflow-x:auto;line-height:normal;font-family:Menlo,'DejaVu Sans Mono',consolas,'Courier New',monospace\">Preferred Common Name : White-fronted Capuchin\n",
       "</pre>\n"
      ],
      "text/plain": [
       "Preferred Common Name : White-fronted Capuchin\n"
      ]
     },
     "metadata": {},
     "output_type": "display_data"
    },
    {
     "data": {
      "text/html": [
       "<pre style=\"white-space:pre;overflow-x:auto;line-height:normal;font-family:Menlo,'DejaVu Sans Mono',consolas,'Courier New',monospace\">Preferred Scientific Name : Cebus albifrons\n",
       "</pre>\n"
      ],
      "text/plain": [
       "Preferred Scientific Name : Cebus albifrons\n"
      ]
     },
     "metadata": {},
     "output_type": "display_data"
    },
    {
     "data": {
      "text/html": [
       "<pre style=\"white-space:pre;overflow-x:auto;line-height:normal;font-family:Menlo,'DejaVu Sans Mono',consolas,'Courier New',monospace\">Places where it is found :  South America , Ecuador , Colombia , \n",
       "</pre>\n"
      ],
      "text/plain": [
       "Places where it is found :  South America , Ecuador , Colombia , \n"
      ]
     },
     "metadata": {},
     "output_type": "display_data"
    },
    {
     "data": {
      "text/html": [
       "<pre style=\"white-space:pre;overflow-x:auto;line-height:normal;font-family:Menlo,'DejaVu Sans Mono',consolas,'Courier New',monospace\">-----NUMBER <span style=\"color: #008080; text-decoration-color: #008080; font-weight: bold\">25</span>-----\n",
       "</pre>\n"
      ],
      "text/plain": [
       "-----NUMBER \u001b[1;36m25\u001b[0m-----\n"
      ]
     },
     "metadata": {},
     "output_type": "display_data"
    },
    {
     "data": {
      "text/html": [
       "<pre style=\"white-space:pre;overflow-x:auto;line-height:normal;font-family:Menlo,'DejaVu Sans Mono',consolas,'Courier New',monospace\">Preferred Common Name : Toque Macaque\n",
       "</pre>\n"
      ],
      "text/plain": [
       "Preferred Common Name : Toque Macaque\n"
      ]
     },
     "metadata": {},
     "output_type": "display_data"
    },
    {
     "data": {
      "text/html": [
       "<pre style=\"white-space:pre;overflow-x:auto;line-height:normal;font-family:Menlo,'DejaVu Sans Mono',consolas,'Courier New',monospace\">Preferred Scientific Name : Macaca sinica\n",
       "</pre>\n"
      ],
      "text/plain": [
       "Preferred Scientific Name : Macaca sinica\n"
      ]
     },
     "metadata": {},
     "output_type": "display_data"
    },
    {
     "data": {
      "text/html": [
       "<pre style=\"white-space:pre;overflow-x:auto;line-height:normal;font-family:Menlo,'DejaVu Sans Mono',consolas,'Courier New',monospace\">Places where it is found :  Asia , Sri Lanka , \n",
       "</pre>\n"
      ],
      "text/plain": [
       "Places where it is found :  Asia , Sri Lanka , \n"
      ]
     },
     "metadata": {},
     "output_type": "display_data"
    },
    {
     "data": {
      "text/html": [
       "<pre style=\"white-space:pre;overflow-x:auto;line-height:normal;font-family:Menlo,'DejaVu Sans Mono',consolas,'Courier New',monospace\">-----NUMBER <span style=\"color: #008080; text-decoration-color: #008080; font-weight: bold\">26</span>-----\n",
       "</pre>\n"
      ],
      "text/plain": [
       "-----NUMBER \u001b[1;36m26\u001b[0m-----\n"
      ]
     },
     "metadata": {},
     "output_type": "display_data"
    },
    {
     "data": {
      "text/html": [
       "<pre style=\"white-space:pre;overflow-x:auto;line-height:normal;font-family:Menlo,'DejaVu Sans Mono',consolas,'Courier New',monospace\">Preferred Common Name : Geoffroy’s Tamarin\n",
       "</pre>\n"
      ],
      "text/plain": [
       "Preferred Common Name : Geoffroy’s Tamarin\n"
      ]
     },
     "metadata": {},
     "output_type": "display_data"
    },
    {
     "data": {
      "text/html": [
       "<pre style=\"white-space:pre;overflow-x:auto;line-height:normal;font-family:Menlo,'DejaVu Sans Mono',consolas,'Courier New',monospace\">Preferred Scientific Name : Saguinus geoffroyi\n",
       "</pre>\n"
      ],
      "text/plain": [
       "Preferred Scientific Name : Saguinus geoffroyi\n"
      ]
     },
     "metadata": {},
     "output_type": "display_data"
    },
    {
     "data": {
      "text/html": [
       "<pre style=\"white-space:pre;overflow-x:auto;line-height:normal;font-family:Menlo,'DejaVu Sans Mono',consolas,'Courier New',monospace\">Places where it is found :  South America , North America , Colombia , \n",
       "</pre>\n"
      ],
      "text/plain": [
       "Places where it is found :  South America , North America , Colombia , \n"
      ]
     },
     "metadata": {},
     "output_type": "display_data"
    },
    {
     "data": {
      "text/html": [
       "<pre style=\"white-space:pre;overflow-x:auto;line-height:normal;font-family:Menlo,'DejaVu Sans Mono',consolas,'Courier New',monospace\">-----NUMBER <span style=\"color: #008080; text-decoration-color: #008080; font-weight: bold\">27</span>-----\n",
       "</pre>\n"
      ],
      "text/plain": [
       "-----NUMBER \u001b[1;36m27\u001b[0m-----\n"
      ]
     },
     "metadata": {},
     "output_type": "display_data"
    },
    {
     "data": {
      "text/html": [
       "<pre style=\"white-space:pre;overflow-x:auto;line-height:normal;font-family:Menlo,'DejaVu Sans Mono',consolas,'Courier New',monospace\">Preferred Common Name : Barbary Macaque\n",
       "</pre>\n"
      ],
      "text/plain": [
       "Preferred Common Name : Barbary Macaque\n"
      ]
     },
     "metadata": {},
     "output_type": "display_data"
    },
    {
     "data": {
      "text/html": [
       "<pre style=\"white-space:pre;overflow-x:auto;line-height:normal;font-family:Menlo,'DejaVu Sans Mono',consolas,'Courier New',monospace\">Preferred Scientific Name : Macaca sylvanus\n",
       "</pre>\n"
      ],
      "text/plain": [
       "Preferred Scientific Name : Macaca sylvanus\n"
      ]
     },
     "metadata": {},
     "output_type": "display_data"
    },
    {
     "data": {
      "text/html": [
       "<pre style=\"white-space:pre;overflow-x:auto;line-height:normal;font-family:Menlo,'DejaVu Sans Mono',consolas,'Courier New',monospace\">Places where it is found :  Europe , Spain , Gibraltar , Andalucía , Cádiz , Gibraltar , \n",
       "Africa , Algeria , \n",
       "</pre>\n"
      ],
      "text/plain": [
       "Places where it is found :  Europe , Spain , Gibraltar , Andalucía , Cádiz , Gibraltar , \n",
       "Africa , Algeria , \n"
      ]
     },
     "metadata": {},
     "output_type": "display_data"
    },
    {
     "data": {
      "text/html": [
       "<pre style=\"white-space:pre;overflow-x:auto;line-height:normal;font-family:Menlo,'DejaVu Sans Mono',consolas,'Courier New',monospace\">-----NUMBER <span style=\"color: #008080; text-decoration-color: #008080; font-weight: bold\">28</span>-----\n",
       "</pre>\n"
      ],
      "text/plain": [
       "-----NUMBER \u001b[1;36m28\u001b[0m-----\n"
      ]
     },
     "metadata": {},
     "output_type": "display_data"
    },
    {
     "data": {
      "text/html": [
       "<pre style=\"white-space:pre;overflow-x:auto;line-height:normal;font-family:Menlo,'DejaVu Sans Mono',consolas,'Courier New',monospace\">Preferred Common Name : Patas Monkey\n",
       "</pre>\n"
      ],
      "text/plain": [
       "Preferred Common Name : Patas Monkey\n"
      ]
     },
     "metadata": {},
     "output_type": "display_data"
    },
    {
     "data": {
      "text/html": [
       "<pre style=\"white-space:pre;overflow-x:auto;line-height:normal;font-family:Menlo,'DejaVu Sans Mono',consolas,'Courier New',monospace\">Preferred Scientific Name : Erythrocebus patas\n",
       "</pre>\n"
      ],
      "text/plain": [
       "Preferred Scientific Name : Erythrocebus patas\n"
      ]
     },
     "metadata": {},
     "output_type": "display_data"
    },
    {
     "data": {
      "text/html": [
       "<pre style=\"white-space:pre;overflow-x:auto;line-height:normal;font-family:Menlo,'DejaVu Sans Mono',consolas,'Courier New',monospace\">Places where it is found :  South Africa , Zoológico de Chapultepec , Africa , \n",
       "</pre>\n"
      ],
      "text/plain": [
       "Places where it is found :  South Africa , Zoológico de Chapultepec , Africa , \n"
      ]
     },
     "metadata": {},
     "output_type": "display_data"
    },
    {
     "data": {
      "text/html": [
       "<pre style=\"white-space:pre;overflow-x:auto;line-height:normal;font-family:Menlo,'DejaVu Sans Mono',consolas,'Courier New',monospace\">-----NUMBER <span style=\"color: #008080; text-decoration-color: #008080; font-weight: bold\">29</span>-----\n",
       "</pre>\n"
      ],
      "text/plain": [
       "-----NUMBER \u001b[1;36m29\u001b[0m-----\n"
      ]
     },
     "metadata": {},
     "output_type": "display_data"
    },
    {
     "data": {
      "text/html": [
       "<pre style=\"white-space:pre;overflow-x:auto;line-height:normal;font-family:Menlo,'DejaVu Sans Mono',consolas,'Courier New',monospace\">Preferred Common Name : Yellow Baboon\n",
       "</pre>\n"
      ],
      "text/plain": [
       "Preferred Common Name : Yellow Baboon\n"
      ]
     },
     "metadata": {},
     "output_type": "display_data"
    },
    {
     "data": {
      "text/html": [
       "<pre style=\"white-space:pre;overflow-x:auto;line-height:normal;font-family:Menlo,'DejaVu Sans Mono',consolas,'Courier New',monospace\">Preferred Scientific Name : Papio cynocephalus\n",
       "</pre>\n"
      ],
      "text/plain": [
       "Preferred Scientific Name : Papio cynocephalus\n"
      ]
     },
     "metadata": {},
     "output_type": "display_data"
    },
    {
     "data": {
      "text/html": [
       "<pre style=\"white-space:pre;overflow-x:auto;line-height:normal;font-family:Menlo,'DejaVu Sans Mono',consolas,'Courier New',monospace\">Places where it is found :  Africa , \n",
       "</pre>\n"
      ],
      "text/plain": [
       "Places where it is found :  Africa , \n"
      ]
     },
     "metadata": {},
     "output_type": "display_data"
    },
    {
     "data": {
      "text/html": [
       "<pre style=\"white-space:pre;overflow-x:auto;line-height:normal;font-family:Menlo,'DejaVu Sans Mono',consolas,'Courier New',monospace\">-----NUMBER <span style=\"color: #008080; text-decoration-color: #008080; font-weight: bold\">30</span>-----\n",
       "</pre>\n"
      ],
      "text/plain": [
       "-----NUMBER \u001b[1;36m30\u001b[0m-----\n"
      ]
     },
     "metadata": {},
     "output_type": "display_data"
    },
    {
     "data": {
      "text/html": [
       "<pre style=\"white-space:pre;overflow-x:auto;line-height:normal;font-family:Menlo,'DejaVu Sans Mono',consolas,'Courier New',monospace\">Preferred Common Name : Tufted Gray Langur\n",
       "</pre>\n"
      ],
      "text/plain": [
       "Preferred Common Name : Tufted Gray Langur\n"
      ]
     },
     "metadata": {},
     "output_type": "display_data"
    },
    {
     "data": {
      "text/html": [
       "<pre style=\"white-space:pre;overflow-x:auto;line-height:normal;font-family:Menlo,'DejaVu Sans Mono',consolas,'Courier New',monospace\">Preferred Scientific Name : Semnopithecus priam\n",
       "</pre>\n"
      ],
      "text/plain": [
       "Preferred Scientific Name : Semnopithecus priam\n"
      ]
     },
     "metadata": {},
     "output_type": "display_data"
    },
    {
     "data": {
      "text/html": [
       "<pre style=\"white-space:pre;overflow-x:auto;line-height:normal;font-family:Menlo,'DejaVu Sans Mono',consolas,'Courier New',monospace\">Places where it is found :  \n",
       "</pre>\n"
      ],
      "text/plain": [
       "Places where it is found :  \n"
      ]
     },
     "metadata": {},
     "output_type": "display_data"
    },
    {
     "data": {
      "text/html": [
       "<pre style=\"white-space:pre;overflow-x:auto;line-height:normal;font-family:Menlo,'DejaVu Sans Mono',consolas,'Courier New',monospace\">-----NUMBER <span style=\"color: #008080; text-decoration-color: #008080; font-weight: bold\">31</span>-----\n",
       "</pre>\n"
      ],
      "text/plain": [
       "-----NUMBER \u001b[1;36m31\u001b[0m-----\n"
      ]
     },
     "metadata": {},
     "output_type": "display_data"
    },
    {
     "data": {
      "text/html": [
       "<pre style=\"white-space:pre;overflow-x:auto;line-height:normal;font-family:Menlo,'DejaVu Sans Mono',consolas,'Courier New',monospace\">Preferred Common Name : Bornean Orangutan\n",
       "</pre>\n"
      ],
      "text/plain": [
       "Preferred Common Name : Bornean Orangutan\n"
      ]
     },
     "metadata": {},
     "output_type": "display_data"
    },
    {
     "data": {
      "text/html": [
       "<pre style=\"white-space:pre;overflow-x:auto;line-height:normal;font-family:Menlo,'DejaVu Sans Mono',consolas,'Courier New',monospace\">Preferred Scientific Name : Pongo pygmaeus\n",
       "</pre>\n"
      ],
      "text/plain": [
       "Preferred Scientific Name : Pongo pygmaeus\n"
      ]
     },
     "metadata": {},
     "output_type": "display_data"
    },
    {
     "data": {
      "text/html": [
       "<pre style=\"white-space:pre;overflow-x:auto;line-height:normal;font-family:Menlo,'DejaVu Sans Mono',consolas,'Courier New',monospace\">Places where it is found :  Zoológico de Chapultepec , Asia , Malaysia , Indonesia , \n",
       "</pre>\n"
      ],
      "text/plain": [
       "Places where it is found :  Zoológico de Chapultepec , Asia , Malaysia , Indonesia , \n"
      ]
     },
     "metadata": {},
     "output_type": "display_data"
    },
    {
     "data": {
      "text/html": [
       "<pre style=\"white-space:pre;overflow-x:auto;line-height:normal;font-family:Menlo,'DejaVu Sans Mono',consolas,'Courier New',monospace\">-----NUMBER <span style=\"color: #008080; text-decoration-color: #008080; font-weight: bold\">32</span>-----\n",
       "</pre>\n"
      ],
      "text/plain": [
       "-----NUMBER \u001b[1;36m32\u001b[0m-----\n"
      ]
     },
     "metadata": {},
     "output_type": "display_data"
    },
    {
     "data": {
      "text/html": [
       "<pre style=\"white-space:pre;overflow-x:auto;line-height:normal;font-family:Menlo,'DejaVu Sans Mono',consolas,'Courier New',monospace\">Preferred Common Name : Tantalus Monkey\n",
       "</pre>\n"
      ],
      "text/plain": [
       "Preferred Common Name : Tantalus Monkey\n"
      ]
     },
     "metadata": {},
     "output_type": "display_data"
    },
    {
     "data": {
      "text/html": [
       "<pre style=\"white-space:pre;overflow-x:auto;line-height:normal;font-family:Menlo,'DejaVu Sans Mono',consolas,'Courier New',monospace\">Preferred Scientific Name : Chlorocebus tantalus\n",
       "</pre>\n"
      ],
      "text/plain": [
       "Preferred Scientific Name : Chlorocebus tantalus\n"
      ]
     },
     "metadata": {},
     "output_type": "display_data"
    },
    {
     "data": {
      "text/html": [
       "<pre style=\"white-space:pre;overflow-x:auto;line-height:normal;font-family:Menlo,'DejaVu Sans Mono',consolas,'Courier New',monospace\">Places where it is found :  Africa , \n",
       "</pre>\n"
      ],
      "text/plain": [
       "Places where it is found :  Africa , \n"
      ]
     },
     "metadata": {},
     "output_type": "display_data"
    },
    {
     "data": {
      "text/html": [
       "<pre style=\"white-space:pre;overflow-x:auto;line-height:normal;font-family:Menlo,'DejaVu Sans Mono',consolas,'Courier New',monospace\">-----NUMBER <span style=\"color: #008080; text-decoration-color: #008080; font-weight: bold\">33</span>-----\n",
       "</pre>\n"
      ],
      "text/plain": [
       "-----NUMBER \u001b[1;36m33\u001b[0m-----\n"
      ]
     },
     "metadata": {},
     "output_type": "display_data"
    },
    {
     "data": {
      "text/html": [
       "<pre style=\"white-space:pre;overflow-x:auto;line-height:normal;font-family:Menlo,'DejaVu Sans Mono',consolas,'Courier New',monospace\">Preferred Common Name : Southern Pig-tailed Macaque\n",
       "</pre>\n"
      ],
      "text/plain": [
       "Preferred Common Name : Southern Pig-tailed Macaque\n"
      ]
     },
     "metadata": {},
     "output_type": "display_data"
    },
    {
     "data": {
      "text/html": [
       "<pre style=\"white-space:pre;overflow-x:auto;line-height:normal;font-family:Menlo,'DejaVu Sans Mono',consolas,'Courier New',monospace\">Preferred Scientific Name : Macaca nemestrina\n",
       "</pre>\n"
      ],
      "text/plain": [
       "Preferred Scientific Name : Macaca nemestrina\n"
      ]
     },
     "metadata": {},
     "output_type": "display_data"
    },
    {
     "data": {
      "text/html": [
       "<pre style=\"white-space:pre;overflow-x:auto;line-height:normal;font-family:Menlo,'DejaVu Sans Mono',consolas,'Courier New',monospace\">Places where it is found :  Asia , Malaysia , \n",
       "</pre>\n"
      ],
      "text/plain": [
       "Places where it is found :  Asia , Malaysia , \n"
      ]
     },
     "metadata": {},
     "output_type": "display_data"
    },
    {
     "data": {
      "text/html": [
       "<pre style=\"white-space:pre;overflow-x:auto;line-height:normal;font-family:Menlo,'DejaVu Sans Mono',consolas,'Courier New',monospace\">-----NUMBER <span style=\"color: #008080; text-decoration-color: #008080; font-weight: bold\">34</span>-----\n",
       "</pre>\n"
      ],
      "text/plain": [
       "-----NUMBER \u001b[1;36m34\u001b[0m-----\n"
      ]
     },
     "metadata": {},
     "output_type": "display_data"
    },
    {
     "data": {
      "text/html": [
       "<pre style=\"white-space:pre;overflow-x:auto;line-height:normal;font-family:Menlo,'DejaVu Sans Mono',consolas,'Courier New',monospace\">Preferred Common Name : Eastern Gorilla\n",
       "</pre>\n"
      ],
      "text/plain": [
       "Preferred Common Name : Eastern Gorilla\n"
      ]
     },
     "metadata": {},
     "output_type": "display_data"
    },
    {
     "data": {
      "text/html": [
       "<pre style=\"white-space:pre;overflow-x:auto;line-height:normal;font-family:Menlo,'DejaVu Sans Mono',consolas,'Courier New',monospace\">Preferred Scientific Name : Gorilla beringei\n",
       "</pre>\n"
      ],
      "text/plain": [
       "Preferred Scientific Name : Gorilla beringei\n"
      ]
     },
     "metadata": {},
     "output_type": "display_data"
    },
    {
     "data": {
      "text/html": [
       "<pre style=\"white-space:pre;overflow-x:auto;line-height:normal;font-family:Menlo,'DejaVu Sans Mono',consolas,'Courier New',monospace\">Places where it is found :  \n",
       "</pre>\n"
      ],
      "text/plain": [
       "Places where it is found :  \n"
      ]
     },
     "metadata": {},
     "output_type": "display_data"
    },
    {
     "data": {
      "text/html": [
       "<pre style=\"white-space:pre;overflow-x:auto;line-height:normal;font-family:Menlo,'DejaVu Sans Mono',consolas,'Courier New',monospace\">-----NUMBER <span style=\"color: #008080; text-decoration-color: #008080; font-weight: bold\">35</span>-----\n",
       "</pre>\n"
      ],
      "text/plain": [
       "-----NUMBER \u001b[1;36m35\u001b[0m-----\n"
      ]
     },
     "metadata": {},
     "output_type": "display_data"
    },
    {
     "data": {
      "text/html": [
       "<pre style=\"white-space:pre;overflow-x:auto;line-height:normal;font-family:Menlo,'DejaVu Sans Mono',consolas,'Courier New',monospace\">Preferred Common Name : Japanese Macaque\n",
       "</pre>\n"
      ],
      "text/plain": [
       "Preferred Common Name : Japanese Macaque\n"
      ]
     },
     "metadata": {},
     "output_type": "display_data"
    },
    {
     "data": {
      "text/html": [
       "<pre style=\"white-space:pre;overflow-x:auto;line-height:normal;font-family:Menlo,'DejaVu Sans Mono',consolas,'Courier New',monospace\">Preferred Scientific Name : Macaca fuscata\n",
       "</pre>\n"
      ],
      "text/plain": [
       "Preferred Scientific Name : Macaca fuscata\n"
      ]
     },
     "metadata": {},
     "output_type": "display_data"
    },
    {
     "data": {
      "text/html": [
       "<pre style=\"white-space:pre;overflow-x:auto;line-height:normal;font-family:Menlo,'DejaVu Sans Mono',consolas,'Courier New',monospace\">Places where it is found :  Asia , Japan , Zoológico de Chapultepec , \n",
       "</pre>\n"
      ],
      "text/plain": [
       "Places where it is found :  Asia , Japan , Zoológico de Chapultepec , \n"
      ]
     },
     "metadata": {},
     "output_type": "display_data"
    },
    {
     "data": {
      "text/html": [
       "<pre style=\"white-space:pre;overflow-x:auto;line-height:normal;font-family:Menlo,'DejaVu Sans Mono',consolas,'Courier New',monospace\">-----NUMBER <span style=\"color: #008080; text-decoration-color: #008080; font-weight: bold\">36</span>-----\n",
       "</pre>\n"
      ],
      "text/plain": [
       "-----NUMBER \u001b[1;36m36\u001b[0m-----\n"
      ]
     },
     "metadata": {},
     "output_type": "display_data"
    },
    {
     "data": {
      "text/html": [
       "<pre style=\"white-space:pre;overflow-x:auto;line-height:normal;font-family:Menlo,'DejaVu Sans Mono',consolas,'Courier New',monospace\">Preferred Common Name : Chimpanzee\n",
       "</pre>\n"
      ],
      "text/plain": [
       "Preferred Common Name : Chimpanzee\n"
      ]
     },
     "metadata": {},
     "output_type": "display_data"
    },
    {
     "data": {
      "text/html": [
       "<pre style=\"white-space:pre;overflow-x:auto;line-height:normal;font-family:Menlo,'DejaVu Sans Mono',consolas,'Courier New',monospace\">Preferred Scientific Name : Pan troglodytes\n",
       "</pre>\n"
      ],
      "text/plain": [
       "Preferred Scientific Name : Pan troglodytes\n"
      ]
     },
     "metadata": {},
     "output_type": "display_data"
    },
    {
     "data": {
      "text/html": [
       "<pre style=\"white-space:pre;overflow-x:auto;line-height:normal;font-family:Menlo,'DejaVu Sans Mono',consolas,'Courier New',monospace\">Places where it is found :  Zoológico de Chapultepec , \n",
       "</pre>\n"
      ],
      "text/plain": [
       "Places where it is found :  Zoológico de Chapultepec , \n"
      ]
     },
     "metadata": {},
     "output_type": "display_data"
    },
    {
     "data": {
      "text/html": [
       "<pre style=\"white-space:pre;overflow-x:auto;line-height:normal;font-family:Menlo,'DejaVu Sans Mono',consolas,'Courier New',monospace\">-----NUMBER <span style=\"color: #008080; text-decoration-color: #008080; font-weight: bold\">37</span>-----\n",
       "</pre>\n"
      ],
      "text/plain": [
       "-----NUMBER \u001b[1;36m37\u001b[0m-----\n"
      ]
     },
     "metadata": {},
     "output_type": "display_data"
    },
    {
     "data": {
      "text/html": [
       "<pre style=\"white-space:pre;overflow-x:auto;line-height:normal;font-family:Menlo,'DejaVu Sans Mono',consolas,'Courier New',monospace\">Preferred Common Name : Green Monkey\n",
       "</pre>\n"
      ],
      "text/plain": [
       "Preferred Common Name : Green Monkey\n"
      ]
     },
     "metadata": {},
     "output_type": "display_data"
    },
    {
     "data": {
      "text/html": [
       "<pre style=\"white-space:pre;overflow-x:auto;line-height:normal;font-family:Menlo,'DejaVu Sans Mono',consolas,'Courier New',monospace\">Preferred Scientific Name : Chlorocebus sabaeus\n",
       "</pre>\n"
      ],
      "text/plain": [
       "Preferred Scientific Name : Chlorocebus sabaeus\n"
      ]
     },
     "metadata": {},
     "output_type": "display_data"
    },
    {
     "data": {
      "text/html": [
       "<pre style=\"white-space:pre;overflow-x:auto;line-height:normal;font-family:Menlo,'DejaVu Sans Mono',consolas,'Courier New',monospace\">Places where it is found :  North America , United States , Saint Kitts and Nevis , Sint \n",
       "Maarten , Bahamas , Saint George , Saint John Capisterre , Saint John Figtree , Saint Thomas \n",
       "Middle Island , Saint James Windward , Saint Paul Capisterre , Saint Joseph , Saint Mary \n",
       "Cayon , Saint Lucy , Saint George Basseterre , Saint Thomas Lowland , Saint George Gingerland\n",
       ", Cat Island , Saint Peter Basseterre , Saint Michael , Florida , Broward , Eastern United \n",
       "States , Atlantic Coast , US Eastern States , South florida , Central Florida , Lesser \n",
       "Antilles , Texas and Florida , \n",
       "</pre>\n"
      ],
      "text/plain": [
       "Places where it is found :  North America , United States , Saint Kitts and Nevis , Sint \n",
       "Maarten , Bahamas , Saint George , Saint John Capisterre , Saint John Figtree , Saint Thomas \n",
       "Middle Island , Saint James Windward , Saint Paul Capisterre , Saint Joseph , Saint Mary \n",
       "Cayon , Saint Lucy , Saint George Basseterre , Saint Thomas Lowland , Saint George Gingerland\n",
       ", Cat Island , Saint Peter Basseterre , Saint Michael , Florida , Broward , Eastern United \n",
       "States , Atlantic Coast , US Eastern States , South florida , Central Florida , Lesser \n",
       "Antilles , Texas and Florida , \n"
      ]
     },
     "metadata": {},
     "output_type": "display_data"
    },
    {
     "data": {
      "text/html": [
       "<pre style=\"white-space:pre;overflow-x:auto;line-height:normal;font-family:Menlo,'DejaVu Sans Mono',consolas,'Courier New',monospace\">-----NUMBER <span style=\"color: #008080; text-decoration-color: #008080; font-weight: bold\">38</span>-----\n",
       "</pre>\n"
      ],
      "text/plain": [
       "-----NUMBER \u001b[1;36m38\u001b[0m-----\n"
      ]
     },
     "metadata": {},
     "output_type": "display_data"
    },
    {
     "data": {
      "text/html": [
       "<pre style=\"white-space:pre;overflow-x:auto;line-height:normal;font-family:Menlo,'DejaVu Sans Mono',consolas,'Courier New',monospace\">Preferred Common Name : Saddleback Tamarin\n",
       "</pre>\n"
      ],
      "text/plain": [
       "Preferred Common Name : Saddleback Tamarin\n"
      ]
     },
     "metadata": {},
     "output_type": "display_data"
    },
    {
     "data": {
      "text/html": [
       "<pre style=\"white-space:pre;overflow-x:auto;line-height:normal;font-family:Menlo,'DejaVu Sans Mono',consolas,'Courier New',monospace\">Preferred Scientific Name : Saguinus fuscicollis\n",
       "</pre>\n"
      ],
      "text/plain": [
       "Preferred Scientific Name : Saguinus fuscicollis\n"
      ]
     },
     "metadata": {},
     "output_type": "display_data"
    },
    {
     "data": {
      "text/html": [
       "<pre style=\"white-space:pre;overflow-x:auto;line-height:normal;font-family:Menlo,'DejaVu Sans Mono',consolas,'Courier New',monospace\">Places where it is found :  Mexico , Distrito Federal , Zoológico de Chapultepec , South \n",
       "America , \n",
       "</pre>\n"
      ],
      "text/plain": [
       "Places where it is found :  Mexico , Distrito Federal , Zoológico de Chapultepec , South \n",
       "America , \n"
      ]
     },
     "metadata": {},
     "output_type": "display_data"
    },
    {
     "data": {
      "text/html": [
       "<pre style=\"white-space:pre;overflow-x:auto;line-height:normal;font-family:Menlo,'DejaVu Sans Mono',consolas,'Courier New',monospace\">-----NUMBER <span style=\"color: #008080; text-decoration-color: #008080; font-weight: bold\">39</span>-----\n",
       "</pre>\n"
      ],
      "text/plain": [
       "-----NUMBER \u001b[1;36m39\u001b[0m-----\n"
      ]
     },
     "metadata": {},
     "output_type": "display_data"
    },
    {
     "data": {
      "text/html": [
       "<pre style=\"white-space:pre;overflow-x:auto;line-height:normal;font-family:Menlo,'DejaVu Sans Mono',consolas,'Courier New',monospace\">Preferred Common Name : Silvered Leaf Monkey\n",
       "</pre>\n"
      ],
      "text/plain": [
       "Preferred Common Name : Silvered Leaf Monkey\n"
      ]
     },
     "metadata": {},
     "output_type": "display_data"
    },
    {
     "data": {
      "text/html": [
       "<pre style=\"white-space:pre;overflow-x:auto;line-height:normal;font-family:Menlo,'DejaVu Sans Mono',consolas,'Courier New',monospace\">Preferred Scientific Name : Trachypithecus cristatus\n",
       "</pre>\n"
      ],
      "text/plain": [
       "Preferred Scientific Name : Trachypithecus cristatus\n"
      ]
     },
     "metadata": {},
     "output_type": "display_data"
    },
    {
     "data": {
      "text/html": [
       "<pre style=\"white-space:pre;overflow-x:auto;line-height:normal;font-family:Menlo,'DejaVu Sans Mono',consolas,'Courier New',monospace\">Places where it is found :  \n",
       "</pre>\n"
      ],
      "text/plain": [
       "Places where it is found :  \n"
      ]
     },
     "metadata": {},
     "output_type": "display_data"
    },
    {
     "data": {
      "text/html": [
       "<pre style=\"white-space:pre;overflow-x:auto;line-height:normal;font-family:Menlo,'DejaVu Sans Mono',consolas,'Courier New',monospace\">-----NUMBER <span style=\"color: #008080; text-decoration-color: #008080; font-weight: bold\">40</span>-----\n",
       "</pre>\n"
      ],
      "text/plain": [
       "-----NUMBER \u001b[1;36m40\u001b[0m-----\n"
      ]
     },
     "metadata": {},
     "output_type": "display_data"
    },
    {
     "data": {
      "text/html": [
       "<pre style=\"white-space:pre;overflow-x:auto;line-height:normal;font-family:Menlo,'DejaVu Sans Mono',consolas,'Courier New',monospace\">Preferred Common Name : Brown Howler Monkey\n",
       "</pre>\n"
      ],
      "text/plain": [
       "Preferred Common Name : Brown Howler Monkey\n"
      ]
     },
     "metadata": {},
     "output_type": "display_data"
    },
    {
     "data": {
      "text/html": [
       "<pre style=\"white-space:pre;overflow-x:auto;line-height:normal;font-family:Menlo,'DejaVu Sans Mono',consolas,'Courier New',monospace\">Preferred Scientific Name : Alouatta guariba\n",
       "</pre>\n"
      ],
      "text/plain": [
       "Preferred Scientific Name : Alouatta guariba\n"
      ]
     },
     "metadata": {},
     "output_type": "display_data"
    },
    {
     "data": {
      "text/html": [
       "<pre style=\"white-space:pre;overflow-x:auto;line-height:normal;font-family:Menlo,'DejaVu Sans Mono',consolas,'Courier New',monospace\">Places where it is found :  \n",
       "</pre>\n"
      ],
      "text/plain": [
       "Places where it is found :  \n"
      ]
     },
     "metadata": {},
     "output_type": "display_data"
    },
    {
     "data": {
      "text/html": [
       "<pre style=\"white-space:pre;overflow-x:auto;line-height:normal;font-family:Menlo,'DejaVu Sans Mono',consolas,'Courier New',monospace\">-----NUMBER <span style=\"color: #008080; text-decoration-color: #008080; font-weight: bold\">41</span>-----\n",
       "</pre>\n"
      ],
      "text/plain": [
       "-----NUMBER \u001b[1;36m41\u001b[0m-----\n"
      ]
     },
     "metadata": {},
     "output_type": "display_data"
    },
    {
     "data": {
      "text/html": [
       "<pre style=\"white-space:pre;overflow-x:auto;line-height:normal;font-family:Menlo,'DejaVu Sans Mono',consolas,'Courier New',monospace\">Preferred Common Name : Lar Gibbon\n",
       "</pre>\n"
      ],
      "text/plain": [
       "Preferred Common Name : Lar Gibbon\n"
      ]
     },
     "metadata": {},
     "output_type": "display_data"
    },
    {
     "data": {
      "text/html": [
       "<pre style=\"white-space:pre;overflow-x:auto;line-height:normal;font-family:Menlo,'DejaVu Sans Mono',consolas,'Courier New',monospace\">Preferred Scientific Name : Hylobates lar\n",
       "</pre>\n"
      ],
      "text/plain": [
       "Preferred Scientific Name : Hylobates lar\n"
      ]
     },
     "metadata": {},
     "output_type": "display_data"
    },
    {
     "data": {
      "text/html": [
       "<pre style=\"white-space:pre;overflow-x:auto;line-height:normal;font-family:Menlo,'DejaVu Sans Mono',consolas,'Courier New',monospace\">Places where it is found :  \n",
       "</pre>\n"
      ],
      "text/plain": [
       "Places where it is found :  \n"
      ]
     },
     "metadata": {},
     "output_type": "display_data"
    },
    {
     "data": {
      "text/html": [
       "<pre style=\"white-space:pre;overflow-x:auto;line-height:normal;font-family:Menlo,'DejaVu Sans Mono',consolas,'Courier New',monospace\">-----NUMBER <span style=\"color: #008080; text-decoration-color: #008080; font-weight: bold\">42</span>-----\n",
       "</pre>\n"
      ],
      "text/plain": [
       "-----NUMBER \u001b[1;36m42\u001b[0m-----\n"
      ]
     },
     "metadata": {},
     "output_type": "display_data"
    },
    {
     "data": {
      "text/html": [
       "<pre style=\"white-space:pre;overflow-x:auto;line-height:normal;font-family:Menlo,'DejaVu Sans Mono',consolas,'Courier New',monospace\">Preferred Common Name : Northern Pig-tailed Macaque\n",
       "</pre>\n"
      ],
      "text/plain": [
       "Preferred Common Name : Northern Pig-tailed Macaque\n"
      ]
     },
     "metadata": {},
     "output_type": "display_data"
    },
    {
     "data": {
      "text/html": [
       "<pre style=\"white-space:pre;overflow-x:auto;line-height:normal;font-family:Menlo,'DejaVu Sans Mono',consolas,'Courier New',monospace\">Preferred Scientific Name : Macaca leonina\n",
       "</pre>\n"
      ],
      "text/plain": [
       "Preferred Scientific Name : Macaca leonina\n"
      ]
     },
     "metadata": {},
     "output_type": "display_data"
    },
    {
     "data": {
      "text/html": [
       "<pre style=\"white-space:pre;overflow-x:auto;line-height:normal;font-family:Menlo,'DejaVu Sans Mono',consolas,'Courier New',monospace\">Places where it is found :  \n",
       "</pre>\n"
      ],
      "text/plain": [
       "Places where it is found :  \n"
      ]
     },
     "metadata": {},
     "output_type": "display_data"
    },
    {
     "data": {
      "text/html": [
       "<pre style=\"white-space:pre;overflow-x:auto;line-height:normal;font-family:Menlo,'DejaVu Sans Mono',consolas,'Courier New',monospace\">-----NUMBER <span style=\"color: #008080; text-decoration-color: #008080; font-weight: bold\">43</span>-----\n",
       "</pre>\n"
      ],
      "text/plain": [
       "-----NUMBER \u001b[1;36m43\u001b[0m-----\n"
      ]
     },
     "metadata": {},
     "output_type": "display_data"
    },
    {
     "data": {
      "text/html": [
       "<pre style=\"white-space:pre;overflow-x:auto;line-height:normal;font-family:Menlo,'DejaVu Sans Mono',consolas,'Courier New',monospace\">Preferred Common Name : Himalayan Gray Langur\n",
       "</pre>\n"
      ],
      "text/plain": [
       "Preferred Common Name : Himalayan Gray Langur\n"
      ]
     },
     "metadata": {},
     "output_type": "display_data"
    },
    {
     "data": {
      "text/html": [
       "<pre style=\"white-space:pre;overflow-x:auto;line-height:normal;font-family:Menlo,'DejaVu Sans Mono',consolas,'Courier New',monospace\">Preferred Scientific Name : Semnopithecus schistaceus\n",
       "</pre>\n"
      ],
      "text/plain": [
       "Preferred Scientific Name : Semnopithecus schistaceus\n"
      ]
     },
     "metadata": {},
     "output_type": "display_data"
    },
    {
     "data": {
      "text/html": [
       "<pre style=\"white-space:pre;overflow-x:auto;line-height:normal;font-family:Menlo,'DejaVu Sans Mono',consolas,'Courier New',monospace\">Places where it is found :  \n",
       "</pre>\n"
      ],
      "text/plain": [
       "Places where it is found :  \n"
      ]
     },
     "metadata": {},
     "output_type": "display_data"
    },
    {
     "data": {
      "text/html": [
       "<pre style=\"white-space:pre;overflow-x:auto;line-height:normal;font-family:Menlo,'DejaVu Sans Mono',consolas,'Courier New',monospace\">-----NUMBER <span style=\"color: #008080; text-decoration-color: #008080; font-weight: bold\">44</span>-----\n",
       "</pre>\n"
      ],
      "text/plain": [
       "-----NUMBER \u001b[1;36m44\u001b[0m-----\n"
      ]
     },
     "metadata": {},
     "output_type": "display_data"
    },
    {
     "data": {
      "text/html": [
       "<pre style=\"white-space:pre;overflow-x:auto;line-height:normal;font-family:Menlo,'DejaVu Sans Mono',consolas,'Courier New',monospace\">Preferred Common Name : Brown Capuchin\n",
       "</pre>\n"
      ],
      "text/plain": [
       "Preferred Common Name : Brown Capuchin\n"
      ]
     },
     "metadata": {},
     "output_type": "display_data"
    },
    {
     "data": {
      "text/html": [
       "<pre style=\"white-space:pre;overflow-x:auto;line-height:normal;font-family:Menlo,'DejaVu Sans Mono',consolas,'Courier New',monospace\">Preferred Scientific Name : Sapajus apella\n",
       "</pre>\n"
      ],
      "text/plain": [
       "Preferred Scientific Name : Sapajus apella\n"
      ]
     },
     "metadata": {},
     "output_type": "display_data"
    },
    {
     "data": {
      "text/html": [
       "<pre style=\"white-space:pre;overflow-x:auto;line-height:normal;font-family:Menlo,'DejaVu Sans Mono',consolas,'Courier New',monospace\">Places where it is found :  Trinidad and Tobago , Tunapuna/Piarco , Diego Martin , Zoológico \n",
       "de Chapultepec , \n",
       "</pre>\n"
      ],
      "text/plain": [
       "Places where it is found :  Trinidad and Tobago , Tunapuna/Piarco , Diego Martin , Zoológico \n",
       "de Chapultepec , \n"
      ]
     },
     "metadata": {},
     "output_type": "display_data"
    },
    {
     "data": {
      "text/html": [
       "<pre style=\"white-space:pre;overflow-x:auto;line-height:normal;font-family:Menlo,'DejaVu Sans Mono',consolas,'Courier New',monospace\">-----NUMBER <span style=\"color: #008080; text-decoration-color: #008080; font-weight: bold\">45</span>-----\n",
       "</pre>\n"
      ],
      "text/plain": [
       "-----NUMBER \u001b[1;36m45\u001b[0m-----\n"
      ]
     },
     "metadata": {},
     "output_type": "display_data"
    },
    {
     "data": {
      "text/html": [
       "<pre style=\"white-space:pre;overflow-x:auto;line-height:normal;font-family:Menlo,'DejaVu Sans Mono',consolas,'Courier New',monospace\">Preferred Common Name : Red-tailed Monkey\n",
       "</pre>\n"
      ],
      "text/plain": [
       "Preferred Common Name : Red-tailed Monkey\n"
      ]
     },
     "metadata": {},
     "output_type": "display_data"
    },
    {
     "data": {
      "text/html": [
       "<pre style=\"white-space:pre;overflow-x:auto;line-height:normal;font-family:Menlo,'DejaVu Sans Mono',consolas,'Courier New',monospace\">Preferred Scientific Name : Cercopithecus ascanius\n",
       "</pre>\n"
      ],
      "text/plain": [
       "Preferred Scientific Name : Cercopithecus ascanius\n"
      ]
     },
     "metadata": {},
     "output_type": "display_data"
    },
    {
     "data": {
      "text/html": [
       "<pre style=\"white-space:pre;overflow-x:auto;line-height:normal;font-family:Menlo,'DejaVu Sans Mono',consolas,'Courier New',monospace\">Places where it is found :  \n",
       "</pre>\n"
      ],
      "text/plain": [
       "Places where it is found :  \n"
      ]
     },
     "metadata": {},
     "output_type": "display_data"
    },
    {
     "data": {
      "text/html": [
       "<pre style=\"white-space:pre;overflow-x:auto;line-height:normal;font-family:Menlo,'DejaVu Sans Mono',consolas,'Courier New',monospace\">-----NUMBER <span style=\"color: #008080; text-decoration-color: #008080; font-weight: bold\">46</span>-----\n",
       "</pre>\n"
      ],
      "text/plain": [
       "-----NUMBER \u001b[1;36m46\u001b[0m-----\n"
      ]
     },
     "metadata": {},
     "output_type": "display_data"
    },
    {
     "data": {
      "text/html": [
       "<pre style=\"white-space:pre;overflow-x:auto;line-height:normal;font-family:Menlo,'DejaVu Sans Mono',consolas,'Courier New',monospace\">Preferred Common Name : Sumatran Orangutan\n",
       "</pre>\n"
      ],
      "text/plain": [
       "Preferred Common Name : Sumatran Orangutan\n"
      ]
     },
     "metadata": {},
     "output_type": "display_data"
    },
    {
     "data": {
      "text/html": [
       "<pre style=\"white-space:pre;overflow-x:auto;line-height:normal;font-family:Menlo,'DejaVu Sans Mono',consolas,'Courier New',monospace\">Preferred Scientific Name : Pongo abelii\n",
       "</pre>\n"
      ],
      "text/plain": [
       "Preferred Scientific Name : Pongo abelii\n"
      ]
     },
     "metadata": {},
     "output_type": "display_data"
    },
    {
     "data": {
      "text/html": [
       "<pre style=\"white-space:pre;overflow-x:auto;line-height:normal;font-family:Menlo,'DejaVu Sans Mono',consolas,'Courier New',monospace\">Places where it is found :  \n",
       "</pre>\n"
      ],
      "text/plain": [
       "Places where it is found :  \n"
      ]
     },
     "metadata": {},
     "output_type": "display_data"
    },
    {
     "data": {
      "text/html": [
       "<pre style=\"white-space:pre;overflow-x:auto;line-height:normal;font-family:Menlo,'DejaVu Sans Mono',consolas,'Courier New',monospace\">-----NUMBER <span style=\"color: #008080; text-decoration-color: #008080; font-weight: bold\">47</span>-----\n",
       "</pre>\n"
      ],
      "text/plain": [
       "-----NUMBER \u001b[1;36m47\u001b[0m-----\n"
      ]
     },
     "metadata": {},
     "output_type": "display_data"
    },
    {
     "data": {
      "text/html": [
       "<pre style=\"white-space:pre;overflow-x:auto;line-height:normal;font-family:Menlo,'DejaVu Sans Mono',consolas,'Courier New',monospace\">Preferred Common Name : Black-capped Squirrel Monkey\n",
       "</pre>\n"
      ],
      "text/plain": [
       "Preferred Common Name : Black-capped Squirrel Monkey\n"
      ]
     },
     "metadata": {},
     "output_type": "display_data"
    },
    {
     "data": {
      "text/html": [
       "<pre style=\"white-space:pre;overflow-x:auto;line-height:normal;font-family:Menlo,'DejaVu Sans Mono',consolas,'Courier New',monospace\">Preferred Scientific Name : Saimiri boliviensis\n",
       "</pre>\n"
      ],
      "text/plain": [
       "Preferred Scientific Name : Saimiri boliviensis\n"
      ]
     },
     "metadata": {},
     "output_type": "display_data"
    },
    {
     "data": {
      "text/html": [
       "<pre style=\"white-space:pre;overflow-x:auto;line-height:normal;font-family:Menlo,'DejaVu Sans Mono',consolas,'Courier New',monospace\">Places where it is found :  South America , \n",
       "</pre>\n"
      ],
      "text/plain": [
       "Places where it is found :  South America , \n"
      ]
     },
     "metadata": {},
     "output_type": "display_data"
    },
    {
     "data": {
      "text/html": [
       "<pre style=\"white-space:pre;overflow-x:auto;line-height:normal;font-family:Menlo,'DejaVu Sans Mono',consolas,'Courier New',monospace\">-----NUMBER <span style=\"color: #008080; text-decoration-color: #008080; font-weight: bold\">48</span>-----\n",
       "</pre>\n"
      ],
      "text/plain": [
       "-----NUMBER \u001b[1;36m48\u001b[0m-----\n"
      ]
     },
     "metadata": {},
     "output_type": "display_data"
    },
    {
     "data": {
      "text/html": [
       "<pre style=\"white-space:pre;overflow-x:auto;line-height:normal;font-family:Menlo,'DejaVu Sans Mono',consolas,'Courier New',monospace\">Preferred Common Name : Malabar Gray Langur\n",
       "</pre>\n"
      ],
      "text/plain": [
       "Preferred Common Name : Malabar Gray Langur\n"
      ]
     },
     "metadata": {},
     "output_type": "display_data"
    },
    {
     "data": {
      "text/html": [
       "<pre style=\"white-space:pre;overflow-x:auto;line-height:normal;font-family:Menlo,'DejaVu Sans Mono',consolas,'Courier New',monospace\">Preferred Scientific Name : Semnopithecus hypoleucos\n",
       "</pre>\n"
      ],
      "text/plain": [
       "Preferred Scientific Name : Semnopithecus hypoleucos\n"
      ]
     },
     "metadata": {},
     "output_type": "display_data"
    },
    {
     "data": {
      "text/html": [
       "<pre style=\"white-space:pre;overflow-x:auto;line-height:normal;font-family:Menlo,'DejaVu Sans Mono',consolas,'Courier New',monospace\">Places where it is found :  Asia , India , \n",
       "</pre>\n"
      ],
      "text/plain": [
       "Places where it is found :  Asia , India , \n"
      ]
     },
     "metadata": {},
     "output_type": "display_data"
    },
    {
     "data": {
      "text/html": [
       "<pre style=\"white-space:pre;overflow-x:auto;line-height:normal;font-family:Menlo,'DejaVu Sans Mono',consolas,'Courier New',monospace\">-----NUMBER <span style=\"color: #008080; text-decoration-color: #008080; font-weight: bold\">49</span>-----\n",
       "</pre>\n"
      ],
      "text/plain": [
       "-----NUMBER \u001b[1;36m49\u001b[0m-----\n"
      ]
     },
     "metadata": {},
     "output_type": "display_data"
    },
    {
     "data": {
      "text/html": [
       "<pre style=\"white-space:pre;overflow-x:auto;line-height:normal;font-family:Menlo,'DejaVu Sans Mono',consolas,'Courier New',monospace\">Preferred Common Name : Geoffroy’s Tufted-ear Marmoset\n",
       "</pre>\n"
      ],
      "text/plain": [
       "Preferred Common Name : Geoffroy’s Tufted-ear Marmoset\n"
      ]
     },
     "metadata": {},
     "output_type": "display_data"
    },
    {
     "data": {
      "text/html": [
       "<pre style=\"white-space:pre;overflow-x:auto;line-height:normal;font-family:Menlo,'DejaVu Sans Mono',consolas,'Courier New',monospace\">Preferred Scientific Name : Callithrix geoffroyi\n",
       "</pre>\n"
      ],
      "text/plain": [
       "Preferred Scientific Name : Callithrix geoffroyi\n"
      ]
     },
     "metadata": {},
     "output_type": "display_data"
    },
    {
     "data": {
      "text/html": [
       "<pre style=\"white-space:pre;overflow-x:auto;line-height:normal;font-family:Menlo,'DejaVu Sans Mono',consolas,'Courier New',monospace\">Places where it is found :  South America , \n",
       "</pre>\n"
      ],
      "text/plain": [
       "Places where it is found :  South America , \n"
      ]
     },
     "metadata": {},
     "output_type": "display_data"
    },
    {
     "data": {
      "text/html": [
       "<pre style=\"white-space:pre;overflow-x:auto;line-height:normal;font-family:Menlo,'DejaVu Sans Mono',consolas,'Courier New',monospace\">-----NUMBER <span style=\"color: #008080; text-decoration-color: #008080; font-weight: bold\">50</span>-----\n",
       "</pre>\n"
      ],
      "text/plain": [
       "-----NUMBER \u001b[1;36m50\u001b[0m-----\n"
      ]
     },
     "metadata": {},
     "output_type": "display_data"
    },
    {
     "data": {
      "text/html": [
       "<pre style=\"white-space:pre;overflow-x:auto;line-height:normal;font-family:Menlo,'DejaVu Sans Mono',consolas,'Courier New',monospace\">Preferred Common Name : Black-striped Capuchin\n",
       "</pre>\n"
      ],
      "text/plain": [
       "Preferred Common Name : Black-striped Capuchin\n"
      ]
     },
     "metadata": {},
     "output_type": "display_data"
    },
    {
     "data": {
      "text/html": [
       "<pre style=\"white-space:pre;overflow-x:auto;line-height:normal;font-family:Menlo,'DejaVu Sans Mono',consolas,'Courier New',monospace\">Preferred Scientific Name : Sapajus libidinosus\n",
       "</pre>\n"
      ],
      "text/plain": [
       "Preferred Scientific Name : Sapajus libidinosus\n"
      ]
     },
     "metadata": {},
     "output_type": "display_data"
    },
    {
     "data": {
      "text/html": [
       "<pre style=\"white-space:pre;overflow-x:auto;line-height:normal;font-family:Menlo,'DejaVu Sans Mono',consolas,'Courier New',monospace\">Places where it is found :  South America , \n",
       "</pre>\n"
      ],
      "text/plain": [
       "Places where it is found :  South America , \n"
      ]
     },
     "metadata": {},
     "output_type": "display_data"
    },
    {
     "data": {
      "text/html": [
       "<pre style=\"white-space:pre;overflow-x:auto;line-height:normal;font-family:Menlo,'DejaVu Sans Mono',consolas,'Courier New',monospace\">-----NUMBER <span style=\"color: #008080; text-decoration-color: #008080; font-weight: bold\">51</span>-----\n",
       "</pre>\n"
      ],
      "text/plain": [
       "-----NUMBER \u001b[1;36m51\u001b[0m-----\n"
      ]
     },
     "metadata": {},
     "output_type": "display_data"
    },
    {
     "data": {
      "text/html": [
       "<pre style=\"white-space:pre;overflow-x:auto;line-height:normal;font-family:Menlo,'DejaVu Sans Mono',consolas,'Courier New',monospace\">Preferred Common Name : Black-mantled Tamarin\n",
       "</pre>\n"
      ],
      "text/plain": [
       "Preferred Common Name : Black-mantled Tamarin\n"
      ]
     },
     "metadata": {},
     "output_type": "display_data"
    },
    {
     "data": {
      "text/html": [
       "<pre style=\"white-space:pre;overflow-x:auto;line-height:normal;font-family:Menlo,'DejaVu Sans Mono',consolas,'Courier New',monospace\">Preferred Scientific Name : Saguinus nigricollis\n",
       "</pre>\n"
      ],
      "text/plain": [
       "Preferred Scientific Name : Saguinus nigricollis\n"
      ]
     },
     "metadata": {},
     "output_type": "display_data"
    },
    {
     "data": {
      "text/html": [
       "<pre style=\"white-space:pre;overflow-x:auto;line-height:normal;font-family:Menlo,'DejaVu Sans Mono',consolas,'Courier New',monospace\">Places where it is found :  South America , Ecuador , \n",
       "</pre>\n"
      ],
      "text/plain": [
       "Places where it is found :  South America , Ecuador , \n"
      ]
     },
     "metadata": {},
     "output_type": "display_data"
    },
    {
     "data": {
      "text/html": [
       "<pre style=\"white-space:pre;overflow-x:auto;line-height:normal;font-family:Menlo,'DejaVu Sans Mono',consolas,'Courier New',monospace\">-----NUMBER <span style=\"color: #008080; text-decoration-color: #008080; font-weight: bold\">52</span>-----\n",
       "</pre>\n"
      ],
      "text/plain": [
       "-----NUMBER \u001b[1;36m52\u001b[0m-----\n"
      ]
     },
     "metadata": {},
     "output_type": "display_data"
    },
    {
     "data": {
      "text/html": [
       "<pre style=\"white-space:pre;overflow-x:auto;line-height:normal;font-family:Menlo,'DejaVu Sans Mono',consolas,'Courier New',monospace\">Preferred Common Name : Silvery-brown Tamarin\n",
       "</pre>\n"
      ],
      "text/plain": [
       "Preferred Common Name : Silvery-brown Tamarin\n"
      ]
     },
     "metadata": {},
     "output_type": "display_data"
    },
    {
     "data": {
      "text/html": [
       "<pre style=\"white-space:pre;overflow-x:auto;line-height:normal;font-family:Menlo,'DejaVu Sans Mono',consolas,'Courier New',monospace\">Preferred Scientific Name : Saguinus leucopus\n",
       "</pre>\n"
      ],
      "text/plain": [
       "Preferred Scientific Name : Saguinus leucopus\n"
      ]
     },
     "metadata": {},
     "output_type": "display_data"
    },
    {
     "data": {
      "text/html": [
       "<pre style=\"white-space:pre;overflow-x:auto;line-height:normal;font-family:Menlo,'DejaVu Sans Mono',consolas,'Courier New',monospace\">Places where it is found :  South America , Colombia , Valle del Cauca , Cartago , \n",
       "Bucaramanga , Cartagena de Indias , Santander , Cimitarra , \n",
       "</pre>\n"
      ],
      "text/plain": [
       "Places where it is found :  South America , Colombia , Valle del Cauca , Cartago , \n",
       "Bucaramanga , Cartagena de Indias , Santander , Cimitarra , \n"
      ]
     },
     "metadata": {},
     "output_type": "display_data"
    },
    {
     "data": {
      "text/html": [
       "<pre style=\"white-space:pre;overflow-x:auto;line-height:normal;font-family:Menlo,'DejaVu Sans Mono',consolas,'Courier New',monospace\">-----NUMBER <span style=\"color: #008080; text-decoration-color: #008080; font-weight: bold\">53</span>-----\n",
       "</pre>\n"
      ],
      "text/plain": [
       "-----NUMBER \u001b[1;36m53\u001b[0m-----\n"
      ]
     },
     "metadata": {},
     "output_type": "display_data"
    },
    {
     "data": {
      "text/html": [
       "<pre style=\"white-space:pre;overflow-x:auto;line-height:normal;font-family:Menlo,'DejaVu Sans Mono',consolas,'Courier New',monospace\">Preferred Common Name : Purple-faced Langur\n",
       "</pre>\n"
      ],
      "text/plain": [
       "Preferred Common Name : Purple-faced Langur\n"
      ]
     },
     "metadata": {},
     "output_type": "display_data"
    },
    {
     "data": {
      "text/html": [
       "<pre style=\"white-space:pre;overflow-x:auto;line-height:normal;font-family:Menlo,'DejaVu Sans Mono',consolas,'Courier New',monospace\">Preferred Scientific Name : Trachypithecus vetulus\n",
       "</pre>\n"
      ],
      "text/plain": [
       "Preferred Scientific Name : Trachypithecus vetulus\n"
      ]
     },
     "metadata": {},
     "output_type": "display_data"
    },
    {
     "data": {
      "text/html": [
       "<pre style=\"white-space:pre;overflow-x:auto;line-height:normal;font-family:Menlo,'DejaVu Sans Mono',consolas,'Courier New',monospace\">Places where it is found :  Asia , Sri Lanka , \n",
       "</pre>\n"
      ],
      "text/plain": [
       "Places where it is found :  Asia , Sri Lanka , \n"
      ]
     },
     "metadata": {},
     "output_type": "display_data"
    },
    {
     "data": {
      "text/html": [
       "<pre style=\"white-space:pre;overflow-x:auto;line-height:normal;font-family:Menlo,'DejaVu Sans Mono',consolas,'Courier New',monospace\">-----NUMBER <span style=\"color: #008080; text-decoration-color: #008080; font-weight: bold\">54</span>-----\n",
       "</pre>\n"
      ],
      "text/plain": [
       "-----NUMBER \u001b[1;36m54\u001b[0m-----\n"
      ]
     },
     "metadata": {},
     "output_type": "display_data"
    },
    {
     "data": {
      "text/html": [
       "<pre style=\"white-space:pre;overflow-x:auto;line-height:normal;font-family:Menlo,'DejaVu Sans Mono',consolas,'Courier New',monospace\">Preferred Common Name : Zanzibar Red Colobus Monkey\n",
       "</pre>\n"
      ],
      "text/plain": [
       "Preferred Common Name : Zanzibar Red Colobus Monkey\n"
      ]
     },
     "metadata": {},
     "output_type": "display_data"
    },
    {
     "data": {
      "text/html": [
       "<pre style=\"white-space:pre;overflow-x:auto;line-height:normal;font-family:Menlo,'DejaVu Sans Mono',consolas,'Courier New',monospace\">Preferred Scientific Name : Piliocolobus kirkii\n",
       "</pre>\n"
      ],
      "text/plain": [
       "Preferred Scientific Name : Piliocolobus kirkii\n"
      ]
     },
     "metadata": {},
     "output_type": "display_data"
    },
    {
     "data": {
      "text/html": [
       "<pre style=\"white-space:pre;overflow-x:auto;line-height:normal;font-family:Menlo,'DejaVu Sans Mono',consolas,'Courier New',monospace\">Places where it is found :  Tanzania , \n",
       "</pre>\n"
      ],
      "text/plain": [
       "Places where it is found :  Tanzania , \n"
      ]
     },
     "metadata": {},
     "output_type": "display_data"
    },
    {
     "data": {
      "text/html": [
       "<pre style=\"white-space:pre;overflow-x:auto;line-height:normal;font-family:Menlo,'DejaVu Sans Mono',consolas,'Courier New',monospace\">-----NUMBER <span style=\"color: #008080; text-decoration-color: #008080; font-weight: bold\">55</span>-----\n",
       "</pre>\n"
      ],
      "text/plain": [
       "-----NUMBER \u001b[1;36m55\u001b[0m-----\n"
      ]
     },
     "metadata": {},
     "output_type": "display_data"
    },
    {
     "data": {
      "text/html": [
       "<pre style=\"white-space:pre;overflow-x:auto;line-height:normal;font-family:Menlo,'DejaVu Sans Mono',consolas,'Courier New',monospace\">Preferred Common Name : Javan Lutung\n",
       "</pre>\n"
      ],
      "text/plain": [
       "Preferred Common Name : Javan Lutung\n"
      ]
     },
     "metadata": {},
     "output_type": "display_data"
    },
    {
     "data": {
      "text/html": [
       "<pre style=\"white-space:pre;overflow-x:auto;line-height:normal;font-family:Menlo,'DejaVu Sans Mono',consolas,'Courier New',monospace\">Preferred Scientific Name : Trachypithecus auratus\n",
       "</pre>\n"
      ],
      "text/plain": [
       "Preferred Scientific Name : Trachypithecus auratus\n"
      ]
     },
     "metadata": {},
     "output_type": "display_data"
    },
    {
     "data": {
      "text/html": [
       "<pre style=\"white-space:pre;overflow-x:auto;line-height:normal;font-family:Menlo,'DejaVu Sans Mono',consolas,'Courier New',monospace\">Places where it is found :  Indonesia , \n",
       "</pre>\n"
      ],
      "text/plain": [
       "Places where it is found :  Indonesia , \n"
      ]
     },
     "metadata": {},
     "output_type": "display_data"
    },
    {
     "data": {
      "text/html": [
       "<pre style=\"white-space:pre;overflow-x:auto;line-height:normal;font-family:Menlo,'DejaVu Sans Mono',consolas,'Courier New',monospace\">-----NUMBER <span style=\"color: #008080; text-decoration-color: #008080; font-weight: bold\">56</span>-----\n",
       "</pre>\n"
      ],
      "text/plain": [
       "-----NUMBER \u001b[1;36m56\u001b[0m-----\n"
      ]
     },
     "metadata": {},
     "output_type": "display_data"
    },
    {
     "data": {
      "text/html": [
       "<pre style=\"white-space:pre;overflow-x:auto;line-height:normal;font-family:Menlo,'DejaVu Sans Mono',consolas,'Courier New',monospace\">Preferred Common Name : Cotton-headed Tamarin\n",
       "</pre>\n"
      ],
      "text/plain": [
       "Preferred Common Name : Cotton-headed Tamarin\n"
      ]
     },
     "metadata": {},
     "output_type": "display_data"
    },
    {
     "data": {
      "text/html": [
       "<pre style=\"white-space:pre;overflow-x:auto;line-height:normal;font-family:Menlo,'DejaVu Sans Mono',consolas,'Courier New',monospace\">Preferred Scientific Name : Saguinus oedipus\n",
       "</pre>\n"
      ],
      "text/plain": [
       "Preferred Scientific Name : Saguinus oedipus\n"
      ]
     },
     "metadata": {},
     "output_type": "display_data"
    },
    {
     "data": {
      "text/html": [
       "<pre style=\"white-space:pre;overflow-x:auto;line-height:normal;font-family:Menlo,'DejaVu Sans Mono',consolas,'Courier New',monospace\">Places where it is found :  South America , Colombia , Galápagos , Zoológico de Chapultepec ,\n",
       "</pre>\n"
      ],
      "text/plain": [
       "Places where it is found :  South America , Colombia , Galápagos , Zoológico de Chapultepec ,\n"
      ]
     },
     "metadata": {},
     "output_type": "display_data"
    },
    {
     "data": {
      "text/html": [
       "<pre style=\"white-space:pre;overflow-x:auto;line-height:normal;font-family:Menlo,'DejaVu Sans Mono',consolas,'Courier New',monospace\">-----NUMBER <span style=\"color: #008080; text-decoration-color: #008080; font-weight: bold\">57</span>-----\n",
       "</pre>\n"
      ],
      "text/plain": [
       "-----NUMBER \u001b[1;36m57\u001b[0m-----\n"
      ]
     },
     "metadata": {},
     "output_type": "display_data"
    },
    {
     "data": {
      "text/html": [
       "<pre style=\"white-space:pre;overflow-x:auto;line-height:normal;font-family:Menlo,'DejaVu Sans Mono',consolas,'Courier New',monospace\">Preferred Common Name : Black-faced Black Spider Monkey\n",
       "</pre>\n"
      ],
      "text/plain": [
       "Preferred Common Name : Black-faced Black Spider Monkey\n"
      ]
     },
     "metadata": {},
     "output_type": "display_data"
    },
    {
     "data": {
      "text/html": [
       "<pre style=\"white-space:pre;overflow-x:auto;line-height:normal;font-family:Menlo,'DejaVu Sans Mono',consolas,'Courier New',monospace\">Preferred Scientific Name : Ateles chamek\n",
       "</pre>\n"
      ],
      "text/plain": [
       "Preferred Scientific Name : Ateles chamek\n"
      ]
     },
     "metadata": {},
     "output_type": "display_data"
    },
    {
     "data": {
      "text/html": [
       "<pre style=\"white-space:pre;overflow-x:auto;line-height:normal;font-family:Menlo,'DejaVu Sans Mono',consolas,'Courier New',monospace\">Places where it is found :  South America , \n",
       "</pre>\n"
      ],
      "text/plain": [
       "Places where it is found :  South America , \n"
      ]
     },
     "metadata": {},
     "output_type": "display_data"
    },
    {
     "data": {
      "text/html": [
       "<pre style=\"white-space:pre;overflow-x:auto;line-height:normal;font-family:Menlo,'DejaVu Sans Mono',consolas,'Courier New',monospace\">-----NUMBER <span style=\"color: #008080; text-decoration-color: #008080; font-weight: bold\">58</span>-----\n",
       "</pre>\n"
      ],
      "text/plain": [
       "-----NUMBER \u001b[1;36m58\u001b[0m-----\n"
      ]
     },
     "metadata": {},
     "output_type": "display_data"
    },
    {
     "data": {
      "text/html": [
       "<pre style=\"white-space:pre;overflow-x:auto;line-height:normal;font-family:Menlo,'DejaVu Sans Mono',consolas,'Courier New',monospace\">Preferred Common Name : Maroon Leaf Monkey\n",
       "</pre>\n"
      ],
      "text/plain": [
       "Preferred Common Name : Maroon Leaf Monkey\n"
      ]
     },
     "metadata": {},
     "output_type": "display_data"
    },
    {
     "data": {
      "text/html": [
       "<pre style=\"white-space:pre;overflow-x:auto;line-height:normal;font-family:Menlo,'DejaVu Sans Mono',consolas,'Courier New',monospace\">Preferred Scientific Name : Presbytis rubicunda\n",
       "</pre>\n"
      ],
      "text/plain": [
       "Preferred Scientific Name : Presbytis rubicunda\n"
      ]
     },
     "metadata": {},
     "output_type": "display_data"
    },
    {
     "data": {
      "text/html": [
       "<pre style=\"white-space:pre;overflow-x:auto;line-height:normal;font-family:Menlo,'DejaVu Sans Mono',consolas,'Courier New',monospace\">Places where it is found :  \n",
       "</pre>\n"
      ],
      "text/plain": [
       "Places where it is found :  \n"
      ]
     },
     "metadata": {},
     "output_type": "display_data"
    },
    {
     "data": {
      "text/html": [
       "<pre style=\"white-space:pre;overflow-x:auto;line-height:normal;font-family:Menlo,'DejaVu Sans Mono',consolas,'Courier New',monospace\">-----NUMBER <span style=\"color: #008080; text-decoration-color: #008080; font-weight: bold\">59</span>-----\n",
       "</pre>\n"
      ],
      "text/plain": [
       "-----NUMBER \u001b[1;36m59\u001b[0m-----\n"
      ]
     },
     "metadata": {},
     "output_type": "display_data"
    },
    {
     "data": {
      "text/html": [
       "<pre style=\"white-space:pre;overflow-x:auto;line-height:normal;font-family:Menlo,'DejaVu Sans Mono',consolas,'Courier New',monospace\">Preferred Common Name : Pygmy Marmoset\n",
       "</pre>\n"
      ],
      "text/plain": [
       "Preferred Common Name : Pygmy Marmoset\n"
      ]
     },
     "metadata": {},
     "output_type": "display_data"
    },
    {
     "data": {
      "text/html": [
       "<pre style=\"white-space:pre;overflow-x:auto;line-height:normal;font-family:Menlo,'DejaVu Sans Mono',consolas,'Courier New',monospace\">Preferred Scientific Name : Cebuella pygmaea\n",
       "</pre>\n"
      ],
      "text/plain": [
       "Preferred Scientific Name : Cebuella pygmaea\n"
      ]
     },
     "metadata": {},
     "output_type": "display_data"
    },
    {
     "data": {
      "text/html": [
       "<pre style=\"white-space:pre;overflow-x:auto;line-height:normal;font-family:Menlo,'DejaVu Sans Mono',consolas,'Courier New',monospace\">Places where it is found :  South America , \n",
       "</pre>\n"
      ],
      "text/plain": [
       "Places where it is found :  South America , \n"
      ]
     },
     "metadata": {},
     "output_type": "display_data"
    },
    {
     "data": {
      "text/html": [
       "<pre style=\"white-space:pre;overflow-x:auto;line-height:normal;font-family:Menlo,'DejaVu Sans Mono',consolas,'Courier New',monospace\">-----NUMBER <span style=\"color: #008080; text-decoration-color: #008080; font-weight: bold\">60</span>-----\n",
       "</pre>\n"
      ],
      "text/plain": [
       "-----NUMBER \u001b[1;36m60\u001b[0m-----\n"
      ]
     },
     "metadata": {},
     "output_type": "display_data"
    },
    {
     "data": {
      "text/html": [
       "<pre style=\"white-space:pre;overflow-x:auto;line-height:normal;font-family:Menlo,'DejaVu Sans Mono',consolas,'Courier New',monospace\">Preferred Common Name : Guianan Red Howler Monkey\n",
       "</pre>\n"
      ],
      "text/plain": [
       "Preferred Common Name : Guianan Red Howler Monkey\n"
      ]
     },
     "metadata": {},
     "output_type": "display_data"
    },
    {
     "data": {
      "text/html": [
       "<pre style=\"white-space:pre;overflow-x:auto;line-height:normal;font-family:Menlo,'DejaVu Sans Mono',consolas,'Courier New',monospace\">Preferred Scientific Name : Alouatta macconnelli\n",
       "</pre>\n"
      ],
      "text/plain": [
       "Preferred Scientific Name : Alouatta macconnelli\n"
      ]
     },
     "metadata": {},
     "output_type": "display_data"
    },
    {
     "data": {
      "text/html": [
       "<pre style=\"white-space:pre;overflow-x:auto;line-height:normal;font-family:Menlo,'DejaVu Sans Mono',consolas,'Courier New',monospace\">Places where it is found :  \n",
       "</pre>\n"
      ],
      "text/plain": [
       "Places where it is found :  \n"
      ]
     },
     "metadata": {},
     "output_type": "display_data"
    },
    {
     "data": {
      "text/html": [
       "<pre style=\"white-space:pre;overflow-x:auto;line-height:normal;font-family:Menlo,'DejaVu Sans Mono',consolas,'Courier New',monospace\">-----NUMBER <span style=\"color: #008080; text-decoration-color: #008080; font-weight: bold\">61</span>-----\n",
       "</pre>\n"
      ],
      "text/plain": [
       "-----NUMBER \u001b[1;36m61\u001b[0m-----\n"
      ]
     },
     "metadata": {},
     "output_type": "display_data"
    },
    {
     "data": {
      "text/html": [
       "<pre style=\"white-space:pre;overflow-x:auto;line-height:normal;font-family:Menlo,'DejaVu Sans Mono',consolas,'Courier New',monospace\">Preferred Common Name : Nilgiri Langur\n",
       "</pre>\n"
      ],
      "text/plain": [
       "Preferred Common Name : Nilgiri Langur\n"
      ]
     },
     "metadata": {},
     "output_type": "display_data"
    },
    {
     "data": {
      "text/html": [
       "<pre style=\"white-space:pre;overflow-x:auto;line-height:normal;font-family:Menlo,'DejaVu Sans Mono',consolas,'Courier New',monospace\">Preferred Scientific Name : Semnopithecus johnii\n",
       "</pre>\n"
      ],
      "text/plain": [
       "Preferred Scientific Name : Semnopithecus johnii\n"
      ]
     },
     "metadata": {},
     "output_type": "display_data"
    },
    {
     "data": {
      "text/html": [
       "<pre style=\"white-space:pre;overflow-x:auto;line-height:normal;font-family:Menlo,'DejaVu Sans Mono',consolas,'Courier New',monospace\">Places where it is found :  India , Western Ghats , \n",
       "</pre>\n"
      ],
      "text/plain": [
       "Places where it is found :  India , Western Ghats , \n"
      ]
     },
     "metadata": {},
     "output_type": "display_data"
    },
    {
     "data": {
      "text/html": [
       "<pre style=\"white-space:pre;overflow-x:auto;line-height:normal;font-family:Menlo,'DejaVu Sans Mono',consolas,'Courier New',monospace\">-----NUMBER <span style=\"color: #008080; text-decoration-color: #008080; font-weight: bold\">62</span>-----\n",
       "</pre>\n"
      ],
      "text/plain": [
       "-----NUMBER \u001b[1;36m62\u001b[0m-----\n"
      ]
     },
     "metadata": {},
     "output_type": "display_data"
    },
    {
     "data": {
      "text/html": [
       "<pre style=\"white-space:pre;overflow-x:auto;line-height:normal;font-family:Menlo,'DejaVu Sans Mono',consolas,'Courier New',monospace\">Preferred Common Name : Common Woolly Monkey\n",
       "</pre>\n"
      ],
      "text/plain": [
       "Preferred Common Name : Common Woolly Monkey\n"
      ]
     },
     "metadata": {},
     "output_type": "display_data"
    },
    {
     "data": {
      "text/html": [
       "<pre style=\"white-space:pre;overflow-x:auto;line-height:normal;font-family:Menlo,'DejaVu Sans Mono',consolas,'Courier New',monospace\">Preferred Scientific Name : Lagothrix lagotricha\n",
       "</pre>\n"
      ],
      "text/plain": [
       "Preferred Scientific Name : Lagothrix lagotricha\n"
      ]
     },
     "metadata": {},
     "output_type": "display_data"
    },
    {
     "data": {
      "text/html": [
       "<pre style=\"white-space:pre;overflow-x:auto;line-height:normal;font-family:Menlo,'DejaVu Sans Mono',consolas,'Courier New',monospace\">Places where it is found :  \n",
       "</pre>\n"
      ],
      "text/plain": [
       "Places where it is found :  \n"
      ]
     },
     "metadata": {},
     "output_type": "display_data"
    },
    {
     "data": {
      "text/html": [
       "<pre style=\"white-space:pre;overflow-x:auto;line-height:normal;font-family:Menlo,'DejaVu Sans Mono',consolas,'Courier New',monospace\">-----NUMBER <span style=\"color: #008080; text-decoration-color: #008080; font-weight: bold\">63</span>-----\n",
       "</pre>\n"
      ],
      "text/plain": [
       "-----NUMBER \u001b[1;36m63\u001b[0m-----\n"
      ]
     },
     "metadata": {},
     "output_type": "display_data"
    },
    {
     "data": {
      "text/html": [
       "<pre style=\"white-space:pre;overflow-x:auto;line-height:normal;font-family:Menlo,'DejaVu Sans Mono',consolas,'Courier New',monospace\">Preferred Common Name : Gelada\n",
       "</pre>\n"
      ],
      "text/plain": [
       "Preferred Common Name : Gelada\n"
      ]
     },
     "metadata": {},
     "output_type": "display_data"
    },
    {
     "data": {
      "text/html": [
       "<pre style=\"white-space:pre;overflow-x:auto;line-height:normal;font-family:Menlo,'DejaVu Sans Mono',consolas,'Courier New',monospace\">Preferred Scientific Name : Theropithecus gelada\n",
       "</pre>\n"
      ],
      "text/plain": [
       "Preferred Scientific Name : Theropithecus gelada\n"
      ]
     },
     "metadata": {},
     "output_type": "display_data"
    },
    {
     "data": {
      "text/html": [
       "<pre style=\"white-space:pre;overflow-x:auto;line-height:normal;font-family:Menlo,'DejaVu Sans Mono',consolas,'Courier New',monospace\">Places where it is found :  Ethiopia , \n",
       "</pre>\n"
      ],
      "text/plain": [
       "Places where it is found :  Ethiopia , \n"
      ]
     },
     "metadata": {},
     "output_type": "display_data"
    },
    {
     "data": {
      "text/html": [
       "<pre style=\"white-space:pre;overflow-x:auto;line-height:normal;font-family:Menlo,'DejaVu Sans Mono',consolas,'Courier New',monospace\">-----NUMBER <span style=\"color: #008080; text-decoration-color: #008080; font-weight: bold\">64</span>-----\n",
       "</pre>\n"
      ],
      "text/plain": [
       "-----NUMBER \u001b[1;36m64\u001b[0m-----\n"
      ]
     },
     "metadata": {},
     "output_type": "display_data"
    },
    {
     "data": {
      "text/html": [
       "<pre style=\"white-space:pre;overflow-x:auto;line-height:normal;font-family:Menlo,'DejaVu Sans Mono',consolas,'Courier New',monospace\">Preferred Common Name : Angola Colobus\n",
       "</pre>\n"
      ],
      "text/plain": [
       "Preferred Common Name : Angola Colobus\n"
      ]
     },
     "metadata": {},
     "output_type": "display_data"
    },
    {
     "data": {
      "text/html": [
       "<pre style=\"white-space:pre;overflow-x:auto;line-height:normal;font-family:Menlo,'DejaVu Sans Mono',consolas,'Courier New',monospace\">Preferred Scientific Name : Colobus angolensis\n",
       "</pre>\n"
      ],
      "text/plain": [
       "Preferred Scientific Name : Colobus angolensis\n"
      ]
     },
     "metadata": {},
     "output_type": "display_data"
    },
    {
     "data": {
      "text/html": [
       "<pre style=\"white-space:pre;overflow-x:auto;line-height:normal;font-family:Menlo,'DejaVu Sans Mono',consolas,'Courier New',monospace\">Places where it is found :  \n",
       "</pre>\n"
      ],
      "text/plain": [
       "Places where it is found :  \n"
      ]
     },
     "metadata": {},
     "output_type": "display_data"
    },
    {
     "data": {
      "text/html": [
       "<pre style=\"white-space:pre;overflow-x:auto;line-height:normal;font-family:Menlo,'DejaVu Sans Mono',consolas,'Courier New',monospace\">-----NUMBER <span style=\"color: #008080; text-decoration-color: #008080; font-weight: bold\">65</span>-----\n",
       "</pre>\n"
      ],
      "text/plain": [
       "-----NUMBER \u001b[1;36m65\u001b[0m-----\n"
      ]
     },
     "metadata": {},
     "output_type": "display_data"
    },
    {
     "data": {
      "text/html": [
       "<pre style=\"white-space:pre;overflow-x:auto;line-height:normal;font-family:Menlo,'DejaVu Sans Mono',consolas,'Courier New',monospace\">Preferred Common Name : Capped Lutung\n",
       "</pre>\n"
      ],
      "text/plain": [
       "Preferred Common Name : Capped Lutung\n"
      ]
     },
     "metadata": {},
     "output_type": "display_data"
    },
    {
     "data": {
      "text/html": [
       "<pre style=\"white-space:pre;overflow-x:auto;line-height:normal;font-family:Menlo,'DejaVu Sans Mono',consolas,'Courier New',monospace\">Preferred Scientific Name : Trachypithecus pileatus\n",
       "</pre>\n"
      ],
      "text/plain": [
       "Preferred Scientific Name : Trachypithecus pileatus\n"
      ]
     },
     "metadata": {},
     "output_type": "display_data"
    },
    {
     "data": {
      "text/html": [
       "<pre style=\"white-space:pre;overflow-x:auto;line-height:normal;font-family:Menlo,'DejaVu Sans Mono',consolas,'Courier New',monospace\">Places where it is found :  \n",
       "</pre>\n"
      ],
      "text/plain": [
       "Places where it is found :  \n"
      ]
     },
     "metadata": {},
     "output_type": "display_data"
    },
    {
     "data": {
      "text/html": [
       "<pre style=\"white-space:pre;overflow-x:auto;line-height:normal;font-family:Menlo,'DejaVu Sans Mono',consolas,'Courier New',monospace\">-----NUMBER <span style=\"color: #008080; text-decoration-color: #008080; font-weight: bold\">66</span>-----\n",
       "</pre>\n"
      ],
      "text/plain": [
       "-----NUMBER \u001b[1;36m66\u001b[0m-----\n"
      ]
     },
     "metadata": {},
     "output_type": "display_data"
    },
    {
     "data": {
      "text/html": [
       "<pre style=\"white-space:pre;overflow-x:auto;line-height:normal;font-family:Menlo,'DejaVu Sans Mono',consolas,'Courier New',monospace\">Preferred Common Name : White-thighed Surili\n",
       "</pre>\n"
      ],
      "text/plain": [
       "Preferred Common Name : White-thighed Surili\n"
      ]
     },
     "metadata": {},
     "output_type": "display_data"
    },
    {
     "data": {
      "text/html": [
       "<pre style=\"white-space:pre;overflow-x:auto;line-height:normal;font-family:Menlo,'DejaVu Sans Mono',consolas,'Courier New',monospace\">Preferred Scientific Name : Presbytis siamensis\n",
       "</pre>\n"
      ],
      "text/plain": [
       "Preferred Scientific Name : Presbytis siamensis\n"
      ]
     },
     "metadata": {},
     "output_type": "display_data"
    },
    {
     "data": {
      "text/html": [
       "<pre style=\"white-space:pre;overflow-x:auto;line-height:normal;font-family:Menlo,'DejaVu Sans Mono',consolas,'Courier New',monospace\">Places where it is found :  \n",
       "</pre>\n"
      ],
      "text/plain": [
       "Places where it is found :  \n"
      ]
     },
     "metadata": {},
     "output_type": "display_data"
    },
    {
     "data": {
      "text/html": [
       "<pre style=\"white-space:pre;overflow-x:auto;line-height:normal;font-family:Menlo,'DejaVu Sans Mono',consolas,'Courier New',monospace\">-----NUMBER <span style=\"color: #008080; text-decoration-color: #008080; font-weight: bold\">67</span>-----\n",
       "</pre>\n"
      ],
      "text/plain": [
       "-----NUMBER \u001b[1;36m67\u001b[0m-----\n"
      ]
     },
     "metadata": {},
     "output_type": "display_data"
    },
    {
     "data": {
      "text/html": [
       "<pre style=\"white-space:pre;overflow-x:auto;line-height:normal;font-family:Menlo,'DejaVu Sans Mono',consolas,'Courier New',monospace\">Preferred Common Name : Large-headed Capuchin\n",
       "</pre>\n"
      ],
      "text/plain": [
       "Preferred Common Name : Large-headed Capuchin\n"
      ]
     },
     "metadata": {},
     "output_type": "display_data"
    },
    {
     "data": {
      "text/html": [
       "<pre style=\"white-space:pre;overflow-x:auto;line-height:normal;font-family:Menlo,'DejaVu Sans Mono',consolas,'Courier New',monospace\">Preferred Scientific Name : Sapajus macrocephalus\n",
       "</pre>\n"
      ],
      "text/plain": [
       "Preferred Scientific Name : Sapajus macrocephalus\n"
      ]
     },
     "metadata": {},
     "output_type": "display_data"
    },
    {
     "data": {
      "text/html": [
       "<pre style=\"white-space:pre;overflow-x:auto;line-height:normal;font-family:Menlo,'DejaVu Sans Mono',consolas,'Courier New',monospace\">Places where it is found :  South America , \n",
       "</pre>\n"
      ],
      "text/plain": [
       "Places where it is found :  South America , \n"
      ]
     },
     "metadata": {},
     "output_type": "display_data"
    },
    {
     "data": {
      "text/html": [
       "<pre style=\"white-space:pre;overflow-x:auto;line-height:normal;font-family:Menlo,'DejaVu Sans Mono',consolas,'Courier New',monospace\">-----NUMBER <span style=\"color: #008080; text-decoration-color: #008080; font-weight: bold\">68</span>-----\n",
       "</pre>\n"
      ],
      "text/plain": [
       "-----NUMBER \u001b[1;36m68\u001b[0m-----\n"
      ]
     },
     "metadata": {},
     "output_type": "display_data"
    },
    {
     "data": {
      "text/html": [
       "<pre style=\"white-space:pre;overflow-x:auto;line-height:normal;font-family:Menlo,'DejaVu Sans Mono',consolas,'Courier New',monospace\">Preferred Common Name : Celebes Crested Macaque\n",
       "</pre>\n"
      ],
      "text/plain": [
       "Preferred Common Name : Celebes Crested Macaque\n"
      ]
     },
     "metadata": {},
     "output_type": "display_data"
    },
    {
     "data": {
      "text/html": [
       "<pre style=\"white-space:pre;overflow-x:auto;line-height:normal;font-family:Menlo,'DejaVu Sans Mono',consolas,'Courier New',monospace\">Preferred Scientific Name : Macaca nigra\n",
       "</pre>\n"
      ],
      "text/plain": [
       "Preferred Scientific Name : Macaca nigra\n"
      ]
     },
     "metadata": {},
     "output_type": "display_data"
    },
    {
     "data": {
      "text/html": [
       "<pre style=\"white-space:pre;overflow-x:auto;line-height:normal;font-family:Menlo,'DejaVu Sans Mono',consolas,'Courier New',monospace\">Places where it is found :  Indonesia , \n",
       "</pre>\n"
      ],
      "text/plain": [
       "Places where it is found :  Indonesia , \n"
      ]
     },
     "metadata": {},
     "output_type": "display_data"
    },
    {
     "data": {
      "text/html": [
       "<pre style=\"white-space:pre;overflow-x:auto;line-height:normal;font-family:Menlo,'DejaVu Sans Mono',consolas,'Courier New',monospace\">-----NUMBER <span style=\"color: #008080; text-decoration-color: #008080; font-weight: bold\">69</span>-----\n",
       "</pre>\n"
      ],
      "text/plain": [
       "-----NUMBER \u001b[1;36m69\u001b[0m-----\n"
      ]
     },
     "metadata": {},
     "output_type": "display_data"
    },
    {
     "data": {
      "text/html": [
       "<pre style=\"white-space:pre;overflow-x:auto;line-height:normal;font-family:Menlo,'DejaVu Sans Mono',consolas,'Courier New',monospace\">Preferred Common Name : Western Hoolock Gibbon\n",
       "</pre>\n"
      ],
      "text/plain": [
       "Preferred Common Name : Western Hoolock Gibbon\n"
      ]
     },
     "metadata": {},
     "output_type": "display_data"
    },
    {
     "data": {
      "text/html": [
       "<pre style=\"white-space:pre;overflow-x:auto;line-height:normal;font-family:Menlo,'DejaVu Sans Mono',consolas,'Courier New',monospace\">Preferred Scientific Name : Hoolock hoolock\n",
       "</pre>\n"
      ],
      "text/plain": [
       "Preferred Scientific Name : Hoolock hoolock\n"
      ]
     },
     "metadata": {},
     "output_type": "display_data"
    },
    {
     "data": {
      "text/html": [
       "<pre style=\"white-space:pre;overflow-x:auto;line-height:normal;font-family:Menlo,'DejaVu Sans Mono',consolas,'Courier New',monospace\">Places where it is found :  \n",
       "</pre>\n"
      ],
      "text/plain": [
       "Places where it is found :  \n"
      ]
     },
     "metadata": {},
     "output_type": "display_data"
    },
    {
     "data": {
      "text/html": [
       "<pre style=\"white-space:pre;overflow-x:auto;line-height:normal;font-family:Menlo,'DejaVu Sans Mono',consolas,'Courier New',monospace\">-----NUMBER <span style=\"color: #008080; text-decoration-color: #008080; font-weight: bold\">70</span>-----\n",
       "</pre>\n"
      ],
      "text/plain": [
       "-----NUMBER \u001b[1;36m70\u001b[0m-----\n"
      ]
     },
     "metadata": {},
     "output_type": "display_data"
    },
    {
     "data": {
      "text/html": [
       "<pre style=\"white-space:pre;overflow-x:auto;line-height:normal;font-family:Menlo,'DejaVu Sans Mono',consolas,'Courier New',monospace\">Preferred Common Name : Siamang\n",
       "</pre>\n"
      ],
      "text/plain": [
       "Preferred Common Name : Siamang\n"
      ]
     },
     "metadata": {},
     "output_type": "display_data"
    },
    {
     "data": {
      "text/html": [
       "<pre style=\"white-space:pre;overflow-x:auto;line-height:normal;font-family:Menlo,'DejaVu Sans Mono',consolas,'Courier New',monospace\">Preferred Scientific Name : Symphalangus syndactylus\n",
       "</pre>\n"
      ],
      "text/plain": [
       "Preferred Scientific Name : Symphalangus syndactylus\n"
      ]
     },
     "metadata": {},
     "output_type": "display_data"
    },
    {
     "data": {
      "text/html": [
       "<pre style=\"white-space:pre;overflow-x:auto;line-height:normal;font-family:Menlo,'DejaVu Sans Mono',consolas,'Courier New',monospace\">Places where it is found :  Distrito Federal , Zoológico de Chapultepec , \n",
       "</pre>\n"
      ],
      "text/plain": [
       "Places where it is found :  Distrito Federal , Zoológico de Chapultepec , \n"
      ]
     },
     "metadata": {},
     "output_type": "display_data"
    },
    {
     "data": {
      "text/html": [
       "<pre style=\"white-space:pre;overflow-x:auto;line-height:normal;font-family:Menlo,'DejaVu Sans Mono',consolas,'Courier New',monospace\">-----NUMBER <span style=\"color: #008080; text-decoration-color: #008080; font-weight: bold\">71</span>-----\n",
       "</pre>\n"
      ],
      "text/plain": [
       "-----NUMBER \u001b[1;36m71\u001b[0m-----\n"
      ]
     },
     "metadata": {},
     "output_type": "display_data"
    },
    {
     "data": {
      "text/html": [
       "<pre style=\"white-space:pre;overflow-x:auto;line-height:normal;font-family:Menlo,'DejaVu Sans Mono',consolas,'Courier New',monospace\">Preferred Common Name : Black-pencilled × Common Marmoset\n",
       "</pre>\n"
      ],
      "text/plain": [
       "Preferred Common Name : Black-pencilled × Common Marmoset\n"
      ]
     },
     "metadata": {},
     "output_type": "display_data"
    },
    {
     "data": {
      "text/html": [
       "<pre style=\"white-space:pre;overflow-x:auto;line-height:normal;font-family:Menlo,'DejaVu Sans Mono',consolas,'Courier New',monospace\">Preferred Scientific Name : Callithrix jacchus × penicillata\n",
       "</pre>\n"
      ],
      "text/plain": [
       "Preferred Scientific Name : Callithrix jacchus × penicillata\n"
      ]
     },
     "metadata": {},
     "output_type": "display_data"
    },
    {
     "data": {
      "text/html": [
       "<pre style=\"white-space:pre;overflow-x:auto;line-height:normal;font-family:Menlo,'DejaVu Sans Mono',consolas,'Courier New',monospace\">Places where it is found :  \n",
       "</pre>\n"
      ],
      "text/plain": [
       "Places where it is found :  \n"
      ]
     },
     "metadata": {},
     "output_type": "display_data"
    },
    {
     "data": {
      "text/html": [
       "<pre style=\"white-space:pre;overflow-x:auto;line-height:normal;font-family:Menlo,'DejaVu Sans Mono',consolas,'Courier New',monospace\">-----NUMBER <span style=\"color: #008080; text-decoration-color: #008080; font-weight: bold\">72</span>-----\n",
       "</pre>\n"
      ],
      "text/plain": [
       "-----NUMBER \u001b[1;36m72\u001b[0m-----\n"
      ]
     },
     "metadata": {},
     "output_type": "display_data"
    },
    {
     "data": {
      "text/html": [
       "<pre style=\"white-space:pre;overflow-x:auto;line-height:normal;font-family:Menlo,'DejaVu Sans Mono',consolas,'Courier New',monospace\">Preferred Common Name : L'Hoest's Monkey\n",
       "</pre>\n"
      ],
      "text/plain": [
       "Preferred Common Name : L'Hoest's Monkey\n"
      ]
     },
     "metadata": {},
     "output_type": "display_data"
    },
    {
     "data": {
      "text/html": [
       "<pre style=\"white-space:pre;overflow-x:auto;line-height:normal;font-family:Menlo,'DejaVu Sans Mono',consolas,'Courier New',monospace\">Preferred Scientific Name : Allochrocebus lhoesti\n",
       "</pre>\n"
      ],
      "text/plain": [
       "Preferred Scientific Name : Allochrocebus lhoesti\n"
      ]
     },
     "metadata": {},
     "output_type": "display_data"
    },
    {
     "data": {
      "text/html": [
       "<pre style=\"white-space:pre;overflow-x:auto;line-height:normal;font-family:Menlo,'DejaVu Sans Mono',consolas,'Courier New',monospace\">Places where it is found :  \n",
       "</pre>\n"
      ],
      "text/plain": [
       "Places where it is found :  \n"
      ]
     },
     "metadata": {},
     "output_type": "display_data"
    },
    {
     "data": {
      "text/html": [
       "<pre style=\"white-space:pre;overflow-x:auto;line-height:normal;font-family:Menlo,'DejaVu Sans Mono',consolas,'Courier New',monospace\">-----NUMBER <span style=\"color: #008080; text-decoration-color: #008080; font-weight: bold\">73</span>-----\n",
       "</pre>\n"
      ],
      "text/plain": [
       "-----NUMBER \u001b[1;36m73\u001b[0m-----\n"
      ]
     },
     "metadata": {},
     "output_type": "display_data"
    },
    {
     "data": {
      "text/html": [
       "<pre style=\"white-space:pre;overflow-x:auto;line-height:normal;font-family:Menlo,'DejaVu Sans Mono',consolas,'Courier New',monospace\">Preferred Common Name : Grivet\n",
       "</pre>\n"
      ],
      "text/plain": [
       "Preferred Common Name : Grivet\n"
      ]
     },
     "metadata": {},
     "output_type": "display_data"
    },
    {
     "data": {
      "text/html": [
       "<pre style=\"white-space:pre;overflow-x:auto;line-height:normal;font-family:Menlo,'DejaVu Sans Mono',consolas,'Courier New',monospace\">Preferred Scientific Name : Chlorocebus aethiops\n",
       "</pre>\n"
      ],
      "text/plain": [
       "Preferred Scientific Name : Chlorocebus aethiops\n"
      ]
     },
     "metadata": {},
     "output_type": "display_data"
    },
    {
     "data": {
      "text/html": [
       "<pre style=\"white-space:pre;overflow-x:auto;line-height:normal;font-family:Menlo,'DejaVu Sans Mono',consolas,'Courier New',monospace\">Places where it is found :  \n",
       "</pre>\n"
      ],
      "text/plain": [
       "Places where it is found :  \n"
      ]
     },
     "metadata": {},
     "output_type": "display_data"
    },
    {
     "data": {
      "text/html": [
       "<pre style=\"white-space:pre;overflow-x:auto;line-height:normal;font-family:Menlo,'DejaVu Sans Mono',consolas,'Courier New',monospace\">-----NUMBER <span style=\"color: #008080; text-decoration-color: #008080; font-weight: bold\">74</span>-----\n",
       "</pre>\n"
      ],
      "text/plain": [
       "-----NUMBER \u001b[1;36m74\u001b[0m-----\n"
      ]
     },
     "metadata": {},
     "output_type": "display_data"
    },
    {
     "data": {
      "text/html": [
       "<pre style=\"white-space:pre;overflow-x:auto;line-height:normal;font-family:Menlo,'DejaVu Sans Mono',consolas,'Courier New',monospace\">Preferred Common Name : Mount Kilimanjaro Guereza\n",
       "</pre>\n"
      ],
      "text/plain": [
       "Preferred Common Name : Mount Kilimanjaro Guereza\n"
      ]
     },
     "metadata": {},
     "output_type": "display_data"
    },
    {
     "data": {
      "text/html": [
       "<pre style=\"white-space:pre;overflow-x:auto;line-height:normal;font-family:Menlo,'DejaVu Sans Mono',consolas,'Courier New',monospace\">Preferred Scientific Name : Colobus caudatus\n",
       "</pre>\n"
      ],
      "text/plain": [
       "Preferred Scientific Name : Colobus caudatus\n"
      ]
     },
     "metadata": {},
     "output_type": "display_data"
    },
    {
     "data": {
      "text/html": [
       "<pre style=\"white-space:pre;overflow-x:auto;line-height:normal;font-family:Menlo,'DejaVu Sans Mono',consolas,'Courier New',monospace\">Places where it is found :  \n",
       "</pre>\n"
      ],
      "text/plain": [
       "Places where it is found :  \n"
      ]
     },
     "metadata": {},
     "output_type": "display_data"
    },
    {
     "data": {
      "text/html": [
       "<pre style=\"white-space:pre;overflow-x:auto;line-height:normal;font-family:Menlo,'DejaVu Sans Mono',consolas,'Courier New',monospace\">-----NUMBER <span style=\"color: #008080; text-decoration-color: #008080; font-weight: bold\">75</span>-----\n",
       "</pre>\n"
      ],
      "text/plain": [
       "-----NUMBER \u001b[1;36m75\u001b[0m-----\n"
      ]
     },
     "metadata": {},
     "output_type": "display_data"
    },
    {
     "data": {
      "text/html": [
       "<pre style=\"white-space:pre;overflow-x:auto;line-height:normal;font-family:Menlo,'DejaVu Sans Mono',consolas,'Courier New',monospace\">Preferred Common Name : Banded Surili\n",
       "</pre>\n"
      ],
      "text/plain": [
       "Preferred Common Name : Banded Surili\n"
      ]
     },
     "metadata": {},
     "output_type": "display_data"
    },
    {
     "data": {
      "text/html": [
       "<pre style=\"white-space:pre;overflow-x:auto;line-height:normal;font-family:Menlo,'DejaVu Sans Mono',consolas,'Courier New',monospace\">Preferred Scientific Name : Presbytis femoralis\n",
       "</pre>\n"
      ],
      "text/plain": [
       "Preferred Scientific Name : Presbytis femoralis\n"
      ]
     },
     "metadata": {},
     "output_type": "display_data"
    },
    {
     "data": {
      "text/html": [
       "<pre style=\"white-space:pre;overflow-x:auto;line-height:normal;font-family:Menlo,'DejaVu Sans Mono',consolas,'Courier New',monospace\">Places where it is found :  Asia , Singapore , \n",
       "</pre>\n"
      ],
      "text/plain": [
       "Places where it is found :  Asia , Singapore , \n"
      ]
     },
     "metadata": {},
     "output_type": "display_data"
    },
    {
     "data": {
      "text/html": [
       "<pre style=\"white-space:pre;overflow-x:auto;line-height:normal;font-family:Menlo,'DejaVu Sans Mono',consolas,'Courier New',monospace\">-----NUMBER <span style=\"color: #008080; text-decoration-color: #008080; font-weight: bold\">76</span>-----\n",
       "</pre>\n"
      ],
      "text/plain": [
       "-----NUMBER \u001b[1;36m76\u001b[0m-----\n"
      ]
     },
     "metadata": {},
     "output_type": "display_data"
    },
    {
     "data": {
      "text/html": [
       "<pre style=\"white-space:pre;overflow-x:auto;line-height:normal;font-family:Menlo,'DejaVu Sans Mono',consolas,'Courier New',monospace\">Preferred Common Name : Stump-tailed Macaque\n",
       "</pre>\n"
      ],
      "text/plain": [
       "Preferred Common Name : Stump-tailed Macaque\n"
      ]
     },
     "metadata": {},
     "output_type": "display_data"
    },
    {
     "data": {
      "text/html": [
       "<pre style=\"white-space:pre;overflow-x:auto;line-height:normal;font-family:Menlo,'DejaVu Sans Mono',consolas,'Courier New',monospace\">Preferred Scientific Name : Macaca arctoides\n",
       "</pre>\n"
      ],
      "text/plain": [
       "Preferred Scientific Name : Macaca arctoides\n"
      ]
     },
     "metadata": {},
     "output_type": "display_data"
    },
    {
     "data": {
      "text/html": [
       "<pre style=\"white-space:pre;overflow-x:auto;line-height:normal;font-family:Menlo,'DejaVu Sans Mono',consolas,'Courier New',monospace\">Places where it is found :  North America , Mexico , Veracruz , Catemaco , ECORREGIÓN SIERRA \n",
       "LOS TUXTLAS , ECORREGIÓN LOS TUXTLAS , \n",
       "</pre>\n"
      ],
      "text/plain": [
       "Places where it is found :  North America , Mexico , Veracruz , Catemaco , ECORREGIÓN SIERRA \n",
       "LOS TUXTLAS , ECORREGIÓN LOS TUXTLAS , \n"
      ]
     },
     "metadata": {},
     "output_type": "display_data"
    },
    {
     "data": {
      "text/html": [
       "<pre style=\"white-space:pre;overflow-x:auto;line-height:normal;font-family:Menlo,'DejaVu Sans Mono',consolas,'Courier New',monospace\">-----NUMBER <span style=\"color: #008080; text-decoration-color: #008080; font-weight: bold\">77</span>-----\n",
       "</pre>\n"
      ],
      "text/plain": [
       "-----NUMBER \u001b[1;36m77\u001b[0m-----\n"
      ]
     },
     "metadata": {},
     "output_type": "display_data"
    },
    {
     "data": {
      "text/html": [
       "<pre style=\"white-space:pre;overflow-x:auto;line-height:normal;font-family:Menlo,'DejaVu Sans Mono',consolas,'Courier New',monospace\">Preferred Common Name : Assam Macaque\n",
       "</pre>\n"
      ],
      "text/plain": [
       "Preferred Common Name : Assam Macaque\n"
      ]
     },
     "metadata": {},
     "output_type": "display_data"
    },
    {
     "data": {
      "text/html": [
       "<pre style=\"white-space:pre;overflow-x:auto;line-height:normal;font-family:Menlo,'DejaVu Sans Mono',consolas,'Courier New',monospace\">Preferred Scientific Name : Macaca assamensis\n",
       "</pre>\n"
      ],
      "text/plain": [
       "Preferred Scientific Name : Macaca assamensis\n"
      ]
     },
     "metadata": {},
     "output_type": "display_data"
    },
    {
     "data": {
      "text/html": [
       "<pre style=\"white-space:pre;overflow-x:auto;line-height:normal;font-family:Menlo,'DejaVu Sans Mono',consolas,'Courier New',monospace\">Places where it is found :  \n",
       "</pre>\n"
      ],
      "text/plain": [
       "Places where it is found :  \n"
      ]
     },
     "metadata": {},
     "output_type": "display_data"
    },
    {
     "data": {
      "text/html": [
       "<pre style=\"white-space:pre;overflow-x:auto;line-height:normal;font-family:Menlo,'DejaVu Sans Mono',consolas,'Courier New',monospace\">-----NUMBER <span style=\"color: #008080; text-decoration-color: #008080; font-weight: bold\">78</span>-----\n",
       "</pre>\n"
      ],
      "text/plain": [
       "-----NUMBER \u001b[1;36m78\u001b[0m-----\n"
      ]
     },
     "metadata": {},
     "output_type": "display_data"
    },
    {
     "data": {
      "text/html": [
       "<pre style=\"white-space:pre;overflow-x:auto;line-height:normal;font-family:Menlo,'DejaVu Sans Mono',consolas,'Courier New',monospace\">Preferred Common Name : Lion-tailed Macaque\n",
       "</pre>\n"
      ],
      "text/plain": [
       "Preferred Common Name : Lion-tailed Macaque\n"
      ]
     },
     "metadata": {},
     "output_type": "display_data"
    },
    {
     "data": {
      "text/html": [
       "<pre style=\"white-space:pre;overflow-x:auto;line-height:normal;font-family:Menlo,'DejaVu Sans Mono',consolas,'Courier New',monospace\">Preferred Scientific Name : Macaca silenus\n",
       "</pre>\n"
      ],
      "text/plain": [
       "Preferred Scientific Name : Macaca silenus\n"
      ]
     },
     "metadata": {},
     "output_type": "display_data"
    },
    {
     "data": {
      "text/html": [
       "<pre style=\"white-space:pre;overflow-x:auto;line-height:normal;font-family:Menlo,'DejaVu Sans Mono',consolas,'Courier New',monospace\">Places where it is found :  India , Western Ghats , \n",
       "</pre>\n"
      ],
      "text/plain": [
       "Places where it is found :  India , Western Ghats , \n"
      ]
     },
     "metadata": {},
     "output_type": "display_data"
    },
    {
     "data": {
      "text/html": [
       "<pre style=\"white-space:pre;overflow-x:auto;line-height:normal;font-family:Menlo,'DejaVu Sans Mono',consolas,'Courier New',monospace\">-----NUMBER <span style=\"color: #008080; text-decoration-color: #008080; font-weight: bold\">79</span>-----\n",
       "</pre>\n"
      ],
      "text/plain": [
       "-----NUMBER \u001b[1;36m79\u001b[0m-----\n"
      ]
     },
     "metadata": {},
     "output_type": "display_data"
    },
    {
     "data": {
      "text/html": [
       "<pre style=\"white-space:pre;overflow-x:auto;line-height:normal;font-family:Menlo,'DejaVu Sans Mono',consolas,'Courier New',monospace\">Preferred Common Name : Grey-cheeked Mangabey\n",
       "</pre>\n"
      ],
      "text/plain": [
       "Preferred Common Name : Grey-cheeked Mangabey\n"
      ]
     },
     "metadata": {},
     "output_type": "display_data"
    },
    {
     "data": {
      "text/html": [
       "<pre style=\"white-space:pre;overflow-x:auto;line-height:normal;font-family:Menlo,'DejaVu Sans Mono',consolas,'Courier New',monospace\">Preferred Scientific Name : Lophocebus albigena\n",
       "</pre>\n"
      ],
      "text/plain": [
       "Preferred Scientific Name : Lophocebus albigena\n"
      ]
     },
     "metadata": {},
     "output_type": "display_data"
    },
    {
     "data": {
      "text/html": [
       "<pre style=\"white-space:pre;overflow-x:auto;line-height:normal;font-family:Menlo,'DejaVu Sans Mono',consolas,'Courier New',monospace\">Places where it is found :  \n",
       "</pre>\n"
      ],
      "text/plain": [
       "Places where it is found :  \n"
      ]
     },
     "metadata": {},
     "output_type": "display_data"
    },
    {
     "data": {
      "text/html": [
       "<pre style=\"white-space:pre;overflow-x:auto;line-height:normal;font-family:Menlo,'DejaVu Sans Mono',consolas,'Courier New',monospace\">-----NUMBER <span style=\"color: #008080; text-decoration-color: #008080; font-weight: bold\">80</span>-----\n",
       "</pre>\n"
      ],
      "text/plain": [
       "-----NUMBER \u001b[1;36m80\u001b[0m-----\n"
      ]
     },
     "metadata": {},
     "output_type": "display_data"
    },
    {
     "data": {
      "text/html": [
       "<pre style=\"white-space:pre;overflow-x:auto;line-height:normal;font-family:Menlo,'DejaVu Sans Mono',consolas,'Courier New',monospace\">Preferred Common Name : White-tailed Titi\n",
       "</pre>\n"
      ],
      "text/plain": [
       "Preferred Common Name : White-tailed Titi\n"
      ]
     },
     "metadata": {},
     "output_type": "display_data"
    },
    {
     "data": {
      "text/html": [
       "<pre style=\"white-space:pre;overflow-x:auto;line-height:normal;font-family:Menlo,'DejaVu Sans Mono',consolas,'Courier New',monospace\">Preferred Scientific Name : Plecturocebus discolor\n",
       "</pre>\n"
      ],
      "text/plain": [
       "Preferred Scientific Name : Plecturocebus discolor\n"
      ]
     },
     "metadata": {},
     "output_type": "display_data"
    },
    {
     "data": {
      "text/html": [
       "<pre style=\"white-space:pre;overflow-x:auto;line-height:normal;font-family:Menlo,'DejaVu Sans Mono',consolas,'Courier New',monospace\">Places where it is found :  \n",
       "</pre>\n"
      ],
      "text/plain": [
       "Places where it is found :  \n"
      ]
     },
     "metadata": {},
     "output_type": "display_data"
    },
    {
     "data": {
      "text/html": [
       "<pre style=\"white-space:pre;overflow-x:auto;line-height:normal;font-family:Menlo,'DejaVu Sans Mono',consolas,'Courier New',monospace\">-----NUMBER <span style=\"color: #008080; text-decoration-color: #008080; font-weight: bold\">81</span>-----\n",
       "</pre>\n"
      ],
      "text/plain": [
       "-----NUMBER \u001b[1;36m81\u001b[0m-----\n"
      ]
     },
     "metadata": {},
     "output_type": "display_data"
    },
    {
     "data": {
      "text/html": [
       "<pre style=\"white-space:pre;overflow-x:auto;line-height:normal;font-family:Menlo,'DejaVu Sans Mono',consolas,'Courier New',monospace\">Preferred Common Name : Western Gorilla\n",
       "</pre>\n"
      ],
      "text/plain": [
       "Preferred Common Name : Western Gorilla\n"
      ]
     },
     "metadata": {},
     "output_type": "display_data"
    },
    {
     "data": {
      "text/html": [
       "<pre style=\"white-space:pre;overflow-x:auto;line-height:normal;font-family:Menlo,'DejaVu Sans Mono',consolas,'Courier New',monospace\">Preferred Scientific Name : Gorilla gorilla\n",
       "</pre>\n"
      ],
      "text/plain": [
       "Preferred Scientific Name : Gorilla gorilla\n"
      ]
     },
     "metadata": {},
     "output_type": "display_data"
    },
    {
     "data": {
      "text/html": [
       "<pre style=\"white-space:pre;overflow-x:auto;line-height:normal;font-family:Menlo,'DejaVu Sans Mono',consolas,'Courier New',monospace\">Places where it is found :  Republic of Congo , \n",
       "</pre>\n"
      ],
      "text/plain": [
       "Places where it is found :  Republic of Congo , \n"
      ]
     },
     "metadata": {},
     "output_type": "display_data"
    },
    {
     "data": {
      "text/html": [
       "<pre style=\"white-space:pre;overflow-x:auto;line-height:normal;font-family:Menlo,'DejaVu Sans Mono',consolas,'Courier New',monospace\">-----NUMBER <span style=\"color: #008080; text-decoration-color: #008080; font-weight: bold\">82</span>-----\n",
       "</pre>\n"
      ],
      "text/plain": [
       "-----NUMBER \u001b[1;36m82\u001b[0m-----\n"
      ]
     },
     "metadata": {},
     "output_type": "display_data"
    },
    {
     "data": {
      "text/html": [
       "<pre style=\"white-space:pre;overflow-x:auto;line-height:normal;font-family:Menlo,'DejaVu Sans Mono',consolas,'Courier New',monospace\">Preferred Common Name : Ashy Red Colobus\n",
       "</pre>\n"
      ],
      "text/plain": [
       "Preferred Common Name : Ashy Red Colobus\n"
      ]
     },
     "metadata": {},
     "output_type": "display_data"
    },
    {
     "data": {
      "text/html": [
       "<pre style=\"white-space:pre;overflow-x:auto;line-height:normal;font-family:Menlo,'DejaVu Sans Mono',consolas,'Courier New',monospace\">Preferred Scientific Name : Piliocolobus tephrosceles\n",
       "</pre>\n"
      ],
      "text/plain": [
       "Preferred Scientific Name : Piliocolobus tephrosceles\n"
      ]
     },
     "metadata": {},
     "output_type": "display_data"
    },
    {
     "data": {
      "text/html": [
       "<pre style=\"white-space:pre;overflow-x:auto;line-height:normal;font-family:Menlo,'DejaVu Sans Mono',consolas,'Courier New',monospace\">Places where it is found :  \n",
       "</pre>\n"
      ],
      "text/plain": [
       "Places where it is found :  \n"
      ]
     },
     "metadata": {},
     "output_type": "display_data"
    },
    {
     "data": {
      "text/html": [
       "<pre style=\"white-space:pre;overflow-x:auto;line-height:normal;font-family:Menlo,'DejaVu Sans Mono',consolas,'Courier New',monospace\">-----NUMBER <span style=\"color: #008080; text-decoration-color: #008080; font-weight: bold\">83</span>-----\n",
       "</pre>\n"
      ],
      "text/plain": [
       "-----NUMBER \u001b[1;36m83\u001b[0m-----\n"
      ]
     },
     "metadata": {},
     "output_type": "display_data"
    },
    {
     "data": {
      "text/html": [
       "<pre style=\"white-space:pre;overflow-x:auto;line-height:normal;font-family:Menlo,'DejaVu Sans Mono',consolas,'Courier New',monospace\">Preferred Common Name : Black-tailed Marmoset\n",
       "</pre>\n"
      ],
      "text/plain": [
       "Preferred Common Name : Black-tailed Marmoset\n"
      ]
     },
     "metadata": {},
     "output_type": "display_data"
    },
    {
     "data": {
      "text/html": [
       "<pre style=\"white-space:pre;overflow-x:auto;line-height:normal;font-family:Menlo,'DejaVu Sans Mono',consolas,'Courier New',monospace\">Preferred Scientific Name : Mico melanurus\n",
       "</pre>\n"
      ],
      "text/plain": [
       "Preferred Scientific Name : Mico melanurus\n"
      ]
     },
     "metadata": {},
     "output_type": "display_data"
    },
    {
     "data": {
      "text/html": [
       "<pre style=\"white-space:pre;overflow-x:auto;line-height:normal;font-family:Menlo,'DejaVu Sans Mono',consolas,'Courier New',monospace\">Places where it is found :  South America , \n",
       "</pre>\n"
      ],
      "text/plain": [
       "Places where it is found :  South America , \n"
      ]
     },
     "metadata": {},
     "output_type": "display_data"
    },
    {
     "data": {
      "text/html": [
       "<pre style=\"white-space:pre;overflow-x:auto;line-height:normal;font-family:Menlo,'DejaVu Sans Mono',consolas,'Courier New',monospace\">-----NUMBER <span style=\"color: #008080; text-decoration-color: #008080; font-weight: bold\">84</span>-----\n",
       "</pre>\n"
      ],
      "text/plain": [
       "-----NUMBER \u001b[1;36m84\u001b[0m-----\n"
      ]
     },
     "metadata": {},
     "output_type": "display_data"
    },
    {
     "data": {
      "text/html": [
       "<pre style=\"white-space:pre;overflow-x:auto;line-height:normal;font-family:Menlo,'DejaVu Sans Mono',consolas,'Courier New',monospace\">Preferred Common Name : Bolivian Red Howler Monkey\n",
       "</pre>\n"
      ],
      "text/plain": [
       "Preferred Common Name : Bolivian Red Howler Monkey\n"
      ]
     },
     "metadata": {},
     "output_type": "display_data"
    },
    {
     "data": {
      "text/html": [
       "<pre style=\"white-space:pre;overflow-x:auto;line-height:normal;font-family:Menlo,'DejaVu Sans Mono',consolas,'Courier New',monospace\">Preferred Scientific Name : Alouatta sara\n",
       "</pre>\n"
      ],
      "text/plain": [
       "Preferred Scientific Name : Alouatta sara\n"
      ]
     },
     "metadata": {},
     "output_type": "display_data"
    },
    {
     "data": {
      "text/html": [
       "<pre style=\"white-space:pre;overflow-x:auto;line-height:normal;font-family:Menlo,'DejaVu Sans Mono',consolas,'Courier New',monospace\">Places where it is found :  \n",
       "</pre>\n"
      ],
      "text/plain": [
       "Places where it is found :  \n"
      ]
     },
     "metadata": {},
     "output_type": "display_data"
    },
    {
     "data": {
      "text/html": [
       "<pre style=\"white-space:pre;overflow-x:auto;line-height:normal;font-family:Menlo,'DejaVu Sans Mono',consolas,'Courier New',monospace\">-----NUMBER <span style=\"color: #008080; text-decoration-color: #008080; font-weight: bold\">85</span>-----\n",
       "</pre>\n"
      ],
      "text/plain": [
       "-----NUMBER \u001b[1;36m85\u001b[0m-----\n"
      ]
     },
     "metadata": {},
     "output_type": "display_data"
    },
    {
     "data": {
      "text/html": [
       "<pre style=\"white-space:pre;overflow-x:auto;line-height:normal;font-family:Menlo,'DejaVu Sans Mono',consolas,'Courier New',monospace\">Preferred Common Name : Buffy-tufted-ear Marmoset\n",
       "</pre>\n"
      ],
      "text/plain": [
       "Preferred Common Name : Buffy-tufted-ear Marmoset\n"
      ]
     },
     "metadata": {},
     "output_type": "display_data"
    },
    {
     "data": {
      "text/html": [
       "<pre style=\"white-space:pre;overflow-x:auto;line-height:normal;font-family:Menlo,'DejaVu Sans Mono',consolas,'Courier New',monospace\">Preferred Scientific Name : Callithrix aurita\n",
       "</pre>\n"
      ],
      "text/plain": [
       "Preferred Scientific Name : Callithrix aurita\n"
      ]
     },
     "metadata": {},
     "output_type": "display_data"
    },
    {
     "data": {
      "text/html": [
       "<pre style=\"white-space:pre;overflow-x:auto;line-height:normal;font-family:Menlo,'DejaVu Sans Mono',consolas,'Courier New',monospace\">Places where it is found :  South America , Brazil , \n",
       "</pre>\n"
      ],
      "text/plain": [
       "Places where it is found :  South America , Brazil , \n"
      ]
     },
     "metadata": {},
     "output_type": "display_data"
    },
    {
     "data": {
      "text/html": [
       "<pre style=\"white-space:pre;overflow-x:auto;line-height:normal;font-family:Menlo,'DejaVu Sans Mono',consolas,'Courier New',monospace\">-----NUMBER <span style=\"color: #008080; text-decoration-color: #008080; font-weight: bold\">86</span>-----\n",
       "</pre>\n"
      ],
      "text/plain": [
       "-----NUMBER \u001b[1;36m86\u001b[0m-----\n"
      ]
     },
     "metadata": {},
     "output_type": "display_data"
    },
    {
     "data": {
      "text/html": [
       "<pre style=\"white-space:pre;overflow-x:auto;line-height:normal;font-family:Menlo,'DejaVu Sans Mono',consolas,'Courier New',monospace\">Preferred Common Name : Toppin's Titi\n",
       "</pre>\n"
      ],
      "text/plain": [
       "Preferred Common Name : Toppin's Titi\n"
      ]
     },
     "metadata": {},
     "output_type": "display_data"
    },
    {
     "data": {
      "text/html": [
       "<pre style=\"white-space:pre;overflow-x:auto;line-height:normal;font-family:Menlo,'DejaVu Sans Mono',consolas,'Courier New',monospace\">Preferred Scientific Name : Plecturocebus toppini\n",
       "</pre>\n"
      ],
      "text/plain": [
       "Preferred Scientific Name : Plecturocebus toppini\n"
      ]
     },
     "metadata": {},
     "output_type": "display_data"
    },
    {
     "data": {
      "text/html": [
       "<pre style=\"white-space:pre;overflow-x:auto;line-height:normal;font-family:Menlo,'DejaVu Sans Mono',consolas,'Courier New',monospace\">Places where it is found :  \n",
       "</pre>\n"
      ],
      "text/plain": [
       "Places where it is found :  \n"
      ]
     },
     "metadata": {},
     "output_type": "display_data"
    },
    {
     "data": {
      "text/html": [
       "<pre style=\"white-space:pre;overflow-x:auto;line-height:normal;font-family:Menlo,'DejaVu Sans Mono',consolas,'Courier New',monospace\">-----NUMBER <span style=\"color: #008080; text-decoration-color: #008080; font-weight: bold\">87</span>-----\n",
       "</pre>\n"
      ],
      "text/plain": [
       "-----NUMBER \u001b[1;36m87\u001b[0m-----\n"
      ]
     },
     "metadata": {},
     "output_type": "display_data"
    },
    {
     "data": {
      "text/html": [
       "<pre style=\"white-space:pre;overflow-x:auto;line-height:normal;font-family:Menlo,'DejaVu Sans Mono',consolas,'Courier New',monospace\">Preferred Common Name : Thomas’s Langur\n",
       "</pre>\n"
      ],
      "text/plain": [
       "Preferred Common Name : Thomas’s Langur\n"
      ]
     },
     "metadata": {},
     "output_type": "display_data"
    },
    {
     "data": {
      "text/html": [
       "<pre style=\"white-space:pre;overflow-x:auto;line-height:normal;font-family:Menlo,'DejaVu Sans Mono',consolas,'Courier New',monospace\">Preferred Scientific Name : Presbytis thomasi\n",
       "</pre>\n"
      ],
      "text/plain": [
       "Preferred Scientific Name : Presbytis thomasi\n"
      ]
     },
     "metadata": {},
     "output_type": "display_data"
    },
    {
     "data": {
      "text/html": [
       "<pre style=\"white-space:pre;overflow-x:auto;line-height:normal;font-family:Menlo,'DejaVu Sans Mono',consolas,'Courier New',monospace\">Places where it is found :  Indonesia , \n",
       "</pre>\n"
      ],
      "text/plain": [
       "Places where it is found :  Indonesia , \n"
      ]
     },
     "metadata": {},
     "output_type": "display_data"
    },
    {
     "data": {
      "text/html": [
       "<pre style=\"white-space:pre;overflow-x:auto;line-height:normal;font-family:Menlo,'DejaVu Sans Mono',consolas,'Courier New',monospace\">-----NUMBER <span style=\"color: #008080; text-decoration-color: #008080; font-weight: bold\">88</span>-----\n",
       "</pre>\n"
      ],
      "text/plain": [
       "-----NUMBER \u001b[1;36m88\u001b[0m-----\n"
      ]
     },
     "metadata": {},
     "output_type": "display_data"
    },
    {
     "data": {
      "text/html": [
       "<pre style=\"white-space:pre;overflow-x:auto;line-height:normal;font-family:Menlo,'DejaVu Sans Mono',consolas,'Courier New',monospace\">Preferred Common Name : Malbrouck Monkey\n",
       "</pre>\n"
      ],
      "text/plain": [
       "Preferred Common Name : Malbrouck Monkey\n"
      ]
     },
     "metadata": {},
     "output_type": "display_data"
    },
    {
     "data": {
      "text/html": [
       "<pre style=\"white-space:pre;overflow-x:auto;line-height:normal;font-family:Menlo,'DejaVu Sans Mono',consolas,'Courier New',monospace\">Preferred Scientific Name : Chlorocebus cynosuros\n",
       "</pre>\n"
      ],
      "text/plain": [
       "Preferred Scientific Name : Chlorocebus cynosuros\n"
      ]
     },
     "metadata": {},
     "output_type": "display_data"
    },
    {
     "data": {
      "text/html": [
       "<pre style=\"white-space:pre;overflow-x:auto;line-height:normal;font-family:Menlo,'DejaVu Sans Mono',consolas,'Courier New',monospace\">Places where it is found :  \n",
       "</pre>\n"
      ],
      "text/plain": [
       "Places where it is found :  \n"
      ]
     },
     "metadata": {},
     "output_type": "display_data"
    },
    {
     "data": {
      "text/html": [
       "<pre style=\"white-space:pre;overflow-x:auto;line-height:normal;font-family:Menlo,'DejaVu Sans Mono',consolas,'Courier New',monospace\">-----NUMBER <span style=\"color: #008080; text-decoration-color: #008080; font-weight: bold\">89</span>-----\n",
       "</pre>\n"
      ],
      "text/plain": [
       "-----NUMBER \u001b[1;36m89\u001b[0m-----\n"
      ]
     },
     "metadata": {},
     "output_type": "display_data"
    },
    {
     "data": {
      "text/html": [
       "<pre style=\"white-space:pre;overflow-x:auto;line-height:normal;font-family:Menlo,'DejaVu Sans Mono',consolas,'Courier New',monospace\">Preferred Common Name : Philippine Tarsier\n",
       "</pre>\n"
      ],
      "text/plain": [
       "Preferred Common Name : Philippine Tarsier\n"
      ]
     },
     "metadata": {},
     "output_type": "display_data"
    },
    {
     "data": {
      "text/html": [
       "<pre style=\"white-space:pre;overflow-x:auto;line-height:normal;font-family:Menlo,'DejaVu Sans Mono',consolas,'Courier New',monospace\">Preferred Scientific Name : Tarsius syrichta\n",
       "</pre>\n"
      ],
      "text/plain": [
       "Preferred Scientific Name : Tarsius syrichta\n"
      ]
     },
     "metadata": {},
     "output_type": "display_data"
    },
    {
     "data": {
      "text/html": [
       "<pre style=\"white-space:pre;overflow-x:auto;line-height:normal;font-family:Menlo,'DejaVu Sans Mono',consolas,'Courier New',monospace\">Places where it is found :  Asia , Philippines , \n",
       "</pre>\n"
      ],
      "text/plain": [
       "Places where it is found :  Asia , Philippines , \n"
      ]
     },
     "metadata": {},
     "output_type": "display_data"
    },
    {
     "data": {
      "text/html": [
       "<pre style=\"white-space:pre;overflow-x:auto;line-height:normal;font-family:Menlo,'DejaVu Sans Mono',consolas,'Courier New',monospace\">-----NUMBER <span style=\"color: #008080; text-decoration-color: #008080; font-weight: bold\">90</span>-----\n",
       "</pre>\n"
      ],
      "text/plain": [
       "-----NUMBER \u001b[1;36m90\u001b[0m-----\n"
      ]
     },
     "metadata": {},
     "output_type": "display_data"
    },
    {
     "data": {
      "text/html": [
       "<pre style=\"white-space:pre;overflow-x:auto;line-height:normal;font-family:Menlo,'DejaVu Sans Mono',consolas,'Courier New',monospace\">Preferred Common Name : Emperor Tamarin\n",
       "</pre>\n"
      ],
      "text/plain": [
       "Preferred Common Name : Emperor Tamarin\n"
      ]
     },
     "metadata": {},
     "output_type": "display_data"
    },
    {
     "data": {
      "text/html": [
       "<pre style=\"white-space:pre;overflow-x:auto;line-height:normal;font-family:Menlo,'DejaVu Sans Mono',consolas,'Courier New',monospace\">Preferred Scientific Name : Saguinus imperator\n",
       "</pre>\n"
      ],
      "text/plain": [
       "Preferred Scientific Name : Saguinus imperator\n"
      ]
     },
     "metadata": {},
     "output_type": "display_data"
    },
    {
     "data": {
      "text/html": [
       "<pre style=\"white-space:pre;overflow-x:auto;line-height:normal;font-family:Menlo,'DejaVu Sans Mono',consolas,'Courier New',monospace\">Places where it is found :  \n",
       "</pre>\n"
      ],
      "text/plain": [
       "Places where it is found :  \n"
      ]
     },
     "metadata": {},
     "output_type": "display_data"
    },
    {
     "data": {
      "text/html": [
       "<pre style=\"white-space:pre;overflow-x:auto;line-height:normal;font-family:Menlo,'DejaVu Sans Mono',consolas,'Courier New',monospace\">-----NUMBER <span style=\"color: #008080; text-decoration-color: #008080; font-weight: bold\">91</span>-----\n",
       "</pre>\n"
      ],
      "text/plain": [
       "-----NUMBER \u001b[1;36m91\u001b[0m-----\n"
      ]
     },
     "metadata": {},
     "output_type": "display_data"
    },
    {
     "data": {
      "text/html": [
       "<pre style=\"white-space:pre;overflow-x:auto;line-height:normal;font-family:Menlo,'DejaVu Sans Mono',consolas,'Courier New',monospace\">Preferred Common Name : White-bellied Spider Monkey\n",
       "</pre>\n"
      ],
      "text/plain": [
       "Preferred Common Name : White-bellied Spider Monkey\n"
      ]
     },
     "metadata": {},
     "output_type": "display_data"
    },
    {
     "data": {
      "text/html": [
       "<pre style=\"white-space:pre;overflow-x:auto;line-height:normal;font-family:Menlo,'DejaVu Sans Mono',consolas,'Courier New',monospace\">Preferred Scientific Name : Ateles belzebuth\n",
       "</pre>\n"
      ],
      "text/plain": [
       "Preferred Scientific Name : Ateles belzebuth\n"
      ]
     },
     "metadata": {},
     "output_type": "display_data"
    },
    {
     "data": {
      "text/html": [
       "<pre style=\"white-space:pre;overflow-x:auto;line-height:normal;font-family:Menlo,'DejaVu Sans Mono',consolas,'Courier New',monospace\">Places where it is found :  \n",
       "</pre>\n"
      ],
      "text/plain": [
       "Places where it is found :  \n"
      ]
     },
     "metadata": {},
     "output_type": "display_data"
    },
    {
     "data": {
      "text/html": [
       "<pre style=\"white-space:pre;overflow-x:auto;line-height:normal;font-family:Menlo,'DejaVu Sans Mono',consolas,'Courier New',monospace\">-----NUMBER <span style=\"color: #008080; text-decoration-color: #008080; font-weight: bold\">92</span>-----\n",
       "</pre>\n"
      ],
      "text/plain": [
       "-----NUMBER \u001b[1;36m92\u001b[0m-----\n"
      ]
     },
     "metadata": {},
     "output_type": "display_data"
    },
    {
     "data": {
      "text/html": [
       "<pre style=\"white-space:pre;overflow-x:auto;line-height:normal;font-family:Menlo,'DejaVu Sans Mono',consolas,'Courier New',monospace\">Preferred Common Name : Geoffroy's Woolly Monkey\n",
       "</pre>\n"
      ],
      "text/plain": [
       "Preferred Common Name : Geoffroy's Woolly Monkey\n"
      ]
     },
     "metadata": {},
     "output_type": "display_data"
    },
    {
     "data": {
      "text/html": [
       "<pre style=\"white-space:pre;overflow-x:auto;line-height:normal;font-family:Menlo,'DejaVu Sans Mono',consolas,'Courier New',monospace\">Preferred Scientific Name : Lagothrix cana\n",
       "</pre>\n"
      ],
      "text/plain": [
       "Preferred Scientific Name : Lagothrix cana\n"
      ]
     },
     "metadata": {},
     "output_type": "display_data"
    },
    {
     "data": {
      "text/html": [
       "<pre style=\"white-space:pre;overflow-x:auto;line-height:normal;font-family:Menlo,'DejaVu Sans Mono',consolas,'Courier New',monospace\">Places where it is found :  \n",
       "</pre>\n"
      ],
      "text/plain": [
       "Places where it is found :  \n"
      ]
     },
     "metadata": {},
     "output_type": "display_data"
    },
    {
     "data": {
      "text/html": [
       "<pre style=\"white-space:pre;overflow-x:auto;line-height:normal;font-family:Menlo,'DejaVu Sans Mono',consolas,'Courier New',monospace\">-----NUMBER <span style=\"color: #008080; text-decoration-color: #008080; font-weight: bold\">93</span>-----\n",
       "</pre>\n"
      ],
      "text/plain": [
       "-----NUMBER \u001b[1;36m93\u001b[0m-----\n"
      ]
     },
     "metadata": {},
     "output_type": "display_data"
    },
    {
     "data": {
      "text/html": [
       "<pre style=\"white-space:pre;overflow-x:auto;line-height:normal;font-family:Menlo,'DejaVu Sans Mono',consolas,'Courier New',monospace\">Preferred Common Name : North Bornean Gray Gibbon\n",
       "</pre>\n"
      ],
      "text/plain": [
       "Preferred Common Name : North Bornean Gray Gibbon\n"
      ]
     },
     "metadata": {},
     "output_type": "display_data"
    },
    {
     "data": {
      "text/html": [
       "<pre style=\"white-space:pre;overflow-x:auto;line-height:normal;font-family:Menlo,'DejaVu Sans Mono',consolas,'Courier New',monospace\">Preferred Scientific Name : Hylobates funereus\n",
       "</pre>\n"
      ],
      "text/plain": [
       "Preferred Scientific Name : Hylobates funereus\n"
      ]
     },
     "metadata": {},
     "output_type": "display_data"
    },
    {
     "data": {
      "text/html": [
       "<pre style=\"white-space:pre;overflow-x:auto;line-height:normal;font-family:Menlo,'DejaVu Sans Mono',consolas,'Courier New',monospace\">Places where it is found :  \n",
       "</pre>\n"
      ],
      "text/plain": [
       "Places where it is found :  \n"
      ]
     },
     "metadata": {},
     "output_type": "display_data"
    },
    {
     "data": {
      "text/html": [
       "<pre style=\"white-space:pre;overflow-x:auto;line-height:normal;font-family:Menlo,'DejaVu Sans Mono',consolas,'Courier New',monospace\">-----NUMBER <span style=\"color: #008080; text-decoration-color: #008080; font-weight: bold\">94</span>-----\n",
       "</pre>\n"
      ],
      "text/plain": [
       "-----NUMBER \u001b[1;36m94\u001b[0m-----\n"
      ]
     },
     "metadata": {},
     "output_type": "display_data"
    },
    {
     "data": {
      "text/html": [
       "<pre style=\"white-space:pre;overflow-x:auto;line-height:normal;font-family:Menlo,'DejaVu Sans Mono',consolas,'Courier New',monospace\">Preferred Common Name : White-cheeked Spider Monkey\n",
       "</pre>\n"
      ],
      "text/plain": [
       "Preferred Common Name : White-cheeked Spider Monkey\n"
      ]
     },
     "metadata": {},
     "output_type": "display_data"
    },
    {
     "data": {
      "text/html": [
       "<pre style=\"white-space:pre;overflow-x:auto;line-height:normal;font-family:Menlo,'DejaVu Sans Mono',consolas,'Courier New',monospace\">Preferred Scientific Name : Ateles marginatus\n",
       "</pre>\n"
      ],
      "text/plain": [
       "Preferred Scientific Name : Ateles marginatus\n"
      ]
     },
     "metadata": {},
     "output_type": "display_data"
    },
    {
     "data": {
      "text/html": [
       "<pre style=\"white-space:pre;overflow-x:auto;line-height:normal;font-family:Menlo,'DejaVu Sans Mono',consolas,'Courier New',monospace\">Places where it is found :  Brazil , \n",
       "</pre>\n"
      ],
      "text/plain": [
       "Places where it is found :  Brazil , \n"
      ]
     },
     "metadata": {},
     "output_type": "display_data"
    },
    {
     "data": {
      "text/html": [
       "<pre style=\"white-space:pre;overflow-x:auto;line-height:normal;font-family:Menlo,'DejaVu Sans Mono',consolas,'Courier New',monospace\">-----NUMBER <span style=\"color: #008080; text-decoration-color: #008080; font-weight: bold\">95</span>-----\n",
       "</pre>\n"
      ],
      "text/plain": [
       "-----NUMBER \u001b[1;36m95\u001b[0m-----\n"
      ]
     },
     "metadata": {},
     "output_type": "display_data"
    },
    {
     "data": {
      "text/html": [
       "<pre style=\"white-space:pre;overflow-x:auto;line-height:normal;font-family:Menlo,'DejaVu Sans Mono',consolas,'Courier New',monospace\">Preferred Common Name : Azara's Capuchin\n",
       "</pre>\n"
      ],
      "text/plain": [
       "Preferred Common Name : Azara's Capuchin\n"
      ]
     },
     "metadata": {},
     "output_type": "display_data"
    },
    {
     "data": {
      "text/html": [
       "<pre style=\"white-space:pre;overflow-x:auto;line-height:normal;font-family:Menlo,'DejaVu Sans Mono',consolas,'Courier New',monospace\">Preferred Scientific Name : Sapajus cay\n",
       "</pre>\n"
      ],
      "text/plain": [
       "Preferred Scientific Name : Sapajus cay\n"
      ]
     },
     "metadata": {},
     "output_type": "display_data"
    },
    {
     "data": {
      "text/html": [
       "<pre style=\"white-space:pre;overflow-x:auto;line-height:normal;font-family:Menlo,'DejaVu Sans Mono',consolas,'Courier New',monospace\">Places where it is found :  \n",
       "</pre>\n"
      ],
      "text/plain": [
       "Places where it is found :  \n"
      ]
     },
     "metadata": {},
     "output_type": "display_data"
    },
    {
     "data": {
      "text/html": [
       "<pre style=\"white-space:pre;overflow-x:auto;line-height:normal;font-family:Menlo,'DejaVu Sans Mono',consolas,'Courier New',monospace\">-----NUMBER <span style=\"color: #008080; text-decoration-color: #008080; font-weight: bold\">96</span>-----\n",
       "</pre>\n"
      ],
      "text/plain": [
       "-----NUMBER \u001b[1;36m96\u001b[0m-----\n"
      ]
     },
     "metadata": {},
     "output_type": "display_data"
    },
    {
     "data": {
      "text/html": [
       "<pre style=\"white-space:pre;overflow-x:auto;line-height:normal;font-family:Menlo,'DejaVu Sans Mono',consolas,'Courier New',monospace\">Preferred Common Name : Mona Monkey\n",
       "</pre>\n"
      ],
      "text/plain": [
       "Preferred Common Name : Mona Monkey\n"
      ]
     },
     "metadata": {},
     "output_type": "display_data"
    },
    {
     "data": {
      "text/html": [
       "<pre style=\"white-space:pre;overflow-x:auto;line-height:normal;font-family:Menlo,'DejaVu Sans Mono',consolas,'Courier New',monospace\">Preferred Scientific Name : Cercopithecus mona\n",
       "</pre>\n"
      ],
      "text/plain": [
       "Preferred Scientific Name : Cercopithecus mona\n"
      ]
     },
     "metadata": {},
     "output_type": "display_data"
    },
    {
     "data": {
      "text/html": [
       "<pre style=\"white-space:pre;overflow-x:auto;line-height:normal;font-family:Menlo,'DejaVu Sans Mono',consolas,'Courier New',monospace\">Places where it is found :  North America , Grenada , Sao Tome and Principe , São Tomé , \n",
       "Saint Andrew , Príncipe , Pagué , Caué , Lesser Antilles , \n",
       "</pre>\n"
      ],
      "text/plain": [
       "Places where it is found :  North America , Grenada , Sao Tome and Principe , São Tomé , \n",
       "Saint Andrew , Príncipe , Pagué , Caué , Lesser Antilles , \n"
      ]
     },
     "metadata": {},
     "output_type": "display_data"
    },
    {
     "data": {
      "text/html": [
       "<pre style=\"white-space:pre;overflow-x:auto;line-height:normal;font-family:Menlo,'DejaVu Sans Mono',consolas,'Courier New',monospace\">-----NUMBER <span style=\"color: #008080; text-decoration-color: #008080; font-weight: bold\">97</span>-----\n",
       "</pre>\n"
      ],
      "text/plain": [
       "-----NUMBER \u001b[1;36m97\u001b[0m-----\n"
      ]
     },
     "metadata": {},
     "output_type": "display_data"
    },
    {
     "data": {
      "text/html": [
       "<pre style=\"white-space:pre;overflow-x:auto;line-height:normal;font-family:Menlo,'DejaVu Sans Mono',consolas,'Courier New',monospace\">Preferred Common Name : Sumatran Surili\n",
       "</pre>\n"
      ],
      "text/plain": [
       "Preferred Common Name : Sumatran Surili\n"
      ]
     },
     "metadata": {},
     "output_type": "display_data"
    },
    {
     "data": {
      "text/html": [
       "<pre style=\"white-space:pre;overflow-x:auto;line-height:normal;font-family:Menlo,'DejaVu Sans Mono',consolas,'Courier New',monospace\">Preferred Scientific Name : Presbytis melalophos\n",
       "</pre>\n"
      ],
      "text/plain": [
       "Preferred Scientific Name : Presbytis melalophos\n"
      ]
     },
     "metadata": {},
     "output_type": "display_data"
    },
    {
     "data": {
      "text/html": [
       "<pre style=\"white-space:pre;overflow-x:auto;line-height:normal;font-family:Menlo,'DejaVu Sans Mono',consolas,'Courier New',monospace\">Places where it is found :  Indonesia , \n",
       "</pre>\n"
      ],
      "text/plain": [
       "Places where it is found :  Indonesia , \n"
      ]
     },
     "metadata": {},
     "output_type": "display_data"
    },
    {
     "data": {
      "text/html": [
       "<pre style=\"white-space:pre;overflow-x:auto;line-height:normal;font-family:Menlo,'DejaVu Sans Mono',consolas,'Courier New',monospace\">-----NUMBER <span style=\"color: #008080; text-decoration-color: #008080; font-weight: bold\">98</span>-----\n",
       "</pre>\n"
      ],
      "text/plain": [
       "-----NUMBER \u001b[1;36m98\u001b[0m-----\n"
      ]
     },
     "metadata": {},
     "output_type": "display_data"
    },
    {
     "data": {
      "text/html": [
       "<pre style=\"white-space:pre;overflow-x:auto;line-height:normal;font-family:Menlo,'DejaVu Sans Mono',consolas,'Courier New',monospace\">Preferred Common Name : Javan Gibbon\n",
       "</pre>\n"
      ],
      "text/plain": [
       "Preferred Common Name : Javan Gibbon\n"
      ]
     },
     "metadata": {},
     "output_type": "display_data"
    },
    {
     "data": {
      "text/html": [
       "<pre style=\"white-space:pre;overflow-x:auto;line-height:normal;font-family:Menlo,'DejaVu Sans Mono',consolas,'Courier New',monospace\">Preferred Scientific Name : Hylobates moloch\n",
       "</pre>\n"
      ],
      "text/plain": [
       "Preferred Scientific Name : Hylobates moloch\n"
      ]
     },
     "metadata": {},
     "output_type": "display_data"
    },
    {
     "data": {
      "text/html": [
       "<pre style=\"white-space:pre;overflow-x:auto;line-height:normal;font-family:Menlo,'DejaVu Sans Mono',consolas,'Courier New',monospace\">Places where it is found :  Indonesia , \n",
       "</pre>\n"
      ],
      "text/plain": [
       "Places where it is found :  Indonesia , \n"
      ]
     },
     "metadata": {},
     "output_type": "display_data"
    },
    {
     "data": {
      "text/html": [
       "<pre style=\"white-space:pre;overflow-x:auto;line-height:normal;font-family:Menlo,'DejaVu Sans Mono',consolas,'Courier New',monospace\">-----NUMBER <span style=\"color: #008080; text-decoration-color: #008080; font-weight: bold\">99</span>-----\n",
       "</pre>\n"
      ],
      "text/plain": [
       "-----NUMBER \u001b[1;36m99\u001b[0m-----\n"
      ]
     },
     "metadata": {},
     "output_type": "display_data"
    },
    {
     "data": {
      "text/html": [
       "<pre style=\"white-space:pre;overflow-x:auto;line-height:normal;font-family:Menlo,'DejaVu Sans Mono',consolas,'Courier New',monospace\">Preferred Common Name : Hamadryas Baboon\n",
       "</pre>\n"
      ],
      "text/plain": [
       "Preferred Common Name : Hamadryas Baboon\n"
      ]
     },
     "metadata": {},
     "output_type": "display_data"
    },
    {
     "data": {
      "text/html": [
       "<pre style=\"white-space:pre;overflow-x:auto;line-height:normal;font-family:Menlo,'DejaVu Sans Mono',consolas,'Courier New',monospace\">Preferred Scientific Name : Papio hamadryas\n",
       "</pre>\n"
      ],
      "text/plain": [
       "Preferred Scientific Name : Papio hamadryas\n"
      ]
     },
     "metadata": {},
     "output_type": "display_data"
    },
    {
     "data": {
      "text/html": [
       "<pre style=\"white-space:pre;overflow-x:auto;line-height:normal;font-family:Menlo,'DejaVu Sans Mono',consolas,'Courier New',monospace\">Places where it is found :  Makkah , Zoológico de Chapultepec , \n",
       "</pre>\n"
      ],
      "text/plain": [
       "Places where it is found :  Makkah , Zoológico de Chapultepec , \n"
      ]
     },
     "metadata": {},
     "output_type": "display_data"
    },
    {
     "data": {
      "text/html": [
       "<pre style=\"white-space:pre;overflow-x:auto;line-height:normal;font-family:Menlo,'DejaVu Sans Mono',consolas,'Courier New',monospace\">-----NUMBER <span style=\"color: #008080; text-decoration-color: #008080; font-weight: bold\">100</span>-----\n",
       "</pre>\n"
      ],
      "text/plain": [
       "-----NUMBER \u001b[1;36m100\u001b[0m-----\n"
      ]
     },
     "metadata": {},
     "output_type": "display_data"
    },
    {
     "data": {
      "text/html": [
       "<pre style=\"white-space:pre;overflow-x:auto;line-height:normal;font-family:Menlo,'DejaVu Sans Mono',consolas,'Courier New',monospace\">Preferred Common Name : Gursky's Spectral Tarsier\n",
       "</pre>\n"
      ],
      "text/plain": [
       "Preferred Common Name : Gursky's Spectral Tarsier\n"
      ]
     },
     "metadata": {},
     "output_type": "display_data"
    },
    {
     "data": {
      "text/html": [
       "<pre style=\"white-space:pre;overflow-x:auto;line-height:normal;font-family:Menlo,'DejaVu Sans Mono',consolas,'Courier New',monospace\">Preferred Scientific Name : Tarsius spectrumgurskyae\n",
       "</pre>\n"
      ],
      "text/plain": [
       "Preferred Scientific Name : Tarsius spectrumgurskyae\n"
      ]
     },
     "metadata": {},
     "output_type": "display_data"
    },
    {
     "data": {
      "text/html": [
       "<pre style=\"white-space:pre;overflow-x:auto;line-height:normal;font-family:Menlo,'DejaVu Sans Mono',consolas,'Courier New',monospace\">Places where it is found :  \n",
       "</pre>\n"
      ],
      "text/plain": [
       "Places where it is found :  \n"
      ]
     },
     "metadata": {},
     "output_type": "display_data"
    },
    {
     "data": {
      "text/html": [
       "<pre style=\"white-space:pre;overflow-x:auto;line-height:normal;font-family:Menlo,'DejaVu Sans Mono',consolas,'Courier New',monospace\">-----NUMBER <span style=\"color: #008080; text-decoration-color: #008080; font-weight: bold\">101</span>-----\n",
       "</pre>\n"
      ],
      "text/plain": [
       "-----NUMBER \u001b[1;36m101\u001b[0m-----\n"
      ]
     },
     "metadata": {},
     "output_type": "display_data"
    },
    {
     "data": {
      "text/html": [
       "<pre style=\"white-space:pre;overflow-x:auto;line-height:normal;font-family:Menlo,'DejaVu Sans Mono',consolas,'Courier New',monospace\">Preferred Common Name : Spix's Night Monkey\n",
       "</pre>\n"
      ],
      "text/plain": [
       "Preferred Common Name : Spix's Night Monkey\n"
      ]
     },
     "metadata": {},
     "output_type": "display_data"
    },
    {
     "data": {
      "text/html": [
       "<pre style=\"white-space:pre;overflow-x:auto;line-height:normal;font-family:Menlo,'DejaVu Sans Mono',consolas,'Courier New',monospace\">Preferred Scientific Name : Aotus vociferans\n",
       "</pre>\n"
      ],
      "text/plain": [
       "Preferred Scientific Name : Aotus vociferans\n"
      ]
     },
     "metadata": {},
     "output_type": "display_data"
    },
    {
     "data": {
      "text/html": [
       "<pre style=\"white-space:pre;overflow-x:auto;line-height:normal;font-family:Menlo,'DejaVu Sans Mono',consolas,'Courier New',monospace\">Places where it is found :  \n",
       "</pre>\n"
      ],
      "text/plain": [
       "Places where it is found :  \n"
      ]
     },
     "metadata": {},
     "output_type": "display_data"
    },
    {
     "data": {
      "text/html": [
       "<pre style=\"white-space:pre;overflow-x:auto;line-height:normal;font-family:Menlo,'DejaVu Sans Mono',consolas,'Courier New',monospace\">-----NUMBER <span style=\"color: #008080; text-decoration-color: #008080; font-weight: bold\">102</span>-----\n",
       "</pre>\n"
      ],
      "text/plain": [
       "-----NUMBER \u001b[1;36m102\u001b[0m-----\n"
      ]
     },
     "metadata": {},
     "output_type": "display_data"
    },
    {
     "data": {
      "text/html": [
       "<pre style=\"white-space:pre;overflow-x:auto;line-height:normal;font-family:Menlo,'DejaVu Sans Mono',consolas,'Courier New',monospace\">Preferred Common Name : Phayre's Leaf Monkey\n",
       "</pre>\n"
      ],
      "text/plain": [
       "Preferred Common Name : Phayre's Leaf Monkey\n"
      ]
     },
     "metadata": {},
     "output_type": "display_data"
    },
    {
     "data": {
      "text/html": [
       "<pre style=\"white-space:pre;overflow-x:auto;line-height:normal;font-family:Menlo,'DejaVu Sans Mono',consolas,'Courier New',monospace\">Preferred Scientific Name : Trachypithecus phayrei\n",
       "</pre>\n"
      ],
      "text/plain": [
       "Preferred Scientific Name : Trachypithecus phayrei\n"
      ]
     },
     "metadata": {},
     "output_type": "display_data"
    },
    {
     "data": {
      "text/html": [
       "<pre style=\"white-space:pre;overflow-x:auto;line-height:normal;font-family:Menlo,'DejaVu Sans Mono',consolas,'Courier New',monospace\">Places where it is found :  \n",
       "</pre>\n"
      ],
      "text/plain": [
       "Places where it is found :  \n"
      ]
     },
     "metadata": {},
     "output_type": "display_data"
    },
    {
     "data": {
      "text/html": [
       "<pre style=\"white-space:pre;overflow-x:auto;line-height:normal;font-family:Menlo,'DejaVu Sans Mono',consolas,'Courier New',monospace\">-----NUMBER <span style=\"color: #008080; text-decoration-color: #008080; font-weight: bold\">103</span>-----\n",
       "</pre>\n"
      ],
      "text/plain": [
       "-----NUMBER \u001b[1;36m103\u001b[0m-----\n"
      ]
     },
     "metadata": {},
     "output_type": "display_data"
    },
    {
     "data": {
      "text/html": [
       "<pre style=\"white-space:pre;overflow-x:auto;line-height:normal;font-family:Menlo,'DejaVu Sans Mono',consolas,'Courier New',monospace\">Preferred Common Name : Black-fronted Titi\n",
       "</pre>\n"
      ],
      "text/plain": [
       "Preferred Common Name : Black-fronted Titi\n"
      ]
     },
     "metadata": {},
     "output_type": "display_data"
    },
    {
     "data": {
      "text/html": [
       "<pre style=\"white-space:pre;overflow-x:auto;line-height:normal;font-family:Menlo,'DejaVu Sans Mono',consolas,'Courier New',monospace\">Preferred Scientific Name : Callicebus nigrifrons\n",
       "</pre>\n"
      ],
      "text/plain": [
       "Preferred Scientific Name : Callicebus nigrifrons\n"
      ]
     },
     "metadata": {},
     "output_type": "display_data"
    },
    {
     "data": {
      "text/html": [
       "<pre style=\"white-space:pre;overflow-x:auto;line-height:normal;font-family:Menlo,'DejaVu Sans Mono',consolas,'Courier New',monospace\">Places where it is found :  South America , Brazil , \n",
       "</pre>\n"
      ],
      "text/plain": [
       "Places where it is found :  South America , Brazil , \n"
      ]
     },
     "metadata": {},
     "output_type": "display_data"
    },
    {
     "ename": "HTTPError",
     "evalue": "429 Client Error: Too Many Requests for url: https://api.inaturalist.org/v1/taxa/43686",
     "output_type": "error",
     "traceback": [
      "\u001b[0;31m---------------------------------------------------------------------------\u001b[0m",
      "\u001b[0;31mHTTPError\u001b[0m                                 Traceback (most recent call last)",
      "\u001b[1;32m/home/sunnysoni/Documents/kr_web_assignment/KRW-Project6/fetcher_api/test_notebook.ipynb Cell 5'\u001b[0m in \u001b[0;36m<module>\u001b[0;34m\u001b[0m\n\u001b[1;32m      <a href='vscode-notebook-cell:/home/sunnysoni/Documents/kr_web_assignment/KRW-Project6/fetcher_api/test_notebook.ipynb#ch0000004?line=2'>3</a>\u001b[0m i\u001b[39m=\u001b[39m\u001b[39m1\u001b[39m\n\u001b[1;32m      <a href='vscode-notebook-cell:/home/sunnysoni/Documents/kr_web_assignment/KRW-Project6/fetcher_api/test_notebook.ipynb#ch0000004?line=4'>5</a>\u001b[0m \u001b[39mfor\u001b[39;00m elem \u001b[39min\u001b[39;00m obs_array:\n\u001b[0;32m----> <a href='vscode-notebook-cell:/home/sunnysoni/Documents/kr_web_assignment/KRW-Project6/fetcher_api/test_notebook.ipynb#ch0000004?line=6'>7</a>\u001b[0m     response2 \u001b[39m=\u001b[39m api_inat\u001b[39m.\u001b[39;49mget_taxa_by_id(elem\u001b[39m.\u001b[39;49mtaxon\u001b[39m.\u001b[39;49mid)\n\u001b[1;32m      <a href='vscode-notebook-cell:/home/sunnysoni/Documents/kr_web_assignment/KRW-Project6/fetcher_api/test_notebook.ipynb#ch0000004?line=8'>9</a>\u001b[0m     \u001b[39mprint\u001b[39m(\u001b[39m\"\u001b[39m\u001b[39m-----NUMBER \u001b[39m\u001b[39m\"\u001b[39m\u001b[39m+\u001b[39m\u001b[39mstr\u001b[39m(i)\u001b[39m+\u001b[39m\u001b[39m\"\u001b[39m\u001b[39m-----\u001b[39m\u001b[39m\"\u001b[39m)\n\u001b[1;32m     <a href='vscode-notebook-cell:/home/sunnysoni/Documents/kr_web_assignment/KRW-Project6/fetcher_api/test_notebook.ipynb#ch0000004?line=9'>10</a>\u001b[0m     \u001b[39mprint\u001b[39m(\u001b[39m\"\u001b[39m\u001b[39mPreferred Common Name : \u001b[39m\u001b[39m\"\u001b[39m\u001b[39m+\u001b[39mresponse2[\u001b[39m'\u001b[39m\u001b[39mresults\u001b[39m\u001b[39m'\u001b[39m][\u001b[39m0\u001b[39m][\u001b[39m'\u001b[39m\u001b[39mpreferred_common_name\u001b[39m\u001b[39m'\u001b[39m])\n",
      "File \u001b[0;32m~/Documents/kr_web_assignment/py_env/lib/python3.8/site-packages/pyinaturalist/v1/taxa.py:72\u001b[0m, in \u001b[0;36mget_taxa_by_id\u001b[0;34m(taxon_id, **params)\u001b[0m\n\u001b[1;32m     <a href='file:///~/Documents/kr_web_assignment/py_env/lib/python3.8/site-packages/pyinaturalist/v1/taxa.py?line=42'>43</a>\u001b[0m \u001b[39mdef\u001b[39;00m \u001b[39mget_taxa_by_id\u001b[39m(taxon_id: MultiInt, \u001b[39m*\u001b[39m\u001b[39m*\u001b[39mparams) \u001b[39m-\u001b[39m\u001b[39m>\u001b[39m JsonResponse:\n\u001b[1;32m     <a href='file:///~/Documents/kr_web_assignment/py_env/lib/python3.8/site-packages/pyinaturalist/v1/taxa.py?line=43'>44</a>\u001b[0m     \u001b[39m\"\"\"Get one or more taxa by ID\u001b[39;00m\n\u001b[1;32m     <a href='file:///~/Documents/kr_web_assignment/py_env/lib/python3.8/site-packages/pyinaturalist/v1/taxa.py?line=44'>45</a>\u001b[0m \n\u001b[1;32m     <a href='file:///~/Documents/kr_web_assignment/py_env/lib/python3.8/site-packages/pyinaturalist/v1/taxa.py?line=45'>46</a>\u001b[0m \u001b[39m    .. rubric:: Notes\u001b[39;00m\n\u001b[0;32m   (...)\u001b[0m\n\u001b[1;32m     <a href='file:///~/Documents/kr_web_assignment/py_env/lib/python3.8/site-packages/pyinaturalist/v1/taxa.py?line=69'>70</a>\u001b[0m \u001b[39m        Response dict containing taxon records\u001b[39;00m\n\u001b[1;32m     <a href='file:///~/Documents/kr_web_assignment/py_env/lib/python3.8/site-packages/pyinaturalist/v1/taxa.py?line=70'>71</a>\u001b[0m \u001b[39m    \"\"\"\u001b[39;00m\n\u001b[0;32m---> <a href='file:///~/Documents/kr_web_assignment/py_env/lib/python3.8/site-packages/pyinaturalist/v1/taxa.py?line=71'>72</a>\u001b[0m     response \u001b[39m=\u001b[39m get_v1(\u001b[39m'\u001b[39;49m\u001b[39mtaxa\u001b[39;49m\u001b[39m'\u001b[39;49m, ids\u001b[39m=\u001b[39;49mtaxon_id, \u001b[39m*\u001b[39;49m\u001b[39m*\u001b[39;49mparams)\n\u001b[1;32m     <a href='file:///~/Documents/kr_web_assignment/py_env/lib/python3.8/site-packages/pyinaturalist/v1/taxa.py?line=72'>73</a>\u001b[0m     taxa \u001b[39m=\u001b[39m response\u001b[39m.\u001b[39mjson()\n\u001b[1;32m     <a href='file:///~/Documents/kr_web_assignment/py_env/lib/python3.8/site-packages/pyinaturalist/v1/taxa.py?line=73'>74</a>\u001b[0m     taxa[\u001b[39m'\u001b[39m\u001b[39mresults\u001b[39m\u001b[39m'\u001b[39m] \u001b[39m=\u001b[39m convert_all_timestamps(taxa[\u001b[39m'\u001b[39m\u001b[39mresults\u001b[39m\u001b[39m'\u001b[39m])\n",
      "File \u001b[0;32m~/Documents/kr_web_assignment/py_env/lib/python3.8/site-packages/pyinaturalist/v1/__init__.py:16\u001b[0m, in \u001b[0;36mget_v1\u001b[0;34m(endpoint, **kwargs)\u001b[0m\n\u001b[1;32m     <a href='file:///~/Documents/kr_web_assignment/py_env/lib/python3.8/site-packages/pyinaturalist/v1/__init__.py?line=13'>14</a>\u001b[0m \u001b[39mdef\u001b[39;00m \u001b[39mget_v1\u001b[39m(endpoint: \u001b[39mstr\u001b[39m, \u001b[39m*\u001b[39m\u001b[39m*\u001b[39mkwargs) \u001b[39m-\u001b[39m\u001b[39m>\u001b[39m Response:\n\u001b[1;32m     <a href='file:///~/Documents/kr_web_assignment/py_env/lib/python3.8/site-packages/pyinaturalist/v1/__init__.py?line=14'>15</a>\u001b[0m     \u001b[39m\"\"\"Make a GET request to iNaturalist API v1\"\"\"\u001b[39;00m\n\u001b[0;32m---> <a href='file:///~/Documents/kr_web_assignment/py_env/lib/python3.8/site-packages/pyinaturalist/v1/__init__.py?line=15'>16</a>\u001b[0m     \u001b[39mreturn\u001b[39;00m get(\u001b[39mf\u001b[39;49m\u001b[39m'\u001b[39;49m\u001b[39m{\u001b[39;49;00mAPI_V1_BASE_URL\u001b[39m}\u001b[39;49;00m\u001b[39m/\u001b[39;49m\u001b[39m{\u001b[39;49;00mendpoint\u001b[39m}\u001b[39;49;00m\u001b[39m'\u001b[39;49m, \u001b[39m*\u001b[39;49m\u001b[39m*\u001b[39;49mkwargs)\n",
      "File \u001b[0;32m~/Documents/kr_web_assignment/py_env/lib/python3.8/site-packages/forge/_revision.py:328\u001b[0m, in \u001b[0;36mRevision.__call__.<locals>.inner\u001b[0;34m(*args, **kwargs)\u001b[0m\n\u001b[1;32m    <a href='file:///~/Documents/kr_web_assignment/py_env/lib/python3.8/site-packages/forge/_revision.py?line=323'>324</a>\u001b[0m \u001b[39m@functools\u001b[39m\u001b[39m.\u001b[39mwraps(callable)  \u001b[39m# type: ignore\u001b[39;00m\n\u001b[1;32m    <a href='file:///~/Documents/kr_web_assignment/py_env/lib/python3.8/site-packages/forge/_revision.py?line=324'>325</a>\u001b[0m \u001b[39mdef\u001b[39;00m \u001b[39minner\u001b[39m(\u001b[39m*\u001b[39margs, \u001b[39m*\u001b[39m\u001b[39m*\u001b[39mkwargs):\n\u001b[1;32m    <a href='file:///~/Documents/kr_web_assignment/py_env/lib/python3.8/site-packages/forge/_revision.py?line=325'>326</a>\u001b[0m     \u001b[39m# pylint: disable=E1102, not-callable\u001b[39;00m\n\u001b[1;32m    <a href='file:///~/Documents/kr_web_assignment/py_env/lib/python3.8/site-packages/forge/_revision.py?line=326'>327</a>\u001b[0m     mapped \u001b[39m=\u001b[39m inner\u001b[39m.\u001b[39m__mapper__(\u001b[39m*\u001b[39margs, \u001b[39m*\u001b[39m\u001b[39m*\u001b[39mkwargs)\n\u001b[0;32m--> <a href='file:///~/Documents/kr_web_assignment/py_env/lib/python3.8/site-packages/forge/_revision.py?line=327'>328</a>\u001b[0m     \u001b[39mreturn\u001b[39;00m callable(\u001b[39m*\u001b[39;49mmapped\u001b[39m.\u001b[39;49margs, \u001b[39m*\u001b[39;49m\u001b[39m*\u001b[39;49mmapped\u001b[39m.\u001b[39;49mkwargs)\n",
      "File \u001b[0;32m~/Documents/kr_web_assignment/py_env/lib/python3.8/site-packages/pyinaturalist/api_requests.py:229\u001b[0m, in \u001b[0;36mget\u001b[0;34m(url, **kwargs)\u001b[0m\n\u001b[1;32m    <a href='file:///~/Documents/kr_web_assignment/py_env/lib/python3.8/site-packages/pyinaturalist/api_requests.py?line=225'>226</a>\u001b[0m \u001b[39m@forge\u001b[39m\u001b[39m.\u001b[39mcopy(request, exclude\u001b[39m=\u001b[39m\u001b[39m'\u001b[39m\u001b[39mmethod\u001b[39m\u001b[39m'\u001b[39m)\n\u001b[1;32m    <a href='file:///~/Documents/kr_web_assignment/py_env/lib/python3.8/site-packages/pyinaturalist/api_requests.py?line=226'>227</a>\u001b[0m \u001b[39mdef\u001b[39;00m \u001b[39mget\u001b[39m(url: \u001b[39mstr\u001b[39m, \u001b[39m*\u001b[39m\u001b[39m*\u001b[39mkwargs) \u001b[39m-\u001b[39m\u001b[39m>\u001b[39m Response:\n\u001b[1;32m    <a href='file:///~/Documents/kr_web_assignment/py_env/lib/python3.8/site-packages/pyinaturalist/api_requests.py?line=227'>228</a>\u001b[0m     \u001b[39m\"\"\"Wrapper around :py:func:`requests.get` with additional options specific to iNat API requests\"\"\"\u001b[39;00m\n\u001b[0;32m--> <a href='file:///~/Documents/kr_web_assignment/py_env/lib/python3.8/site-packages/pyinaturalist/api_requests.py?line=228'>229</a>\u001b[0m     \u001b[39mreturn\u001b[39;00m request(\u001b[39m'\u001b[39;49m\u001b[39mGET\u001b[39;49m\u001b[39m'\u001b[39;49m, url, \u001b[39m*\u001b[39;49m\u001b[39m*\u001b[39;49mkwargs)\n",
      "File \u001b[0;32m~/Documents/kr_web_assignment/py_env/lib/python3.8/site-packages/pyinaturalist/api_requests.py:177\u001b[0m, in \u001b[0;36mrequest\u001b[0;34m(method, url, access_token, dry_run, files, headers, ids, json, raise_for_status, session, user_agent, **params)\u001b[0m\n\u001b[1;32m    <a href='file:///~/Documents/kr_web_assignment/py_env/lib/python3.8/site-packages/pyinaturalist/api_requests.py?line=174'>175</a>\u001b[0m response \u001b[39m=\u001b[39m session\u001b[39m.\u001b[39msend(request)\n\u001b[1;32m    <a href='file:///~/Documents/kr_web_assignment/py_env/lib/python3.8/site-packages/pyinaturalist/api_requests.py?line=175'>176</a>\u001b[0m \u001b[39mif\u001b[39;00m raise_for_status:\n\u001b[0;32m--> <a href='file:///~/Documents/kr_web_assignment/py_env/lib/python3.8/site-packages/pyinaturalist/api_requests.py?line=176'>177</a>\u001b[0m     response\u001b[39m.\u001b[39;49mraise_for_status()\n\u001b[1;32m    <a href='file:///~/Documents/kr_web_assignment/py_env/lib/python3.8/site-packages/pyinaturalist/api_requests.py?line=177'>178</a>\u001b[0m \u001b[39mreturn\u001b[39;00m response\n",
      "File \u001b[0;32m~/Documents/kr_web_assignment/py_env/lib/python3.8/site-packages/requests/models.py:960\u001b[0m, in \u001b[0;36mResponse.raise_for_status\u001b[0;34m(self)\u001b[0m\n\u001b[1;32m    <a href='file:///~/Documents/kr_web_assignment/py_env/lib/python3.8/site-packages/requests/models.py?line=956'>957</a>\u001b[0m     http_error_msg \u001b[39m=\u001b[39m \u001b[39mu\u001b[39m\u001b[39m'\u001b[39m\u001b[39m%s\u001b[39;00m\u001b[39m Server Error: \u001b[39m\u001b[39m%s\u001b[39;00m\u001b[39m for url: \u001b[39m\u001b[39m%s\u001b[39;00m\u001b[39m'\u001b[39m \u001b[39m%\u001b[39m (\u001b[39mself\u001b[39m\u001b[39m.\u001b[39mstatus_code, reason, \u001b[39mself\u001b[39m\u001b[39m.\u001b[39murl)\n\u001b[1;32m    <a href='file:///~/Documents/kr_web_assignment/py_env/lib/python3.8/site-packages/requests/models.py?line=958'>959</a>\u001b[0m \u001b[39mif\u001b[39;00m http_error_msg:\n\u001b[0;32m--> <a href='file:///~/Documents/kr_web_assignment/py_env/lib/python3.8/site-packages/requests/models.py?line=959'>960</a>\u001b[0m     \u001b[39mraise\u001b[39;00m HTTPError(http_error_msg, response\u001b[39m=\u001b[39m\u001b[39mself\u001b[39m)\n",
      "\u001b[0;31mHTTPError\u001b[0m: 429 Client Error: Too Many Requests for url: https://api.inaturalist.org/v1/taxa/43686"
     ]
    }
   ],
   "source": [
    "print('List of species with common name, scientific name and list of places where it is found : ')\n",
    "\n",
    "i=1\n",
    "\n",
    "for elem in obs_array:\n",
    "\n",
    "    response2 = api_inat.get_taxa_by_id(elem.taxon.id)\n",
    "    \n",
    "    print(\"-----NUMBER \"+str(i)+\"-----\")\n",
    "    print(\"Preferred Common Name : \"+response2['results'][0]['preferred_common_name'])\n",
    "    print(\"Preferred Scientific Name : \"+response2['results'][0]['name'])\n",
    "    places_list = ''\n",
    "    for place in response2['results'][0]['listed_taxa']:\n",
    "        places_list += str(place['place']['name']+' , ')\n",
    "    print(\"Places where it is found : \", places_list)\n",
    "    i+=1"
   ]
  },
  {
   "cell_type": "code",
   "execution_count": null,
   "metadata": {},
   "outputs": [],
   "source": []
  }
 ],
 "metadata": {
  "interpreter": {
   "hash": "9f766fffbc03b945402d4519abda862a651c5d16f73753e254818c74bb2eaa10"
  },
  "kernelspec": {
   "display_name": "Python 3.8.10 ('py_env': venv)",
   "language": "python",
   "name": "python3"
  },
  "language_info": {
   "codemirror_mode": {
    "name": "ipython",
    "version": 3
   },
   "file_extension": ".py",
   "mimetype": "text/x-python",
   "name": "python",
   "nbconvert_exporter": "python",
   "pygments_lexer": "ipython3",
   "version": "3.8.10"
  },
  "orig_nbformat": 4
 },
 "nbformat": 4,
 "nbformat_minor": 2
}
