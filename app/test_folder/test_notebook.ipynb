{
 "cells": [
  {
   "cell_type": "code",
   "execution_count": 1,
   "metadata": {},
   "outputs": [],
   "source": [
    "from SPARQLWrapper import SPARQLWrapper, JSON\n",
    "from pprint import pprint"
   ]
  },
  {
   "cell_type": "code",
   "execution_count": 6,
   "metadata": {},
   "outputs": [],
   "source": [
    "sparql = SPARQLWrapper(\"http://dbpedia.org/sparql\")\n",
    "\n",
    "sparql.setQuery(\"\"\"\n",
    "    PREFIX rdfs: <http://www.w3.org/2000/01/rdf-schema#>\n",
    "    PREFIX dbo: <http://dbpedia.org/ontology/>\n",
    "    PREFIX dbp: <http://dbpedia.org/property/>\n",
    "\n",
    "    SELECT ?res (MAX(?pop) as ?pop)\n",
    "    WHERE {<http://dbpedia.org/resource/New_York_(state)> rdfs:comment ?res.\n",
    "            <http://dbpedia.org/resource/New_York_(state)> dbp:pop ?pop.\n",
    "            FILTER(LANG(?res)=\"en\")\n",
    "    }\n",
    "\"\"\"\n",
    ")\n",
    "\n",
    "sparql.setReturnFormat(JSON)\n",
    "\n",
    "result = sparql.query().convert()\n"
   ]
  },
  {
   "cell_type": "code",
   "execution_count": 7,
   "metadata": {},
   "outputs": [
    {
     "name": "stdout",
     "output_type": "stream",
     "text": [
      "{'head': {'link': [], 'vars': ['res', 'pop']},\n",
      " 'results': {'bindings': [{'pop': {'datatype': 'http://www.w3.org/2001/XMLSchema#integer',\n",
      "                                   'type': 'typed-literal',\n",
      "                                   'value': '8804190'},\n",
      "                           'res': {'type': 'literal',\n",
      "                                   'value': 'New York is a state in the '\n",
      "                                            'Northeastern United States. It '\n",
      "                                            'was one of the original thirteen '\n",
      "                                            'colonies forming the United '\n",
      "                                            'States. With a total area of '\n",
      "                                            '54,556 square miles (141,300 '\n",
      "                                            'km2), New York is the 27th '\n",
      "                                            'largest state geographically. Its '\n",
      "                                            'population of more than 20 '\n",
      "                                            'million people makes it the '\n",
      "                                            'fourth most populous state in the '\n",
      "                                            'United States as of 2020. The '\n",
      "                                            'state is bordered by New Jersey '\n",
      "                                            'and Pennsylvania to the south, '\n",
      "                                            'and Connecticut, Massachusetts, '\n",
      "                                            'and Vermont to the east; it has a '\n",
      "                                            'maritime border with Rhode '\n",
      "                                            'Island, east of Long Island, as '\n",
      "                                            'well as an international border '\n",
      "                                            'with the Canadian provinces of '\n",
      "                                            'Quebec to the north and Ontario '\n",
      "                                            'to the northwest. It is sometimes '\n",
      "                                            'called New York State to '\n",
      "                                            'distinguish it from its largest '\n",
      "                                            'city, New York City.',\n",
      "                                   'xml:lang': 'en'}}],\n",
      "             'distinct': False,\n",
      "             'ordered': True}}\n"
     ]
    }
   ],
   "source": [
    "pprint(result)"
   ]
  },
  {
   "cell_type": "code",
   "execution_count": 19,
   "metadata": {},
   "outputs": [
    {
     "name": "stdout",
     "output_type": "stream",
     "text": [
      "res  :  New York is a state in the Northeastern United States. It was one of the original thirteen colonies forming the United States. With a total area of 54,556 square miles (141,300 km2), New York is the 27th largest state geographically. Its population of more than 20 million people makes it the fourth most populous state in the United States as of 2020. The state is bordered by New Jersey and Pennsylvania to the south, and Connecticut, Massachusetts, and Vermont to the east; it has a maritime border with Rhode Island, east of Long Island, as well as an international border with the Canadian provinces of Quebec to the north and Ontario to the northwest. It is sometimes called New York State to distinguish it from its largest city, New York City.\n",
      "pop  :  8804190\n"
     ]
    }
   ],
   "source": [
    "res_dict = result['results']['bindings']\n",
    "for res_var in res_dict[0].keys():\n",
    "    print(res_var,\" : \",res_dict[0][res_var]['value'])"
   ]
  }
 ],
 "metadata": {
  "interpreter": {
   "hash": "9f766fffbc03b945402d4519abda862a651c5d16f73753e254818c74bb2eaa10"
  },
  "kernelspec": {
   "display_name": "Python 3.8.10 ('py_env': venv)",
   "language": "python",
   "name": "python3"
  },
  "language_info": {
   "codemirror_mode": {
    "name": "ipython",
    "version": 3
   },
   "file_extension": ".py",
   "mimetype": "text/x-python",
   "name": "python",
   "nbconvert_exporter": "python",
   "pygments_lexer": "ipython3",
   "version": "3.8.10"
  },
  "orig_nbformat": 4
 },
 "nbformat": 4,
 "nbformat_minor": 2
}
